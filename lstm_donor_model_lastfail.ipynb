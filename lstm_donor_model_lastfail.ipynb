{
  "nbformat": 4,
  "nbformat_minor": 0,
  "metadata": {
    "colab": {
      "name": "lstm_donor_model_1.ipynb",
      "provenance": [],
      "collapsed_sections": [],
      "include_colab_link": true
    },
    "kernelspec": {
      "name": "python3",
      "display_name": "Python 3"
    },
    "language_info": {
      "name": "python"
    },
    "gpuClass": "standard",
    "accelerator": "GPU"
  },
  "cells": [
    {
      "cell_type": "markdown",
      "metadata": {
        "id": "view-in-github",
        "colab_type": "text"
      },
      "source": [
        "<a href=\"https://colab.research.google.com/github/vi-sync/aai_ccollab/blob/main/lstm_donor_model_lastfail.ipynb\" target=\"_parent\"><img src=\"https://colab.research.google.com/assets/colab-badge.svg\" alt=\"Open In Colab\"/></a>"
      ]
    },
    {
      "cell_type": "code",
      "execution_count": 1,
      "metadata": {
        "colab": {
          "base_uri": "https://localhost:8080/"
        },
        "id": "wF3X9UF41_La",
        "outputId": "7be6f6bb-ca39-4cc0-8144-cea07c133849"
      },
      "outputs": [
        {
          "output_type": "stream",
          "name": "stdout",
          "text": [
            "/usr/local/lib/python3.7/dist-packages/gdown/cli.py:131: FutureWarning: Option `--id` was deprecated in version 4.3.1 and will be removed in 5.0. You don't need to pass it anymore to use a file ID.\n",
            "  category=FutureWarning,\n",
            "Downloading...\n",
            "From: https://drive.google.com/uc?id=1GpATd_pM4mcnWWIs28-s1lgqdAg2Wdv-\n",
            "To: /content/preprocessed_data.csv\n",
            "100% 124M/124M [00:00<00:00, 375MB/s]\n",
            "/usr/local/lib/python3.7/dist-packages/gdown/cli.py:131: FutureWarning: Option `--id` was deprecated in version 4.3.1 and will be removed in 5.0. You don't need to pass it anymore to use a file ID.\n",
            "  category=FutureWarning,\n",
            "Downloading...\n",
            "From: https://drive.google.com/uc?id=1pGd5tLwA30M7wkbJKdXHaae9tYVDICJ_\n",
            "To: /content/glove_vectors\n",
            "100% 128M/128M [00:00<00:00, 286MB/s] \n",
            "/usr/local/lib/python3.7/dist-packages/gdown/cli.py:131: FutureWarning: Option `--id` was deprecated in version 4.3.1 and will be removed in 5.0. You don't need to pass it anymore to use a file ID.\n",
            "  category=FutureWarning,\n",
            "Downloading...\n",
            "From: https://drive.google.com/uc?id=16oSeZfQjX5LfF1KFOq98pNjVzR0YNzYb\n",
            "To: /content/resources_lstm_donor.csv\n",
            "100% 127M/127M [00:00<00:00, 255MB/s] \n",
            "/usr/local/lib/python3.7/dist-packages/gdown/cli.py:131: FutureWarning: Option `--id` was deprecated in version 4.3.1 and will be removed in 5.0. You don't need to pass it anymore to use a file ID.\n",
            "  category=FutureWarning,\n",
            "Downloading...\n",
            "From: https://drive.google.com/uc?id=17qamrBz5YdIL62O256qvRwra3BfIJryL\n",
            "To: /content/train_data_lstm_donor.csv\n",
            "100% 201M/201M [00:00<00:00, 264MB/s]\n"
          ]
        }
      ],
      "source": [
        "!gdown --id 1GpATd_pM4mcnWWIs28-s1lgqdAg2Wdv-\n",
        "!gdown --id 1pGd5tLwA30M7wkbJKdXHaae9tYVDICJ_\n",
        "!gdown --id 16oSeZfQjX5LfF1KFOq98pNjVzR0YNzYb\n",
        "!gdown --id 17qamrBz5YdIL62O256qvRwra3BfIJryL"
      ]
    },
    {
      "cell_type": "code",
      "source": [
        ""
      ],
      "metadata": {
        "id": "J528NpybaoAo"
      },
      "execution_count": 1,
      "outputs": []
    },
    {
      "cell_type": "code",
      "source": [
        "import pandas as pd\n",
        "import pickle as pk\n",
        "import numpy as np\n",
        "from sklearn.model_selection import train_test_split\n",
        "import tensorflow as tf\n",
        "from tensorflow.keras.preprocessing import text\n",
        "from tensorflow.keras import utils\n",
        "from tensorflow.keras.layers import Conv1D\n",
        "\n",
        "from tensorflow.keras.preprocessing.sequence import pad_sequences\n",
        "from sklearn.preprocessing import StandardScaler\n",
        "from tensorflow.keras.layers import LSTM,Embedding,Flatten,Dense,concatenate,Dropout,BatchNormalization\n",
        "from tensorflow.keras.regularizers import l1,l2\n",
        "from keras import Model,Input\n",
        "from tensorflow.keras.utils import plot_model\n",
        "from tensorflow.keras import callbacks\n"
      ],
      "metadata": {
        "id": "l98dsnSQ2G-F"
      },
      "execution_count": 2,
      "outputs": []
    },
    {
      "cell_type": "code",
      "source": [
        ""
      ],
      "metadata": {
        "id": "2nw3Uzw-jkgM"
      },
      "execution_count": 2,
      "outputs": []
    },
    {
      "cell_type": "code",
      "source": [
        "\n",
        "preprocessed_data=pd.read_csv(\"preprocessed_data.csv\")\n",
        "preprocessed_data"
      ],
      "metadata": {
        "id": "mK2047ds2RTK",
        "colab": {
          "base_uri": "https://localhost:8080/",
          "height": 1000
        },
        "outputId": "9befb2d1-d64f-4c42-95a0-c4fc4f612478"
      },
      "execution_count": 3,
      "outputs": [
        {
          "output_type": "execute_result",
          "data": {
            "text/plain": [
              "       school_state teacher_prefix project_grade_category  \\\n",
              "0                ca            mrs          grades_prek_2   \n",
              "1                ut             ms             grades_3_5   \n",
              "2                ca            mrs          grades_prek_2   \n",
              "3                ga            mrs          grades_prek_2   \n",
              "4                wa            mrs             grades_3_5   \n",
              "...             ...            ...                    ...   \n",
              "109243           hi            mrs            grades_9_12   \n",
              "109244           nm             ms          grades_prek_2   \n",
              "109245           il            mrs             grades_3_5   \n",
              "109246           hi            mrs            grades_9_12   \n",
              "109247           ca            mrs          grades_prek_2   \n",
              "\n",
              "        teacher_number_of_previously_posted_projects  project_is_approved  \\\n",
              "0                                                 53                    1   \n",
              "1                                                  4                    1   \n",
              "2                                                 10                    1   \n",
              "3                                                  2                    1   \n",
              "4                                                  2                    1   \n",
              "...                                              ...                  ...   \n",
              "109243                                             5                    1   \n",
              "109244                                             3                    1   \n",
              "109245                                             0                    1   \n",
              "109246                                             1                    1   \n",
              "109247                                             2                    1   \n",
              "\n",
              "         clean_categories                   clean_subcategories  \\\n",
              "0            math_science    appliedsciences health_lifescience   \n",
              "1            specialneeds                          specialneeds   \n",
              "2       literacy_language                              literacy   \n",
              "3         appliedlearning                      earlydevelopment   \n",
              "4       literacy_language                              literacy   \n",
              "...                   ...                                   ...   \n",
              "109243      health_sports                            teamsports   \n",
              "109244    appliedlearning                earlydevelopment other   \n",
              "109245       math_science  appliedsciences environmentalscience   \n",
              "109246       math_science                    health_lifescience   \n",
              "109247  literacy_language           literacy literature_writing   \n",
              "\n",
              "                                                    essay   price  \n",
              "0       i fortunate enough use fairy tale stem kits cl...  725.05  \n",
              "1       imagine 8 9 years old you third grade classroo...  213.03  \n",
              "2       having class 24 students comes diverse learner...  329.00  \n",
              "3       i recently read article giving students choice...  481.04  \n",
              "4       my students crave challenge eat obstacles brea...   17.74  \n",
              "...                                                   ...     ...  \n",
              "109243  our day starts 100 students athletes low incom...  143.36  \n",
              "109244  my students range age four five years old atte...  268.57  \n",
              "109245  we title 1 school 650 total students our eleme...  399.00  \n",
              "109246  i teach many different types students my class...  287.73  \n",
              "109247  my first graders eager learn world around they...    5.50  \n",
              "\n",
              "[109248 rows x 9 columns]"
            ],
            "text/html": [
              "\n",
              "  <div id=\"df-359acc6c-aa2f-4cd9-833c-57c9298b6f66\">\n",
              "    <div class=\"colab-df-container\">\n",
              "      <div>\n",
              "<style scoped>\n",
              "    .dataframe tbody tr th:only-of-type {\n",
              "        vertical-align: middle;\n",
              "    }\n",
              "\n",
              "    .dataframe tbody tr th {\n",
              "        vertical-align: top;\n",
              "    }\n",
              "\n",
              "    .dataframe thead th {\n",
              "        text-align: right;\n",
              "    }\n",
              "</style>\n",
              "<table border=\"1\" class=\"dataframe\">\n",
              "  <thead>\n",
              "    <tr style=\"text-align: right;\">\n",
              "      <th></th>\n",
              "      <th>school_state</th>\n",
              "      <th>teacher_prefix</th>\n",
              "      <th>project_grade_category</th>\n",
              "      <th>teacher_number_of_previously_posted_projects</th>\n",
              "      <th>project_is_approved</th>\n",
              "      <th>clean_categories</th>\n",
              "      <th>clean_subcategories</th>\n",
              "      <th>essay</th>\n",
              "      <th>price</th>\n",
              "    </tr>\n",
              "  </thead>\n",
              "  <tbody>\n",
              "    <tr>\n",
              "      <th>0</th>\n",
              "      <td>ca</td>\n",
              "      <td>mrs</td>\n",
              "      <td>grades_prek_2</td>\n",
              "      <td>53</td>\n",
              "      <td>1</td>\n",
              "      <td>math_science</td>\n",
              "      <td>appliedsciences health_lifescience</td>\n",
              "      <td>i fortunate enough use fairy tale stem kits cl...</td>\n",
              "      <td>725.05</td>\n",
              "    </tr>\n",
              "    <tr>\n",
              "      <th>1</th>\n",
              "      <td>ut</td>\n",
              "      <td>ms</td>\n",
              "      <td>grades_3_5</td>\n",
              "      <td>4</td>\n",
              "      <td>1</td>\n",
              "      <td>specialneeds</td>\n",
              "      <td>specialneeds</td>\n",
              "      <td>imagine 8 9 years old you third grade classroo...</td>\n",
              "      <td>213.03</td>\n",
              "    </tr>\n",
              "    <tr>\n",
              "      <th>2</th>\n",
              "      <td>ca</td>\n",
              "      <td>mrs</td>\n",
              "      <td>grades_prek_2</td>\n",
              "      <td>10</td>\n",
              "      <td>1</td>\n",
              "      <td>literacy_language</td>\n",
              "      <td>literacy</td>\n",
              "      <td>having class 24 students comes diverse learner...</td>\n",
              "      <td>329.00</td>\n",
              "    </tr>\n",
              "    <tr>\n",
              "      <th>3</th>\n",
              "      <td>ga</td>\n",
              "      <td>mrs</td>\n",
              "      <td>grades_prek_2</td>\n",
              "      <td>2</td>\n",
              "      <td>1</td>\n",
              "      <td>appliedlearning</td>\n",
              "      <td>earlydevelopment</td>\n",
              "      <td>i recently read article giving students choice...</td>\n",
              "      <td>481.04</td>\n",
              "    </tr>\n",
              "    <tr>\n",
              "      <th>4</th>\n",
              "      <td>wa</td>\n",
              "      <td>mrs</td>\n",
              "      <td>grades_3_5</td>\n",
              "      <td>2</td>\n",
              "      <td>1</td>\n",
              "      <td>literacy_language</td>\n",
              "      <td>literacy</td>\n",
              "      <td>my students crave challenge eat obstacles brea...</td>\n",
              "      <td>17.74</td>\n",
              "    </tr>\n",
              "    <tr>\n",
              "      <th>...</th>\n",
              "      <td>...</td>\n",
              "      <td>...</td>\n",
              "      <td>...</td>\n",
              "      <td>...</td>\n",
              "      <td>...</td>\n",
              "      <td>...</td>\n",
              "      <td>...</td>\n",
              "      <td>...</td>\n",
              "      <td>...</td>\n",
              "    </tr>\n",
              "    <tr>\n",
              "      <th>109243</th>\n",
              "      <td>hi</td>\n",
              "      <td>mrs</td>\n",
              "      <td>grades_9_12</td>\n",
              "      <td>5</td>\n",
              "      <td>1</td>\n",
              "      <td>health_sports</td>\n",
              "      <td>teamsports</td>\n",
              "      <td>our day starts 100 students athletes low incom...</td>\n",
              "      <td>143.36</td>\n",
              "    </tr>\n",
              "    <tr>\n",
              "      <th>109244</th>\n",
              "      <td>nm</td>\n",
              "      <td>ms</td>\n",
              "      <td>grades_prek_2</td>\n",
              "      <td>3</td>\n",
              "      <td>1</td>\n",
              "      <td>appliedlearning</td>\n",
              "      <td>earlydevelopment other</td>\n",
              "      <td>my students range age four five years old atte...</td>\n",
              "      <td>268.57</td>\n",
              "    </tr>\n",
              "    <tr>\n",
              "      <th>109245</th>\n",
              "      <td>il</td>\n",
              "      <td>mrs</td>\n",
              "      <td>grades_3_5</td>\n",
              "      <td>0</td>\n",
              "      <td>1</td>\n",
              "      <td>math_science</td>\n",
              "      <td>appliedsciences environmentalscience</td>\n",
              "      <td>we title 1 school 650 total students our eleme...</td>\n",
              "      <td>399.00</td>\n",
              "    </tr>\n",
              "    <tr>\n",
              "      <th>109246</th>\n",
              "      <td>hi</td>\n",
              "      <td>mrs</td>\n",
              "      <td>grades_9_12</td>\n",
              "      <td>1</td>\n",
              "      <td>1</td>\n",
              "      <td>math_science</td>\n",
              "      <td>health_lifescience</td>\n",
              "      <td>i teach many different types students my class...</td>\n",
              "      <td>287.73</td>\n",
              "    </tr>\n",
              "    <tr>\n",
              "      <th>109247</th>\n",
              "      <td>ca</td>\n",
              "      <td>mrs</td>\n",
              "      <td>grades_prek_2</td>\n",
              "      <td>2</td>\n",
              "      <td>1</td>\n",
              "      <td>literacy_language</td>\n",
              "      <td>literacy literature_writing</td>\n",
              "      <td>my first graders eager learn world around they...</td>\n",
              "      <td>5.50</td>\n",
              "    </tr>\n",
              "  </tbody>\n",
              "</table>\n",
              "<p>109248 rows × 9 columns</p>\n",
              "</div>\n",
              "      <button class=\"colab-df-convert\" onclick=\"convertToInteractive('df-359acc6c-aa2f-4cd9-833c-57c9298b6f66')\"\n",
              "              title=\"Convert this dataframe to an interactive table.\"\n",
              "              style=\"display:none;\">\n",
              "        \n",
              "  <svg xmlns=\"http://www.w3.org/2000/svg\" height=\"24px\"viewBox=\"0 0 24 24\"\n",
              "       width=\"24px\">\n",
              "    <path d=\"M0 0h24v24H0V0z\" fill=\"none\"/>\n",
              "    <path d=\"M18.56 5.44l.94 2.06.94-2.06 2.06-.94-2.06-.94-.94-2.06-.94 2.06-2.06.94zm-11 1L8.5 8.5l.94-2.06 2.06-.94-2.06-.94L8.5 2.5l-.94 2.06-2.06.94zm10 10l.94 2.06.94-2.06 2.06-.94-2.06-.94-.94-2.06-.94 2.06-2.06.94z\"/><path d=\"M17.41 7.96l-1.37-1.37c-.4-.4-.92-.59-1.43-.59-.52 0-1.04.2-1.43.59L10.3 9.45l-7.72 7.72c-.78.78-.78 2.05 0 2.83L4 21.41c.39.39.9.59 1.41.59.51 0 1.02-.2 1.41-.59l7.78-7.78 2.81-2.81c.8-.78.8-2.07 0-2.86zM5.41 20L4 18.59l7.72-7.72 1.47 1.35L5.41 20z\"/>\n",
              "  </svg>\n",
              "      </button>\n",
              "      \n",
              "  <style>\n",
              "    .colab-df-container {\n",
              "      display:flex;\n",
              "      flex-wrap:wrap;\n",
              "      gap: 12px;\n",
              "    }\n",
              "\n",
              "    .colab-df-convert {\n",
              "      background-color: #E8F0FE;\n",
              "      border: none;\n",
              "      border-radius: 50%;\n",
              "      cursor: pointer;\n",
              "      display: none;\n",
              "      fill: #1967D2;\n",
              "      height: 32px;\n",
              "      padding: 0 0 0 0;\n",
              "      width: 32px;\n",
              "    }\n",
              "\n",
              "    .colab-df-convert:hover {\n",
              "      background-color: #E2EBFA;\n",
              "      box-shadow: 0px 1px 2px rgba(60, 64, 67, 0.3), 0px 1px 3px 1px rgba(60, 64, 67, 0.15);\n",
              "      fill: #174EA6;\n",
              "    }\n",
              "\n",
              "    [theme=dark] .colab-df-convert {\n",
              "      background-color: #3B4455;\n",
              "      fill: #D2E3FC;\n",
              "    }\n",
              "\n",
              "    [theme=dark] .colab-df-convert:hover {\n",
              "      background-color: #434B5C;\n",
              "      box-shadow: 0px 1px 3px 1px rgba(0, 0, 0, 0.15);\n",
              "      filter: drop-shadow(0px 1px 2px rgba(0, 0, 0, 0.3));\n",
              "      fill: #FFFFFF;\n",
              "    }\n",
              "  </style>\n",
              "\n",
              "      <script>\n",
              "        const buttonEl =\n",
              "          document.querySelector('#df-359acc6c-aa2f-4cd9-833c-57c9298b6f66 button.colab-df-convert');\n",
              "        buttonEl.style.display =\n",
              "          google.colab.kernel.accessAllowed ? 'block' : 'none';\n",
              "\n",
              "        async function convertToInteractive(key) {\n",
              "          const element = document.querySelector('#df-359acc6c-aa2f-4cd9-833c-57c9298b6f66');\n",
              "          const dataTable =\n",
              "            await google.colab.kernel.invokeFunction('convertToInteractive',\n",
              "                                                     [key], {});\n",
              "          if (!dataTable) return;\n",
              "\n",
              "          const docLinkHtml = 'Like what you see? Visit the ' +\n",
              "            '<a target=\"_blank\" href=https://colab.research.google.com/notebooks/data_table.ipynb>data table notebook</a>'\n",
              "            + ' to learn more about interactive tables.';\n",
              "          element.innerHTML = '';\n",
              "          dataTable['output_type'] = 'display_data';\n",
              "          await google.colab.output.renderOutput(dataTable, element);\n",
              "          const docLink = document.createElement('div');\n",
              "          docLink.innerHTML = docLinkHtml;\n",
              "          element.appendChild(docLink);\n",
              "        }\n",
              "      </script>\n",
              "    </div>\n",
              "  </div>\n",
              "  "
            ]
          },
          "metadata": {},
          "execution_count": 3
        }
      ]
    },
    {
      "cell_type": "code",
      "source": [
        "res_data=pd.read_csv(\"/content/resources_lstm_donor.csv\")\n",
        "res_data"
      ],
      "metadata": {
        "colab": {
          "base_uri": "https://localhost:8080/",
          "height": 424
        },
        "id": "0czM2z__bI0N",
        "outputId": "0f978cc5-d765-44bf-d354-2508c862b976"
      },
      "execution_count": 4,
      "outputs": [
        {
          "output_type": "execute_result",
          "data": {
            "text/plain": [
              "              id                                        description  quantity  \\\n",
              "0        p233245  LC652 - Lakeshore Double-Space Mobile Drying Rack         1   \n",
              "1        p069063        Bouncy Bands for Desks (Blue support pipes)         3   \n",
              "2        p069063  Cory Stories: A Kid's Book About Living With Adhd         1   \n",
              "3        p069063  Dixon Ticonderoga Wood-Cased #2 HB Pencils, Bo...         2   \n",
              "4        p069063  EDUCATIONAL INSIGHTS FLUORESCENT LIGHT FILTERS...         3   \n",
              "...          ...                                                ...       ...   \n",
              "1541267  p031981  AmazonBasics 9 Volt Everyday Alkaline Batterie...         1   \n",
              "1541268  p031981  AmazonBasics AAA Performance Alkaline Batterie...         1   \n",
              "1541269  p031981  Black Electrical Tape (GIANT 3 PACK) Each Roll...         6   \n",
              "1541270  p031981  Flormoon DC Motor Mini Electric Motor 0.5-3V 1...         2   \n",
              "1541271  p031981  WAYLLSHINE 6PCS 2 x 1.5V AAA Battery Spring Cl...         2   \n",
              "\n",
              "          price  \n",
              "0        149.00  \n",
              "1         14.95  \n",
              "2          8.45  \n",
              "3         13.59  \n",
              "4         24.95  \n",
              "...         ...  \n",
              "1541267    9.99  \n",
              "1541268    6.99  \n",
              "1541269    8.99  \n",
              "1541270    8.14  \n",
              "1541271    7.39  \n",
              "\n",
              "[1541272 rows x 4 columns]"
            ],
            "text/html": [
              "\n",
              "  <div id=\"df-5b3f3b92-162e-4c02-9d0f-462cac8b9da3\">\n",
              "    <div class=\"colab-df-container\">\n",
              "      <div>\n",
              "<style scoped>\n",
              "    .dataframe tbody tr th:only-of-type {\n",
              "        vertical-align: middle;\n",
              "    }\n",
              "\n",
              "    .dataframe tbody tr th {\n",
              "        vertical-align: top;\n",
              "    }\n",
              "\n",
              "    .dataframe thead th {\n",
              "        text-align: right;\n",
              "    }\n",
              "</style>\n",
              "<table border=\"1\" class=\"dataframe\">\n",
              "  <thead>\n",
              "    <tr style=\"text-align: right;\">\n",
              "      <th></th>\n",
              "      <th>id</th>\n",
              "      <th>description</th>\n",
              "      <th>quantity</th>\n",
              "      <th>price</th>\n",
              "    </tr>\n",
              "  </thead>\n",
              "  <tbody>\n",
              "    <tr>\n",
              "      <th>0</th>\n",
              "      <td>p233245</td>\n",
              "      <td>LC652 - Lakeshore Double-Space Mobile Drying Rack</td>\n",
              "      <td>1</td>\n",
              "      <td>149.00</td>\n",
              "    </tr>\n",
              "    <tr>\n",
              "      <th>1</th>\n",
              "      <td>p069063</td>\n",
              "      <td>Bouncy Bands for Desks (Blue support pipes)</td>\n",
              "      <td>3</td>\n",
              "      <td>14.95</td>\n",
              "    </tr>\n",
              "    <tr>\n",
              "      <th>2</th>\n",
              "      <td>p069063</td>\n",
              "      <td>Cory Stories: A Kid's Book About Living With Adhd</td>\n",
              "      <td>1</td>\n",
              "      <td>8.45</td>\n",
              "    </tr>\n",
              "    <tr>\n",
              "      <th>3</th>\n",
              "      <td>p069063</td>\n",
              "      <td>Dixon Ticonderoga Wood-Cased #2 HB Pencils, Bo...</td>\n",
              "      <td>2</td>\n",
              "      <td>13.59</td>\n",
              "    </tr>\n",
              "    <tr>\n",
              "      <th>4</th>\n",
              "      <td>p069063</td>\n",
              "      <td>EDUCATIONAL INSIGHTS FLUORESCENT LIGHT FILTERS...</td>\n",
              "      <td>3</td>\n",
              "      <td>24.95</td>\n",
              "    </tr>\n",
              "    <tr>\n",
              "      <th>...</th>\n",
              "      <td>...</td>\n",
              "      <td>...</td>\n",
              "      <td>...</td>\n",
              "      <td>...</td>\n",
              "    </tr>\n",
              "    <tr>\n",
              "      <th>1541267</th>\n",
              "      <td>p031981</td>\n",
              "      <td>AmazonBasics 9 Volt Everyday Alkaline Batterie...</td>\n",
              "      <td>1</td>\n",
              "      <td>9.99</td>\n",
              "    </tr>\n",
              "    <tr>\n",
              "      <th>1541268</th>\n",
              "      <td>p031981</td>\n",
              "      <td>AmazonBasics AAA Performance Alkaline Batterie...</td>\n",
              "      <td>1</td>\n",
              "      <td>6.99</td>\n",
              "    </tr>\n",
              "    <tr>\n",
              "      <th>1541269</th>\n",
              "      <td>p031981</td>\n",
              "      <td>Black Electrical Tape (GIANT 3 PACK) Each Roll...</td>\n",
              "      <td>6</td>\n",
              "      <td>8.99</td>\n",
              "    </tr>\n",
              "    <tr>\n",
              "      <th>1541270</th>\n",
              "      <td>p031981</td>\n",
              "      <td>Flormoon DC Motor Mini Electric Motor 0.5-3V 1...</td>\n",
              "      <td>2</td>\n",
              "      <td>8.14</td>\n",
              "    </tr>\n",
              "    <tr>\n",
              "      <th>1541271</th>\n",
              "      <td>p031981</td>\n",
              "      <td>WAYLLSHINE 6PCS 2 x 1.5V AAA Battery Spring Cl...</td>\n",
              "      <td>2</td>\n",
              "      <td>7.39</td>\n",
              "    </tr>\n",
              "  </tbody>\n",
              "</table>\n",
              "<p>1541272 rows × 4 columns</p>\n",
              "</div>\n",
              "      <button class=\"colab-df-convert\" onclick=\"convertToInteractive('df-5b3f3b92-162e-4c02-9d0f-462cac8b9da3')\"\n",
              "              title=\"Convert this dataframe to an interactive table.\"\n",
              "              style=\"display:none;\">\n",
              "        \n",
              "  <svg xmlns=\"http://www.w3.org/2000/svg\" height=\"24px\"viewBox=\"0 0 24 24\"\n",
              "       width=\"24px\">\n",
              "    <path d=\"M0 0h24v24H0V0z\" fill=\"none\"/>\n",
              "    <path d=\"M18.56 5.44l.94 2.06.94-2.06 2.06-.94-2.06-.94-.94-2.06-.94 2.06-2.06.94zm-11 1L8.5 8.5l.94-2.06 2.06-.94-2.06-.94L8.5 2.5l-.94 2.06-2.06.94zm10 10l.94 2.06.94-2.06 2.06-.94-2.06-.94-.94-2.06-.94 2.06-2.06.94z\"/><path d=\"M17.41 7.96l-1.37-1.37c-.4-.4-.92-.59-1.43-.59-.52 0-1.04.2-1.43.59L10.3 9.45l-7.72 7.72c-.78.78-.78 2.05 0 2.83L4 21.41c.39.39.9.59 1.41.59.51 0 1.02-.2 1.41-.59l7.78-7.78 2.81-2.81c.8-.78.8-2.07 0-2.86zM5.41 20L4 18.59l7.72-7.72 1.47 1.35L5.41 20z\"/>\n",
              "  </svg>\n",
              "      </button>\n",
              "      \n",
              "  <style>\n",
              "    .colab-df-container {\n",
              "      display:flex;\n",
              "      flex-wrap:wrap;\n",
              "      gap: 12px;\n",
              "    }\n",
              "\n",
              "    .colab-df-convert {\n",
              "      background-color: #E8F0FE;\n",
              "      border: none;\n",
              "      border-radius: 50%;\n",
              "      cursor: pointer;\n",
              "      display: none;\n",
              "      fill: #1967D2;\n",
              "      height: 32px;\n",
              "      padding: 0 0 0 0;\n",
              "      width: 32px;\n",
              "    }\n",
              "\n",
              "    .colab-df-convert:hover {\n",
              "      background-color: #E2EBFA;\n",
              "      box-shadow: 0px 1px 2px rgba(60, 64, 67, 0.3), 0px 1px 3px 1px rgba(60, 64, 67, 0.15);\n",
              "      fill: #174EA6;\n",
              "    }\n",
              "\n",
              "    [theme=dark] .colab-df-convert {\n",
              "      background-color: #3B4455;\n",
              "      fill: #D2E3FC;\n",
              "    }\n",
              "\n",
              "    [theme=dark] .colab-df-convert:hover {\n",
              "      background-color: #434B5C;\n",
              "      box-shadow: 0px 1px 3px 1px rgba(0, 0, 0, 0.15);\n",
              "      filter: drop-shadow(0px 1px 2px rgba(0, 0, 0, 0.3));\n",
              "      fill: #FFFFFF;\n",
              "    }\n",
              "  </style>\n",
              "\n",
              "      <script>\n",
              "        const buttonEl =\n",
              "          document.querySelector('#df-5b3f3b92-162e-4c02-9d0f-462cac8b9da3 button.colab-df-convert');\n",
              "        buttonEl.style.display =\n",
              "          google.colab.kernel.accessAllowed ? 'block' : 'none';\n",
              "\n",
              "        async function convertToInteractive(key) {\n",
              "          const element = document.querySelector('#df-5b3f3b92-162e-4c02-9d0f-462cac8b9da3');\n",
              "          const dataTable =\n",
              "            await google.colab.kernel.invokeFunction('convertToInteractive',\n",
              "                                                     [key], {});\n",
              "          if (!dataTable) return;\n",
              "\n",
              "          const docLinkHtml = 'Like what you see? Visit the ' +\n",
              "            '<a target=\"_blank\" href=https://colab.research.google.com/notebooks/data_table.ipynb>data table notebook</a>'\n",
              "            + ' to learn more about interactive tables.';\n",
              "          element.innerHTML = '';\n",
              "          dataTable['output_type'] = 'display_data';\n",
              "          await google.colab.output.renderOutput(dataTable, element);\n",
              "          const docLink = document.createElement('div');\n",
              "          docLink.innerHTML = docLinkHtml;\n",
              "          element.appendChild(docLink);\n",
              "        }\n",
              "      </script>\n",
              "    </div>\n",
              "  </div>\n",
              "  "
            ]
          },
          "metadata": {},
          "execution_count": 4
        }
      ]
    },
    {
      "cell_type": "code",
      "source": [
        "train_data=pd.read_csv('/content/train_data_lstm_donor.csv')\n",
        "train_data"
      ],
      "metadata": {
        "colab": {
          "base_uri": "https://localhost:8080/",
          "height": 1000
        },
        "id": "mj6HnIGxbJA_",
        "outputId": "63feaf55-9cfa-490f-f6e7-1d6e81d1d114"
      },
      "execution_count": 5,
      "outputs": [
        {
          "output_type": "execute_result",
          "data": {
            "text/plain": [
              "        Unnamed: 0       id                        teacher_id teacher_prefix  \\\n",
              "0           160221  p253737  c90749f5d961ff158d4b4d1e7dc665fc           Mrs.   \n",
              "1           140945  p258326  897464ce9ddc600bced1151f324dd63a            Mr.   \n",
              "2            21895  p182444  3465aaf82da834c0582ebd0ef8040ca0            Ms.   \n",
              "3               45  p246581  f3cb9bffbba169bef1a77b243e620b60           Mrs.   \n",
              "4           172407  p104768  be1f7507a41f8479dc06f047086a39ec           Mrs.   \n",
              "...            ...      ...                               ...            ...   \n",
              "109243       38267  p048540  fadf72d6cd83ce6074f9be78a6fcd374            Mr.   \n",
              "109244      169142  p166281  1984d915cc8b91aa16b4d1e6e39296c6            Ms.   \n",
              "109245      143653  p155633  cdbfd04aa041dc6739e9e576b1fb1478           Mrs.   \n",
              "109246      164599  p206114  6d5675dbfafa1371f0e2f6f1b716fe2d           Mrs.   \n",
              "109247      128381  p191189  ca25d5573f2bd2660f7850a886395927            Ms.   \n",
              "\n",
              "       school_state project_submitted_datetime project_grade_category  \\\n",
              "0                IN        2016-12-05 13:43:57          Grades PreK-2   \n",
              "1                FL        2016-10-25 09:22:10             Grades 6-8   \n",
              "2                AZ        2016-08-31 12:03:56             Grades 6-8   \n",
              "3                KY        2016-10-06 21:16:17          Grades PreK-2   \n",
              "4                TX        2016-07-11 01:10:09          Grades PreK-2   \n",
              "...             ...                        ...                    ...   \n",
              "109243           MO        2016-06-17 12:02:31          Grades PreK-2   \n",
              "109244           NJ        2017-01-11 12:49:39          Grades PreK-2   \n",
              "109245           NJ        2016-08-25 17:11:32          Grades PreK-2   \n",
              "109246           NY        2016-07-29 17:53:15             Grades 3-5   \n",
              "109247           VA        2016-06-29 09:17:01             Grades 6-8   \n",
              "\n",
              "                 project_subject_categories  \\\n",
              "0                       Literacy & Language   \n",
              "1         History & Civics, Health & Sports   \n",
              "2                           Health & Sports   \n",
              "3       Literacy & Language, Math & Science   \n",
              "4                            Math & Science   \n",
              "...                                     ...   \n",
              "109243  Literacy & Language, Math & Science   \n",
              "109244  Literacy & Language, Math & Science   \n",
              "109245  Literacy & Language, Math & Science   \n",
              "109246       Health & Sports, Special Needs   \n",
              "109247     Applied Learning, Math & Science   \n",
              "\n",
              "             project_subject_subcategories  \\\n",
              "0                            ESL, Literacy   \n",
              "1         Civics & Government, Team Sports   \n",
              "2           Health & Wellness, Team Sports   \n",
              "3                    Literacy, Mathematics   \n",
              "4                              Mathematics   \n",
              "...                                    ...   \n",
              "109243   Literature & Writing, Mathematics   \n",
              "109244               Literacy, Mathematics   \n",
              "109245               Literacy, Mathematics   \n",
              "109246    Health & Wellness, Special Needs   \n",
              "109247  College & Career Prep, Mathematics   \n",
              "\n",
              "                                            project_title  \\\n",
              "0        Educational Support for English Learners at Home   \n",
              "1                   Wanted: Projector for Hungry Learners   \n",
              "2       Soccer Equipment for AWESOME Middle School Stu...   \n",
              "3                                  Techie Kindergarteners   \n",
              "4                                  Interactive Math Tools   \n",
              "...                                                   ...   \n",
              "109243  Privacy Shields Help Promote Independent Thinking   \n",
              "109244                        Technology in Our Classroom   \n",
              "109245             2016/2017 Beginning of the Year Basics   \n",
              "109246            Flexible Seating in Inclusive Classroom   \n",
              "109247     Classroom Tech to Develop 21st Century Leaders   \n",
              "\n",
              "                                          project_essay_1  \\\n",
              "0       My students are English learners that are work...   \n",
              "1       Our students arrive to our school eager to lea...   \n",
              "2       \\r\\n\\\"True champions aren't always the ones th...   \n",
              "3       I work at a unique school filled with both ESL...   \n",
              "4       Our second grade classroom next year will be m...   \n",
              "...                                                   ...   \n",
              "109243  Welcome to Mr. Ramos's 2nd grade classroom! We...   \n",
              "109244  Every morning, we start our day with our core ...   \n",
              "109245  This is a great group of sharing and caring st...   \n",
              "109246  Our students live in a small rural community. ...   \n",
              "109247  When was the last time that you used math? Pro...   \n",
              "\n",
              "                                          project_essay_2 project_essay_3  \\\n",
              "0       \\\"The limits of your language are the limits o...             NaN   \n",
              "1       The projector we need for our school is very c...             NaN   \n",
              "2       The students on the campus come to school know...             NaN   \n",
              "3       My students live in high poverty conditions wi...             NaN   \n",
              "4       For many students, math is a subject that does...             NaN   \n",
              "...                                                   ...             ...   \n",
              "109243  I would like to start preparing my second grad...             NaN   \n",
              "109244  In this technological age, we need to give our...             NaN   \n",
              "109245  My students learn about special events, holida...             NaN   \n",
              "109246  Flexible classroom seating has been researched...             NaN   \n",
              "109247  According to Forbes Magazine (2014), companies...             NaN   \n",
              "\n",
              "       project_essay_4                           project_resource_summary  \\\n",
              "0                  NaN  My students need opportunities to practice beg...   \n",
              "1                  NaN  My students need a projector to help with view...   \n",
              "2                  NaN  My students need shine guards, athletic socks,...   \n",
              "3                  NaN  My students need to engage in Reading and Math...   \n",
              "4                  NaN  My students need hands on practice in mathemat...   \n",
              "...                ...                                                ...   \n",
              "109243             NaN  My students need these privacy partitions to h...   \n",
              "109244             NaN  My students need two iPad's and protective cas...   \n",
              "109245             NaN  My students need giant comfy pillows in order ...   \n",
              "109246             NaN  My students need flexible seating options: bea...   \n",
              "109247             NaN  My students need opportunities to work with te...   \n",
              "\n",
              "        teacher_number_of_previously_posted_projects  project_is_approved  \n",
              "0                                                  0                    0  \n",
              "1                                                  7                    1  \n",
              "2                                                  1                    0  \n",
              "3                                                  4                    1  \n",
              "4                                                  1                    1  \n",
              "...                                              ...                  ...  \n",
              "109243                                             0                    1  \n",
              "109244                                             0                    1  \n",
              "109245                                             3                    1  \n",
              "109246                                             0                    1  \n",
              "109247                                             0                    1  \n",
              "\n",
              "[109248 rows x 17 columns]"
            ],
            "text/html": [
              "\n",
              "  <div id=\"df-7ff3735f-2835-420f-9423-de0c171ccd3e\">\n",
              "    <div class=\"colab-df-container\">\n",
              "      <div>\n",
              "<style scoped>\n",
              "    .dataframe tbody tr th:only-of-type {\n",
              "        vertical-align: middle;\n",
              "    }\n",
              "\n",
              "    .dataframe tbody tr th {\n",
              "        vertical-align: top;\n",
              "    }\n",
              "\n",
              "    .dataframe thead th {\n",
              "        text-align: right;\n",
              "    }\n",
              "</style>\n",
              "<table border=\"1\" class=\"dataframe\">\n",
              "  <thead>\n",
              "    <tr style=\"text-align: right;\">\n",
              "      <th></th>\n",
              "      <th>Unnamed: 0</th>\n",
              "      <th>id</th>\n",
              "      <th>teacher_id</th>\n",
              "      <th>teacher_prefix</th>\n",
              "      <th>school_state</th>\n",
              "      <th>project_submitted_datetime</th>\n",
              "      <th>project_grade_category</th>\n",
              "      <th>project_subject_categories</th>\n",
              "      <th>project_subject_subcategories</th>\n",
              "      <th>project_title</th>\n",
              "      <th>project_essay_1</th>\n",
              "      <th>project_essay_2</th>\n",
              "      <th>project_essay_3</th>\n",
              "      <th>project_essay_4</th>\n",
              "      <th>project_resource_summary</th>\n",
              "      <th>teacher_number_of_previously_posted_projects</th>\n",
              "      <th>project_is_approved</th>\n",
              "    </tr>\n",
              "  </thead>\n",
              "  <tbody>\n",
              "    <tr>\n",
              "      <th>0</th>\n",
              "      <td>160221</td>\n",
              "      <td>p253737</td>\n",
              "      <td>c90749f5d961ff158d4b4d1e7dc665fc</td>\n",
              "      <td>Mrs.</td>\n",
              "      <td>IN</td>\n",
              "      <td>2016-12-05 13:43:57</td>\n",
              "      <td>Grades PreK-2</td>\n",
              "      <td>Literacy &amp; Language</td>\n",
              "      <td>ESL, Literacy</td>\n",
              "      <td>Educational Support for English Learners at Home</td>\n",
              "      <td>My students are English learners that are work...</td>\n",
              "      <td>\\\"The limits of your language are the limits o...</td>\n",
              "      <td>NaN</td>\n",
              "      <td>NaN</td>\n",
              "      <td>My students need opportunities to practice beg...</td>\n",
              "      <td>0</td>\n",
              "      <td>0</td>\n",
              "    </tr>\n",
              "    <tr>\n",
              "      <th>1</th>\n",
              "      <td>140945</td>\n",
              "      <td>p258326</td>\n",
              "      <td>897464ce9ddc600bced1151f324dd63a</td>\n",
              "      <td>Mr.</td>\n",
              "      <td>FL</td>\n",
              "      <td>2016-10-25 09:22:10</td>\n",
              "      <td>Grades 6-8</td>\n",
              "      <td>History &amp; Civics, Health &amp; Sports</td>\n",
              "      <td>Civics &amp; Government, Team Sports</td>\n",
              "      <td>Wanted: Projector for Hungry Learners</td>\n",
              "      <td>Our students arrive to our school eager to lea...</td>\n",
              "      <td>The projector we need for our school is very c...</td>\n",
              "      <td>NaN</td>\n",
              "      <td>NaN</td>\n",
              "      <td>My students need a projector to help with view...</td>\n",
              "      <td>7</td>\n",
              "      <td>1</td>\n",
              "    </tr>\n",
              "    <tr>\n",
              "      <th>2</th>\n",
              "      <td>21895</td>\n",
              "      <td>p182444</td>\n",
              "      <td>3465aaf82da834c0582ebd0ef8040ca0</td>\n",
              "      <td>Ms.</td>\n",
              "      <td>AZ</td>\n",
              "      <td>2016-08-31 12:03:56</td>\n",
              "      <td>Grades 6-8</td>\n",
              "      <td>Health &amp; Sports</td>\n",
              "      <td>Health &amp; Wellness, Team Sports</td>\n",
              "      <td>Soccer Equipment for AWESOME Middle School Stu...</td>\n",
              "      <td>\\r\\n\\\"True champions aren't always the ones th...</td>\n",
              "      <td>The students on the campus come to school know...</td>\n",
              "      <td>NaN</td>\n",
              "      <td>NaN</td>\n",
              "      <td>My students need shine guards, athletic socks,...</td>\n",
              "      <td>1</td>\n",
              "      <td>0</td>\n",
              "    </tr>\n",
              "    <tr>\n",
              "      <th>3</th>\n",
              "      <td>45</td>\n",
              "      <td>p246581</td>\n",
              "      <td>f3cb9bffbba169bef1a77b243e620b60</td>\n",
              "      <td>Mrs.</td>\n",
              "      <td>KY</td>\n",
              "      <td>2016-10-06 21:16:17</td>\n",
              "      <td>Grades PreK-2</td>\n",
              "      <td>Literacy &amp; Language, Math &amp; Science</td>\n",
              "      <td>Literacy, Mathematics</td>\n",
              "      <td>Techie Kindergarteners</td>\n",
              "      <td>I work at a unique school filled with both ESL...</td>\n",
              "      <td>My students live in high poverty conditions wi...</td>\n",
              "      <td>NaN</td>\n",
              "      <td>NaN</td>\n",
              "      <td>My students need to engage in Reading and Math...</td>\n",
              "      <td>4</td>\n",
              "      <td>1</td>\n",
              "    </tr>\n",
              "    <tr>\n",
              "      <th>4</th>\n",
              "      <td>172407</td>\n",
              "      <td>p104768</td>\n",
              "      <td>be1f7507a41f8479dc06f047086a39ec</td>\n",
              "      <td>Mrs.</td>\n",
              "      <td>TX</td>\n",
              "      <td>2016-07-11 01:10:09</td>\n",
              "      <td>Grades PreK-2</td>\n",
              "      <td>Math &amp; Science</td>\n",
              "      <td>Mathematics</td>\n",
              "      <td>Interactive Math Tools</td>\n",
              "      <td>Our second grade classroom next year will be m...</td>\n",
              "      <td>For many students, math is a subject that does...</td>\n",
              "      <td>NaN</td>\n",
              "      <td>NaN</td>\n",
              "      <td>My students need hands on practice in mathemat...</td>\n",
              "      <td>1</td>\n",
              "      <td>1</td>\n",
              "    </tr>\n",
              "    <tr>\n",
              "      <th>...</th>\n",
              "      <td>...</td>\n",
              "      <td>...</td>\n",
              "      <td>...</td>\n",
              "      <td>...</td>\n",
              "      <td>...</td>\n",
              "      <td>...</td>\n",
              "      <td>...</td>\n",
              "      <td>...</td>\n",
              "      <td>...</td>\n",
              "      <td>...</td>\n",
              "      <td>...</td>\n",
              "      <td>...</td>\n",
              "      <td>...</td>\n",
              "      <td>...</td>\n",
              "      <td>...</td>\n",
              "      <td>...</td>\n",
              "      <td>...</td>\n",
              "    </tr>\n",
              "    <tr>\n",
              "      <th>109243</th>\n",
              "      <td>38267</td>\n",
              "      <td>p048540</td>\n",
              "      <td>fadf72d6cd83ce6074f9be78a6fcd374</td>\n",
              "      <td>Mr.</td>\n",
              "      <td>MO</td>\n",
              "      <td>2016-06-17 12:02:31</td>\n",
              "      <td>Grades PreK-2</td>\n",
              "      <td>Literacy &amp; Language, Math &amp; Science</td>\n",
              "      <td>Literature &amp; Writing, Mathematics</td>\n",
              "      <td>Privacy Shields Help Promote Independent Thinking</td>\n",
              "      <td>Welcome to Mr. Ramos's 2nd grade classroom! We...</td>\n",
              "      <td>I would like to start preparing my second grad...</td>\n",
              "      <td>NaN</td>\n",
              "      <td>NaN</td>\n",
              "      <td>My students need these privacy partitions to h...</td>\n",
              "      <td>0</td>\n",
              "      <td>1</td>\n",
              "    </tr>\n",
              "    <tr>\n",
              "      <th>109244</th>\n",
              "      <td>169142</td>\n",
              "      <td>p166281</td>\n",
              "      <td>1984d915cc8b91aa16b4d1e6e39296c6</td>\n",
              "      <td>Ms.</td>\n",
              "      <td>NJ</td>\n",
              "      <td>2017-01-11 12:49:39</td>\n",
              "      <td>Grades PreK-2</td>\n",
              "      <td>Literacy &amp; Language, Math &amp; Science</td>\n",
              "      <td>Literacy, Mathematics</td>\n",
              "      <td>Technology in Our Classroom</td>\n",
              "      <td>Every morning, we start our day with our core ...</td>\n",
              "      <td>In this technological age, we need to give our...</td>\n",
              "      <td>NaN</td>\n",
              "      <td>NaN</td>\n",
              "      <td>My students need two iPad's and protective cas...</td>\n",
              "      <td>0</td>\n",
              "      <td>1</td>\n",
              "    </tr>\n",
              "    <tr>\n",
              "      <th>109245</th>\n",
              "      <td>143653</td>\n",
              "      <td>p155633</td>\n",
              "      <td>cdbfd04aa041dc6739e9e576b1fb1478</td>\n",
              "      <td>Mrs.</td>\n",
              "      <td>NJ</td>\n",
              "      <td>2016-08-25 17:11:32</td>\n",
              "      <td>Grades PreK-2</td>\n",
              "      <td>Literacy &amp; Language, Math &amp; Science</td>\n",
              "      <td>Literacy, Mathematics</td>\n",
              "      <td>2016/2017 Beginning of the Year Basics</td>\n",
              "      <td>This is a great group of sharing and caring st...</td>\n",
              "      <td>My students learn about special events, holida...</td>\n",
              "      <td>NaN</td>\n",
              "      <td>NaN</td>\n",
              "      <td>My students need giant comfy pillows in order ...</td>\n",
              "      <td>3</td>\n",
              "      <td>1</td>\n",
              "    </tr>\n",
              "    <tr>\n",
              "      <th>109246</th>\n",
              "      <td>164599</td>\n",
              "      <td>p206114</td>\n",
              "      <td>6d5675dbfafa1371f0e2f6f1b716fe2d</td>\n",
              "      <td>Mrs.</td>\n",
              "      <td>NY</td>\n",
              "      <td>2016-07-29 17:53:15</td>\n",
              "      <td>Grades 3-5</td>\n",
              "      <td>Health &amp; Sports, Special Needs</td>\n",
              "      <td>Health &amp; Wellness, Special Needs</td>\n",
              "      <td>Flexible Seating in Inclusive Classroom</td>\n",
              "      <td>Our students live in a small rural community. ...</td>\n",
              "      <td>Flexible classroom seating has been researched...</td>\n",
              "      <td>NaN</td>\n",
              "      <td>NaN</td>\n",
              "      <td>My students need flexible seating options: bea...</td>\n",
              "      <td>0</td>\n",
              "      <td>1</td>\n",
              "    </tr>\n",
              "    <tr>\n",
              "      <th>109247</th>\n",
              "      <td>128381</td>\n",
              "      <td>p191189</td>\n",
              "      <td>ca25d5573f2bd2660f7850a886395927</td>\n",
              "      <td>Ms.</td>\n",
              "      <td>VA</td>\n",
              "      <td>2016-06-29 09:17:01</td>\n",
              "      <td>Grades 6-8</td>\n",
              "      <td>Applied Learning, Math &amp; Science</td>\n",
              "      <td>College &amp; Career Prep, Mathematics</td>\n",
              "      <td>Classroom Tech to Develop 21st Century Leaders</td>\n",
              "      <td>When was the last time that you used math? Pro...</td>\n",
              "      <td>According to Forbes Magazine (2014), companies...</td>\n",
              "      <td>NaN</td>\n",
              "      <td>NaN</td>\n",
              "      <td>My students need opportunities to work with te...</td>\n",
              "      <td>0</td>\n",
              "      <td>1</td>\n",
              "    </tr>\n",
              "  </tbody>\n",
              "</table>\n",
              "<p>109248 rows × 17 columns</p>\n",
              "</div>\n",
              "      <button class=\"colab-df-convert\" onclick=\"convertToInteractive('df-7ff3735f-2835-420f-9423-de0c171ccd3e')\"\n",
              "              title=\"Convert this dataframe to an interactive table.\"\n",
              "              style=\"display:none;\">\n",
              "        \n",
              "  <svg xmlns=\"http://www.w3.org/2000/svg\" height=\"24px\"viewBox=\"0 0 24 24\"\n",
              "       width=\"24px\">\n",
              "    <path d=\"M0 0h24v24H0V0z\" fill=\"none\"/>\n",
              "    <path d=\"M18.56 5.44l.94 2.06.94-2.06 2.06-.94-2.06-.94-.94-2.06-.94 2.06-2.06.94zm-11 1L8.5 8.5l.94-2.06 2.06-.94-2.06-.94L8.5 2.5l-.94 2.06-2.06.94zm10 10l.94 2.06.94-2.06 2.06-.94-2.06-.94-.94-2.06-.94 2.06-2.06.94z\"/><path d=\"M17.41 7.96l-1.37-1.37c-.4-.4-.92-.59-1.43-.59-.52 0-1.04.2-1.43.59L10.3 9.45l-7.72 7.72c-.78.78-.78 2.05 0 2.83L4 21.41c.39.39.9.59 1.41.59.51 0 1.02-.2 1.41-.59l7.78-7.78 2.81-2.81c.8-.78.8-2.07 0-2.86zM5.41 20L4 18.59l7.72-7.72 1.47 1.35L5.41 20z\"/>\n",
              "  </svg>\n",
              "      </button>\n",
              "      \n",
              "  <style>\n",
              "    .colab-df-container {\n",
              "      display:flex;\n",
              "      flex-wrap:wrap;\n",
              "      gap: 12px;\n",
              "    }\n",
              "\n",
              "    .colab-df-convert {\n",
              "      background-color: #E8F0FE;\n",
              "      border: none;\n",
              "      border-radius: 50%;\n",
              "      cursor: pointer;\n",
              "      display: none;\n",
              "      fill: #1967D2;\n",
              "      height: 32px;\n",
              "      padding: 0 0 0 0;\n",
              "      width: 32px;\n",
              "    }\n",
              "\n",
              "    .colab-df-convert:hover {\n",
              "      background-color: #E2EBFA;\n",
              "      box-shadow: 0px 1px 2px rgba(60, 64, 67, 0.3), 0px 1px 3px 1px rgba(60, 64, 67, 0.15);\n",
              "      fill: #174EA6;\n",
              "    }\n",
              "\n",
              "    [theme=dark] .colab-df-convert {\n",
              "      background-color: #3B4455;\n",
              "      fill: #D2E3FC;\n",
              "    }\n",
              "\n",
              "    [theme=dark] .colab-df-convert:hover {\n",
              "      background-color: #434B5C;\n",
              "      box-shadow: 0px 1px 3px 1px rgba(0, 0, 0, 0.15);\n",
              "      filter: drop-shadow(0px 1px 2px rgba(0, 0, 0, 0.3));\n",
              "      fill: #FFFFFF;\n",
              "    }\n",
              "  </style>\n",
              "\n",
              "      <script>\n",
              "        const buttonEl =\n",
              "          document.querySelector('#df-7ff3735f-2835-420f-9423-de0c171ccd3e button.colab-df-convert');\n",
              "        buttonEl.style.display =\n",
              "          google.colab.kernel.accessAllowed ? 'block' : 'none';\n",
              "\n",
              "        async function convertToInteractive(key) {\n",
              "          const element = document.querySelector('#df-7ff3735f-2835-420f-9423-de0c171ccd3e');\n",
              "          const dataTable =\n",
              "            await google.colab.kernel.invokeFunction('convertToInteractive',\n",
              "                                                     [key], {});\n",
              "          if (!dataTable) return;\n",
              "\n",
              "          const docLinkHtml = 'Like what you see? Visit the ' +\n",
              "            '<a target=\"_blank\" href=https://colab.research.google.com/notebooks/data_table.ipynb>data table notebook</a>'\n",
              "            + ' to learn more about interactive tables.';\n",
              "          element.innerHTML = '';\n",
              "          dataTable['output_type'] = 'display_data';\n",
              "          await google.colab.output.renderOutput(dataTable, element);\n",
              "          const docLink = document.createElement('div');\n",
              "          docLink.innerHTML = docLinkHtml;\n",
              "          element.appendChild(docLink);\n",
              "        }\n",
              "      </script>\n",
              "    </div>\n",
              "  </div>\n",
              "  "
            ]
          },
          "metadata": {},
          "execution_count": 5
        }
      ]
    },
    {
      "cell_type": "markdown",
      "source": [
        "# adding price,quantity and proj_res_summary_contains_num to preprocesed data"
      ],
      "metadata": {
        "id": "q0l8mjpJcGYB"
      }
    },
    {
      "cell_type": "code",
      "source": [
        "preprocessed_data.columns"
      ],
      "metadata": {
        "colab": {
          "base_uri": "https://localhost:8080/"
        },
        "id": "nkwsHlEbcbqV",
        "outputId": "fd039ffe-0ccd-4665-8895-23a1cd1f6c39"
      },
      "execution_count": 6,
      "outputs": [
        {
          "output_type": "execute_result",
          "data": {
            "text/plain": [
              "Index(['school_state', 'teacher_prefix', 'project_grade_category',\n",
              "       'teacher_number_of_previously_posted_projects', 'project_is_approved',\n",
              "       'clean_categories', 'clean_subcategories', 'essay', 'price'],\n",
              "      dtype='object')"
            ]
          },
          "metadata": {},
          "execution_count": 6
        }
      ]
    },
    {
      "cell_type": "code",
      "source": [
        "def check_num(line):\n",
        "  return any(ele.isdigit() for ele in line)"
      ],
      "metadata": {
        "id": "8yho5OeAc7Yc"
      },
      "execution_count": 7,
      "outputs": []
    },
    {
      "cell_type": "code",
      "source": [
        "preprocessed_data['proj_res_summary_contains_num']=train_data['project_resource_summary'].apply(lambda x : check_num(x))"
      ],
      "metadata": {
        "id": "0nrAr0nPcbsd"
      },
      "execution_count": 8,
      "outputs": []
    },
    {
      "cell_type": "code",
      "source": [
        "preprocessed_data['proj_res_summary_contains_num']=preprocessed_data['proj_res_summary_contains_num'].apply(lambda x : 1 if True else 0)"
      ],
      "metadata": {
        "id": "CdVdwn_KcbwZ"
      },
      "execution_count": 9,
      "outputs": []
    },
    {
      "cell_type": "code",
      "source": [
        "preprocessed_data"
      ],
      "metadata": {
        "colab": {
          "base_uri": "https://localhost:8080/",
          "height": 1000
        },
        "id": "iqjOy-h7cbyP",
        "outputId": "9f19f604-47ea-40a3-f1fd-29a083ffd47d"
      },
      "execution_count": 10,
      "outputs": [
        {
          "output_type": "execute_result",
          "data": {
            "text/plain": [
              "       school_state teacher_prefix project_grade_category  \\\n",
              "0                ca            mrs          grades_prek_2   \n",
              "1                ut             ms             grades_3_5   \n",
              "2                ca            mrs          grades_prek_2   \n",
              "3                ga            mrs          grades_prek_2   \n",
              "4                wa            mrs             grades_3_5   \n",
              "...             ...            ...                    ...   \n",
              "109243           hi            mrs            grades_9_12   \n",
              "109244           nm             ms          grades_prek_2   \n",
              "109245           il            mrs             grades_3_5   \n",
              "109246           hi            mrs            grades_9_12   \n",
              "109247           ca            mrs          grades_prek_2   \n",
              "\n",
              "        teacher_number_of_previously_posted_projects  project_is_approved  \\\n",
              "0                                                 53                    1   \n",
              "1                                                  4                    1   \n",
              "2                                                 10                    1   \n",
              "3                                                  2                    1   \n",
              "4                                                  2                    1   \n",
              "...                                              ...                  ...   \n",
              "109243                                             5                    1   \n",
              "109244                                             3                    1   \n",
              "109245                                             0                    1   \n",
              "109246                                             1                    1   \n",
              "109247                                             2                    1   \n",
              "\n",
              "         clean_categories                   clean_subcategories  \\\n",
              "0            math_science    appliedsciences health_lifescience   \n",
              "1            specialneeds                          specialneeds   \n",
              "2       literacy_language                              literacy   \n",
              "3         appliedlearning                      earlydevelopment   \n",
              "4       literacy_language                              literacy   \n",
              "...                   ...                                   ...   \n",
              "109243      health_sports                            teamsports   \n",
              "109244    appliedlearning                earlydevelopment other   \n",
              "109245       math_science  appliedsciences environmentalscience   \n",
              "109246       math_science                    health_lifescience   \n",
              "109247  literacy_language           literacy literature_writing   \n",
              "\n",
              "                                                    essay   price  \\\n",
              "0       i fortunate enough use fairy tale stem kits cl...  725.05   \n",
              "1       imagine 8 9 years old you third grade classroo...  213.03   \n",
              "2       having class 24 students comes diverse learner...  329.00   \n",
              "3       i recently read article giving students choice...  481.04   \n",
              "4       my students crave challenge eat obstacles brea...   17.74   \n",
              "...                                                   ...     ...   \n",
              "109243  our day starts 100 students athletes low incom...  143.36   \n",
              "109244  my students range age four five years old atte...  268.57   \n",
              "109245  we title 1 school 650 total students our eleme...  399.00   \n",
              "109246  i teach many different types students my class...  287.73   \n",
              "109247  my first graders eager learn world around they...    5.50   \n",
              "\n",
              "        proj_res_summary_contains_num  \n",
              "0                                   1  \n",
              "1                                   1  \n",
              "2                                   1  \n",
              "3                                   1  \n",
              "4                                   1  \n",
              "...                               ...  \n",
              "109243                              1  \n",
              "109244                              1  \n",
              "109245                              1  \n",
              "109246                              1  \n",
              "109247                              1  \n",
              "\n",
              "[109248 rows x 10 columns]"
            ],
            "text/html": [
              "\n",
              "  <div id=\"df-fd5e134f-1f23-4e8f-85a6-e258a9137a03\">\n",
              "    <div class=\"colab-df-container\">\n",
              "      <div>\n",
              "<style scoped>\n",
              "    .dataframe tbody tr th:only-of-type {\n",
              "        vertical-align: middle;\n",
              "    }\n",
              "\n",
              "    .dataframe tbody tr th {\n",
              "        vertical-align: top;\n",
              "    }\n",
              "\n",
              "    .dataframe thead th {\n",
              "        text-align: right;\n",
              "    }\n",
              "</style>\n",
              "<table border=\"1\" class=\"dataframe\">\n",
              "  <thead>\n",
              "    <tr style=\"text-align: right;\">\n",
              "      <th></th>\n",
              "      <th>school_state</th>\n",
              "      <th>teacher_prefix</th>\n",
              "      <th>project_grade_category</th>\n",
              "      <th>teacher_number_of_previously_posted_projects</th>\n",
              "      <th>project_is_approved</th>\n",
              "      <th>clean_categories</th>\n",
              "      <th>clean_subcategories</th>\n",
              "      <th>essay</th>\n",
              "      <th>price</th>\n",
              "      <th>proj_res_summary_contains_num</th>\n",
              "    </tr>\n",
              "  </thead>\n",
              "  <tbody>\n",
              "    <tr>\n",
              "      <th>0</th>\n",
              "      <td>ca</td>\n",
              "      <td>mrs</td>\n",
              "      <td>grades_prek_2</td>\n",
              "      <td>53</td>\n",
              "      <td>1</td>\n",
              "      <td>math_science</td>\n",
              "      <td>appliedsciences health_lifescience</td>\n",
              "      <td>i fortunate enough use fairy tale stem kits cl...</td>\n",
              "      <td>725.05</td>\n",
              "      <td>1</td>\n",
              "    </tr>\n",
              "    <tr>\n",
              "      <th>1</th>\n",
              "      <td>ut</td>\n",
              "      <td>ms</td>\n",
              "      <td>grades_3_5</td>\n",
              "      <td>4</td>\n",
              "      <td>1</td>\n",
              "      <td>specialneeds</td>\n",
              "      <td>specialneeds</td>\n",
              "      <td>imagine 8 9 years old you third grade classroo...</td>\n",
              "      <td>213.03</td>\n",
              "      <td>1</td>\n",
              "    </tr>\n",
              "    <tr>\n",
              "      <th>2</th>\n",
              "      <td>ca</td>\n",
              "      <td>mrs</td>\n",
              "      <td>grades_prek_2</td>\n",
              "      <td>10</td>\n",
              "      <td>1</td>\n",
              "      <td>literacy_language</td>\n",
              "      <td>literacy</td>\n",
              "      <td>having class 24 students comes diverse learner...</td>\n",
              "      <td>329.00</td>\n",
              "      <td>1</td>\n",
              "    </tr>\n",
              "    <tr>\n",
              "      <th>3</th>\n",
              "      <td>ga</td>\n",
              "      <td>mrs</td>\n",
              "      <td>grades_prek_2</td>\n",
              "      <td>2</td>\n",
              "      <td>1</td>\n",
              "      <td>appliedlearning</td>\n",
              "      <td>earlydevelopment</td>\n",
              "      <td>i recently read article giving students choice...</td>\n",
              "      <td>481.04</td>\n",
              "      <td>1</td>\n",
              "    </tr>\n",
              "    <tr>\n",
              "      <th>4</th>\n",
              "      <td>wa</td>\n",
              "      <td>mrs</td>\n",
              "      <td>grades_3_5</td>\n",
              "      <td>2</td>\n",
              "      <td>1</td>\n",
              "      <td>literacy_language</td>\n",
              "      <td>literacy</td>\n",
              "      <td>my students crave challenge eat obstacles brea...</td>\n",
              "      <td>17.74</td>\n",
              "      <td>1</td>\n",
              "    </tr>\n",
              "    <tr>\n",
              "      <th>...</th>\n",
              "      <td>...</td>\n",
              "      <td>...</td>\n",
              "      <td>...</td>\n",
              "      <td>...</td>\n",
              "      <td>...</td>\n",
              "      <td>...</td>\n",
              "      <td>...</td>\n",
              "      <td>...</td>\n",
              "      <td>...</td>\n",
              "      <td>...</td>\n",
              "    </tr>\n",
              "    <tr>\n",
              "      <th>109243</th>\n",
              "      <td>hi</td>\n",
              "      <td>mrs</td>\n",
              "      <td>grades_9_12</td>\n",
              "      <td>5</td>\n",
              "      <td>1</td>\n",
              "      <td>health_sports</td>\n",
              "      <td>teamsports</td>\n",
              "      <td>our day starts 100 students athletes low incom...</td>\n",
              "      <td>143.36</td>\n",
              "      <td>1</td>\n",
              "    </tr>\n",
              "    <tr>\n",
              "      <th>109244</th>\n",
              "      <td>nm</td>\n",
              "      <td>ms</td>\n",
              "      <td>grades_prek_2</td>\n",
              "      <td>3</td>\n",
              "      <td>1</td>\n",
              "      <td>appliedlearning</td>\n",
              "      <td>earlydevelopment other</td>\n",
              "      <td>my students range age four five years old atte...</td>\n",
              "      <td>268.57</td>\n",
              "      <td>1</td>\n",
              "    </tr>\n",
              "    <tr>\n",
              "      <th>109245</th>\n",
              "      <td>il</td>\n",
              "      <td>mrs</td>\n",
              "      <td>grades_3_5</td>\n",
              "      <td>0</td>\n",
              "      <td>1</td>\n",
              "      <td>math_science</td>\n",
              "      <td>appliedsciences environmentalscience</td>\n",
              "      <td>we title 1 school 650 total students our eleme...</td>\n",
              "      <td>399.00</td>\n",
              "      <td>1</td>\n",
              "    </tr>\n",
              "    <tr>\n",
              "      <th>109246</th>\n",
              "      <td>hi</td>\n",
              "      <td>mrs</td>\n",
              "      <td>grades_9_12</td>\n",
              "      <td>1</td>\n",
              "      <td>1</td>\n",
              "      <td>math_science</td>\n",
              "      <td>health_lifescience</td>\n",
              "      <td>i teach many different types students my class...</td>\n",
              "      <td>287.73</td>\n",
              "      <td>1</td>\n",
              "    </tr>\n",
              "    <tr>\n",
              "      <th>109247</th>\n",
              "      <td>ca</td>\n",
              "      <td>mrs</td>\n",
              "      <td>grades_prek_2</td>\n",
              "      <td>2</td>\n",
              "      <td>1</td>\n",
              "      <td>literacy_language</td>\n",
              "      <td>literacy literature_writing</td>\n",
              "      <td>my first graders eager learn world around they...</td>\n",
              "      <td>5.50</td>\n",
              "      <td>1</td>\n",
              "    </tr>\n",
              "  </tbody>\n",
              "</table>\n",
              "<p>109248 rows × 10 columns</p>\n",
              "</div>\n",
              "      <button class=\"colab-df-convert\" onclick=\"convertToInteractive('df-fd5e134f-1f23-4e8f-85a6-e258a9137a03')\"\n",
              "              title=\"Convert this dataframe to an interactive table.\"\n",
              "              style=\"display:none;\">\n",
              "        \n",
              "  <svg xmlns=\"http://www.w3.org/2000/svg\" height=\"24px\"viewBox=\"0 0 24 24\"\n",
              "       width=\"24px\">\n",
              "    <path d=\"M0 0h24v24H0V0z\" fill=\"none\"/>\n",
              "    <path d=\"M18.56 5.44l.94 2.06.94-2.06 2.06-.94-2.06-.94-.94-2.06-.94 2.06-2.06.94zm-11 1L8.5 8.5l.94-2.06 2.06-.94-2.06-.94L8.5 2.5l-.94 2.06-2.06.94zm10 10l.94 2.06.94-2.06 2.06-.94-2.06-.94-.94-2.06-.94 2.06-2.06.94z\"/><path d=\"M17.41 7.96l-1.37-1.37c-.4-.4-.92-.59-1.43-.59-.52 0-1.04.2-1.43.59L10.3 9.45l-7.72 7.72c-.78.78-.78 2.05 0 2.83L4 21.41c.39.39.9.59 1.41.59.51 0 1.02-.2 1.41-.59l7.78-7.78 2.81-2.81c.8-.78.8-2.07 0-2.86zM5.41 20L4 18.59l7.72-7.72 1.47 1.35L5.41 20z\"/>\n",
              "  </svg>\n",
              "      </button>\n",
              "      \n",
              "  <style>\n",
              "    .colab-df-container {\n",
              "      display:flex;\n",
              "      flex-wrap:wrap;\n",
              "      gap: 12px;\n",
              "    }\n",
              "\n",
              "    .colab-df-convert {\n",
              "      background-color: #E8F0FE;\n",
              "      border: none;\n",
              "      border-radius: 50%;\n",
              "      cursor: pointer;\n",
              "      display: none;\n",
              "      fill: #1967D2;\n",
              "      height: 32px;\n",
              "      padding: 0 0 0 0;\n",
              "      width: 32px;\n",
              "    }\n",
              "\n",
              "    .colab-df-convert:hover {\n",
              "      background-color: #E2EBFA;\n",
              "      box-shadow: 0px 1px 2px rgba(60, 64, 67, 0.3), 0px 1px 3px 1px rgba(60, 64, 67, 0.15);\n",
              "      fill: #174EA6;\n",
              "    }\n",
              "\n",
              "    [theme=dark] .colab-df-convert {\n",
              "      background-color: #3B4455;\n",
              "      fill: #D2E3FC;\n",
              "    }\n",
              "\n",
              "    [theme=dark] .colab-df-convert:hover {\n",
              "      background-color: #434B5C;\n",
              "      box-shadow: 0px 1px 3px 1px rgba(0, 0, 0, 0.15);\n",
              "      filter: drop-shadow(0px 1px 2px rgba(0, 0, 0, 0.3));\n",
              "      fill: #FFFFFF;\n",
              "    }\n",
              "  </style>\n",
              "\n",
              "      <script>\n",
              "        const buttonEl =\n",
              "          document.querySelector('#df-fd5e134f-1f23-4e8f-85a6-e258a9137a03 button.colab-df-convert');\n",
              "        buttonEl.style.display =\n",
              "          google.colab.kernel.accessAllowed ? 'block' : 'none';\n",
              "\n",
              "        async function convertToInteractive(key) {\n",
              "          const element = document.querySelector('#df-fd5e134f-1f23-4e8f-85a6-e258a9137a03');\n",
              "          const dataTable =\n",
              "            await google.colab.kernel.invokeFunction('convertToInteractive',\n",
              "                                                     [key], {});\n",
              "          if (!dataTable) return;\n",
              "\n",
              "          const docLinkHtml = 'Like what you see? Visit the ' +\n",
              "            '<a target=\"_blank\" href=https://colab.research.google.com/notebooks/data_table.ipynb>data table notebook</a>'\n",
              "            + ' to learn more about interactive tables.';\n",
              "          element.innerHTML = '';\n",
              "          dataTable['output_type'] = 'display_data';\n",
              "          await google.colab.output.renderOutput(dataTable, element);\n",
              "          const docLink = document.createElement('div');\n",
              "          docLink.innerHTML = docLinkHtml;\n",
              "          element.appendChild(docLink);\n",
              "        }\n",
              "      </script>\n",
              "    </div>\n",
              "  </div>\n",
              "  "
            ]
          },
          "metadata": {},
          "execution_count": 10
        }
      ]
    },
    {
      "cell_type": "markdown",
      "source": [
        "***Couldnt add quantity because of the non matching number of records ***"
      ],
      "metadata": {
        "id": "0PaqWJbDdrVu"
      }
    },
    {
      "cell_type": "code",
      "source": [
        "x_df=preprocessed_data.drop(columns=['project_is_approved'])\n",
        "x_df"
      ],
      "metadata": {
        "colab": {
          "base_uri": "https://localhost:8080/",
          "height": 1000
        },
        "id": "cl7Ix3SJcQkW",
        "outputId": "98d1c8e3-6f12-4cf7-9508-b0bf65c2660e"
      },
      "execution_count": 11,
      "outputs": [
        {
          "output_type": "execute_result",
          "data": {
            "text/plain": [
              "       school_state teacher_prefix project_grade_category  \\\n",
              "0                ca            mrs          grades_prek_2   \n",
              "1                ut             ms             grades_3_5   \n",
              "2                ca            mrs          grades_prek_2   \n",
              "3                ga            mrs          grades_prek_2   \n",
              "4                wa            mrs             grades_3_5   \n",
              "...             ...            ...                    ...   \n",
              "109243           hi            mrs            grades_9_12   \n",
              "109244           nm             ms          grades_prek_2   \n",
              "109245           il            mrs             grades_3_5   \n",
              "109246           hi            mrs            grades_9_12   \n",
              "109247           ca            mrs          grades_prek_2   \n",
              "\n",
              "        teacher_number_of_previously_posted_projects   clean_categories  \\\n",
              "0                                                 53       math_science   \n",
              "1                                                  4       specialneeds   \n",
              "2                                                 10  literacy_language   \n",
              "3                                                  2    appliedlearning   \n",
              "4                                                  2  literacy_language   \n",
              "...                                              ...                ...   \n",
              "109243                                             5      health_sports   \n",
              "109244                                             3    appliedlearning   \n",
              "109245                                             0       math_science   \n",
              "109246                                             1       math_science   \n",
              "109247                                             2  literacy_language   \n",
              "\n",
              "                         clean_subcategories  \\\n",
              "0         appliedsciences health_lifescience   \n",
              "1                               specialneeds   \n",
              "2                                   literacy   \n",
              "3                           earlydevelopment   \n",
              "4                                   literacy   \n",
              "...                                      ...   \n",
              "109243                            teamsports   \n",
              "109244                earlydevelopment other   \n",
              "109245  appliedsciences environmentalscience   \n",
              "109246                    health_lifescience   \n",
              "109247           literacy literature_writing   \n",
              "\n",
              "                                                    essay   price  \\\n",
              "0       i fortunate enough use fairy tale stem kits cl...  725.05   \n",
              "1       imagine 8 9 years old you third grade classroo...  213.03   \n",
              "2       having class 24 students comes diverse learner...  329.00   \n",
              "3       i recently read article giving students choice...  481.04   \n",
              "4       my students crave challenge eat obstacles brea...   17.74   \n",
              "...                                                   ...     ...   \n",
              "109243  our day starts 100 students athletes low incom...  143.36   \n",
              "109244  my students range age four five years old atte...  268.57   \n",
              "109245  we title 1 school 650 total students our eleme...  399.00   \n",
              "109246  i teach many different types students my class...  287.73   \n",
              "109247  my first graders eager learn world around they...    5.50   \n",
              "\n",
              "        proj_res_summary_contains_num  \n",
              "0                                   1  \n",
              "1                                   1  \n",
              "2                                   1  \n",
              "3                                   1  \n",
              "4                                   1  \n",
              "...                               ...  \n",
              "109243                              1  \n",
              "109244                              1  \n",
              "109245                              1  \n",
              "109246                              1  \n",
              "109247                              1  \n",
              "\n",
              "[109248 rows x 9 columns]"
            ],
            "text/html": [
              "\n",
              "  <div id=\"df-ce7b435a-f9e1-420e-841e-789d2e8f7598\">\n",
              "    <div class=\"colab-df-container\">\n",
              "      <div>\n",
              "<style scoped>\n",
              "    .dataframe tbody tr th:only-of-type {\n",
              "        vertical-align: middle;\n",
              "    }\n",
              "\n",
              "    .dataframe tbody tr th {\n",
              "        vertical-align: top;\n",
              "    }\n",
              "\n",
              "    .dataframe thead th {\n",
              "        text-align: right;\n",
              "    }\n",
              "</style>\n",
              "<table border=\"1\" class=\"dataframe\">\n",
              "  <thead>\n",
              "    <tr style=\"text-align: right;\">\n",
              "      <th></th>\n",
              "      <th>school_state</th>\n",
              "      <th>teacher_prefix</th>\n",
              "      <th>project_grade_category</th>\n",
              "      <th>teacher_number_of_previously_posted_projects</th>\n",
              "      <th>clean_categories</th>\n",
              "      <th>clean_subcategories</th>\n",
              "      <th>essay</th>\n",
              "      <th>price</th>\n",
              "      <th>proj_res_summary_contains_num</th>\n",
              "    </tr>\n",
              "  </thead>\n",
              "  <tbody>\n",
              "    <tr>\n",
              "      <th>0</th>\n",
              "      <td>ca</td>\n",
              "      <td>mrs</td>\n",
              "      <td>grades_prek_2</td>\n",
              "      <td>53</td>\n",
              "      <td>math_science</td>\n",
              "      <td>appliedsciences health_lifescience</td>\n",
              "      <td>i fortunate enough use fairy tale stem kits cl...</td>\n",
              "      <td>725.05</td>\n",
              "      <td>1</td>\n",
              "    </tr>\n",
              "    <tr>\n",
              "      <th>1</th>\n",
              "      <td>ut</td>\n",
              "      <td>ms</td>\n",
              "      <td>grades_3_5</td>\n",
              "      <td>4</td>\n",
              "      <td>specialneeds</td>\n",
              "      <td>specialneeds</td>\n",
              "      <td>imagine 8 9 years old you third grade classroo...</td>\n",
              "      <td>213.03</td>\n",
              "      <td>1</td>\n",
              "    </tr>\n",
              "    <tr>\n",
              "      <th>2</th>\n",
              "      <td>ca</td>\n",
              "      <td>mrs</td>\n",
              "      <td>grades_prek_2</td>\n",
              "      <td>10</td>\n",
              "      <td>literacy_language</td>\n",
              "      <td>literacy</td>\n",
              "      <td>having class 24 students comes diverse learner...</td>\n",
              "      <td>329.00</td>\n",
              "      <td>1</td>\n",
              "    </tr>\n",
              "    <tr>\n",
              "      <th>3</th>\n",
              "      <td>ga</td>\n",
              "      <td>mrs</td>\n",
              "      <td>grades_prek_2</td>\n",
              "      <td>2</td>\n",
              "      <td>appliedlearning</td>\n",
              "      <td>earlydevelopment</td>\n",
              "      <td>i recently read article giving students choice...</td>\n",
              "      <td>481.04</td>\n",
              "      <td>1</td>\n",
              "    </tr>\n",
              "    <tr>\n",
              "      <th>4</th>\n",
              "      <td>wa</td>\n",
              "      <td>mrs</td>\n",
              "      <td>grades_3_5</td>\n",
              "      <td>2</td>\n",
              "      <td>literacy_language</td>\n",
              "      <td>literacy</td>\n",
              "      <td>my students crave challenge eat obstacles brea...</td>\n",
              "      <td>17.74</td>\n",
              "      <td>1</td>\n",
              "    </tr>\n",
              "    <tr>\n",
              "      <th>...</th>\n",
              "      <td>...</td>\n",
              "      <td>...</td>\n",
              "      <td>...</td>\n",
              "      <td>...</td>\n",
              "      <td>...</td>\n",
              "      <td>...</td>\n",
              "      <td>...</td>\n",
              "      <td>...</td>\n",
              "      <td>...</td>\n",
              "    </tr>\n",
              "    <tr>\n",
              "      <th>109243</th>\n",
              "      <td>hi</td>\n",
              "      <td>mrs</td>\n",
              "      <td>grades_9_12</td>\n",
              "      <td>5</td>\n",
              "      <td>health_sports</td>\n",
              "      <td>teamsports</td>\n",
              "      <td>our day starts 100 students athletes low incom...</td>\n",
              "      <td>143.36</td>\n",
              "      <td>1</td>\n",
              "    </tr>\n",
              "    <tr>\n",
              "      <th>109244</th>\n",
              "      <td>nm</td>\n",
              "      <td>ms</td>\n",
              "      <td>grades_prek_2</td>\n",
              "      <td>3</td>\n",
              "      <td>appliedlearning</td>\n",
              "      <td>earlydevelopment other</td>\n",
              "      <td>my students range age four five years old atte...</td>\n",
              "      <td>268.57</td>\n",
              "      <td>1</td>\n",
              "    </tr>\n",
              "    <tr>\n",
              "      <th>109245</th>\n",
              "      <td>il</td>\n",
              "      <td>mrs</td>\n",
              "      <td>grades_3_5</td>\n",
              "      <td>0</td>\n",
              "      <td>math_science</td>\n",
              "      <td>appliedsciences environmentalscience</td>\n",
              "      <td>we title 1 school 650 total students our eleme...</td>\n",
              "      <td>399.00</td>\n",
              "      <td>1</td>\n",
              "    </tr>\n",
              "    <tr>\n",
              "      <th>109246</th>\n",
              "      <td>hi</td>\n",
              "      <td>mrs</td>\n",
              "      <td>grades_9_12</td>\n",
              "      <td>1</td>\n",
              "      <td>math_science</td>\n",
              "      <td>health_lifescience</td>\n",
              "      <td>i teach many different types students my class...</td>\n",
              "      <td>287.73</td>\n",
              "      <td>1</td>\n",
              "    </tr>\n",
              "    <tr>\n",
              "      <th>109247</th>\n",
              "      <td>ca</td>\n",
              "      <td>mrs</td>\n",
              "      <td>grades_prek_2</td>\n",
              "      <td>2</td>\n",
              "      <td>literacy_language</td>\n",
              "      <td>literacy literature_writing</td>\n",
              "      <td>my first graders eager learn world around they...</td>\n",
              "      <td>5.50</td>\n",
              "      <td>1</td>\n",
              "    </tr>\n",
              "  </tbody>\n",
              "</table>\n",
              "<p>109248 rows × 9 columns</p>\n",
              "</div>\n",
              "      <button class=\"colab-df-convert\" onclick=\"convertToInteractive('df-ce7b435a-f9e1-420e-841e-789d2e8f7598')\"\n",
              "              title=\"Convert this dataframe to an interactive table.\"\n",
              "              style=\"display:none;\">\n",
              "        \n",
              "  <svg xmlns=\"http://www.w3.org/2000/svg\" height=\"24px\"viewBox=\"0 0 24 24\"\n",
              "       width=\"24px\">\n",
              "    <path d=\"M0 0h24v24H0V0z\" fill=\"none\"/>\n",
              "    <path d=\"M18.56 5.44l.94 2.06.94-2.06 2.06-.94-2.06-.94-.94-2.06-.94 2.06-2.06.94zm-11 1L8.5 8.5l.94-2.06 2.06-.94-2.06-.94L8.5 2.5l-.94 2.06-2.06.94zm10 10l.94 2.06.94-2.06 2.06-.94-2.06-.94-.94-2.06-.94 2.06-2.06.94z\"/><path d=\"M17.41 7.96l-1.37-1.37c-.4-.4-.92-.59-1.43-.59-.52 0-1.04.2-1.43.59L10.3 9.45l-7.72 7.72c-.78.78-.78 2.05 0 2.83L4 21.41c.39.39.9.59 1.41.59.51 0 1.02-.2 1.41-.59l7.78-7.78 2.81-2.81c.8-.78.8-2.07 0-2.86zM5.41 20L4 18.59l7.72-7.72 1.47 1.35L5.41 20z\"/>\n",
              "  </svg>\n",
              "      </button>\n",
              "      \n",
              "  <style>\n",
              "    .colab-df-container {\n",
              "      display:flex;\n",
              "      flex-wrap:wrap;\n",
              "      gap: 12px;\n",
              "    }\n",
              "\n",
              "    .colab-df-convert {\n",
              "      background-color: #E8F0FE;\n",
              "      border: none;\n",
              "      border-radius: 50%;\n",
              "      cursor: pointer;\n",
              "      display: none;\n",
              "      fill: #1967D2;\n",
              "      height: 32px;\n",
              "      padding: 0 0 0 0;\n",
              "      width: 32px;\n",
              "    }\n",
              "\n",
              "    .colab-df-convert:hover {\n",
              "      background-color: #E2EBFA;\n",
              "      box-shadow: 0px 1px 2px rgba(60, 64, 67, 0.3), 0px 1px 3px 1px rgba(60, 64, 67, 0.15);\n",
              "      fill: #174EA6;\n",
              "    }\n",
              "\n",
              "    [theme=dark] .colab-df-convert {\n",
              "      background-color: #3B4455;\n",
              "      fill: #D2E3FC;\n",
              "    }\n",
              "\n",
              "    [theme=dark] .colab-df-convert:hover {\n",
              "      background-color: #434B5C;\n",
              "      box-shadow: 0px 1px 3px 1px rgba(0, 0, 0, 0.15);\n",
              "      filter: drop-shadow(0px 1px 2px rgba(0, 0, 0, 0.3));\n",
              "      fill: #FFFFFF;\n",
              "    }\n",
              "  </style>\n",
              "\n",
              "      <script>\n",
              "        const buttonEl =\n",
              "          document.querySelector('#df-ce7b435a-f9e1-420e-841e-789d2e8f7598 button.colab-df-convert');\n",
              "        buttonEl.style.display =\n",
              "          google.colab.kernel.accessAllowed ? 'block' : 'none';\n",
              "\n",
              "        async function convertToInteractive(key) {\n",
              "          const element = document.querySelector('#df-ce7b435a-f9e1-420e-841e-789d2e8f7598');\n",
              "          const dataTable =\n",
              "            await google.colab.kernel.invokeFunction('convertToInteractive',\n",
              "                                                     [key], {});\n",
              "          if (!dataTable) return;\n",
              "\n",
              "          const docLinkHtml = 'Like what you see? Visit the ' +\n",
              "            '<a target=\"_blank\" href=https://colab.research.google.com/notebooks/data_table.ipynb>data table notebook</a>'\n",
              "            + ' to learn more about interactive tables.';\n",
              "          element.innerHTML = '';\n",
              "          dataTable['output_type'] = 'display_data';\n",
              "          await google.colab.output.renderOutput(dataTable, element);\n",
              "          const docLink = document.createElement('div');\n",
              "          docLink.innerHTML = docLinkHtml;\n",
              "          element.appendChild(docLink);\n",
              "        }\n",
              "      </script>\n",
              "    </div>\n",
              "  </div>\n",
              "  "
            ]
          },
          "metadata": {},
          "execution_count": 11
        }
      ]
    },
    {
      "cell_type": "code",
      "source": [
        "y_df=preprocessed_data['project_is_approved'].values\n",
        "y_df"
      ],
      "metadata": {
        "colab": {
          "base_uri": "https://localhost:8080/"
        },
        "id": "8TIXu2TkcVB5",
        "outputId": "7a0d1710-b2d0-4ea4-dc3b-ed846f8f4f0e"
      },
      "execution_count": 12,
      "outputs": [
        {
          "output_type": "execute_result",
          "data": {
            "text/plain": [
              "array([1, 1, 1, ..., 1, 1, 1])"
            ]
          },
          "metadata": {},
          "execution_count": 12
        }
      ]
    },
    {
      "cell_type": "code",
      "source": [
        "preprocessed_data[preprocessed_data.isnull().any(axis=1)]"
      ],
      "metadata": {
        "colab": {
          "base_uri": "https://localhost:8080/",
          "height": 113
        },
        "id": "4yCBjDSlcWvd",
        "outputId": "c985320b-9d83-4302-b314-3efc8dfa34de"
      },
      "execution_count": 13,
      "outputs": [
        {
          "output_type": "execute_result",
          "data": {
            "text/plain": [
              "Empty DataFrame\n",
              "Columns: [school_state, teacher_prefix, project_grade_category, teacher_number_of_previously_posted_projects, project_is_approved, clean_categories, clean_subcategories, essay, price, proj_res_summary_contains_num]\n",
              "Index: []"
            ],
            "text/html": [
              "\n",
              "  <div id=\"df-f1ef08e6-39fe-4e99-9e01-fbb563e306cb\">\n",
              "    <div class=\"colab-df-container\">\n",
              "      <div>\n",
              "<style scoped>\n",
              "    .dataframe tbody tr th:only-of-type {\n",
              "        vertical-align: middle;\n",
              "    }\n",
              "\n",
              "    .dataframe tbody tr th {\n",
              "        vertical-align: top;\n",
              "    }\n",
              "\n",
              "    .dataframe thead th {\n",
              "        text-align: right;\n",
              "    }\n",
              "</style>\n",
              "<table border=\"1\" class=\"dataframe\">\n",
              "  <thead>\n",
              "    <tr style=\"text-align: right;\">\n",
              "      <th></th>\n",
              "      <th>school_state</th>\n",
              "      <th>teacher_prefix</th>\n",
              "      <th>project_grade_category</th>\n",
              "      <th>teacher_number_of_previously_posted_projects</th>\n",
              "      <th>project_is_approved</th>\n",
              "      <th>clean_categories</th>\n",
              "      <th>clean_subcategories</th>\n",
              "      <th>essay</th>\n",
              "      <th>price</th>\n",
              "      <th>proj_res_summary_contains_num</th>\n",
              "    </tr>\n",
              "  </thead>\n",
              "  <tbody>\n",
              "  </tbody>\n",
              "</table>\n",
              "</div>\n",
              "      <button class=\"colab-df-convert\" onclick=\"convertToInteractive('df-f1ef08e6-39fe-4e99-9e01-fbb563e306cb')\"\n",
              "              title=\"Convert this dataframe to an interactive table.\"\n",
              "              style=\"display:none;\">\n",
              "        \n",
              "  <svg xmlns=\"http://www.w3.org/2000/svg\" height=\"24px\"viewBox=\"0 0 24 24\"\n",
              "       width=\"24px\">\n",
              "    <path d=\"M0 0h24v24H0V0z\" fill=\"none\"/>\n",
              "    <path d=\"M18.56 5.44l.94 2.06.94-2.06 2.06-.94-2.06-.94-.94-2.06-.94 2.06-2.06.94zm-11 1L8.5 8.5l.94-2.06 2.06-.94-2.06-.94L8.5 2.5l-.94 2.06-2.06.94zm10 10l.94 2.06.94-2.06 2.06-.94-2.06-.94-.94-2.06-.94 2.06-2.06.94z\"/><path d=\"M17.41 7.96l-1.37-1.37c-.4-.4-.92-.59-1.43-.59-.52 0-1.04.2-1.43.59L10.3 9.45l-7.72 7.72c-.78.78-.78 2.05 0 2.83L4 21.41c.39.39.9.59 1.41.59.51 0 1.02-.2 1.41-.59l7.78-7.78 2.81-2.81c.8-.78.8-2.07 0-2.86zM5.41 20L4 18.59l7.72-7.72 1.47 1.35L5.41 20z\"/>\n",
              "  </svg>\n",
              "      </button>\n",
              "      \n",
              "  <style>\n",
              "    .colab-df-container {\n",
              "      display:flex;\n",
              "      flex-wrap:wrap;\n",
              "      gap: 12px;\n",
              "    }\n",
              "\n",
              "    .colab-df-convert {\n",
              "      background-color: #E8F0FE;\n",
              "      border: none;\n",
              "      border-radius: 50%;\n",
              "      cursor: pointer;\n",
              "      display: none;\n",
              "      fill: #1967D2;\n",
              "      height: 32px;\n",
              "      padding: 0 0 0 0;\n",
              "      width: 32px;\n",
              "    }\n",
              "\n",
              "    .colab-df-convert:hover {\n",
              "      background-color: #E2EBFA;\n",
              "      box-shadow: 0px 1px 2px rgba(60, 64, 67, 0.3), 0px 1px 3px 1px rgba(60, 64, 67, 0.15);\n",
              "      fill: #174EA6;\n",
              "    }\n",
              "\n",
              "    [theme=dark] .colab-df-convert {\n",
              "      background-color: #3B4455;\n",
              "      fill: #D2E3FC;\n",
              "    }\n",
              "\n",
              "    [theme=dark] .colab-df-convert:hover {\n",
              "      background-color: #434B5C;\n",
              "      box-shadow: 0px 1px 3px 1px rgba(0, 0, 0, 0.15);\n",
              "      filter: drop-shadow(0px 1px 2px rgba(0, 0, 0, 0.3));\n",
              "      fill: #FFFFFF;\n",
              "    }\n",
              "  </style>\n",
              "\n",
              "      <script>\n",
              "        const buttonEl =\n",
              "          document.querySelector('#df-f1ef08e6-39fe-4e99-9e01-fbb563e306cb button.colab-df-convert');\n",
              "        buttonEl.style.display =\n",
              "          google.colab.kernel.accessAllowed ? 'block' : 'none';\n",
              "\n",
              "        async function convertToInteractive(key) {\n",
              "          const element = document.querySelector('#df-f1ef08e6-39fe-4e99-9e01-fbb563e306cb');\n",
              "          const dataTable =\n",
              "            await google.colab.kernel.invokeFunction('convertToInteractive',\n",
              "                                                     [key], {});\n",
              "          if (!dataTable) return;\n",
              "\n",
              "          const docLinkHtml = 'Like what you see? Visit the ' +\n",
              "            '<a target=\"_blank\" href=https://colab.research.google.com/notebooks/data_table.ipynb>data table notebook</a>'\n",
              "            + ' to learn more about interactive tables.';\n",
              "          element.innerHTML = '';\n",
              "          dataTable['output_type'] = 'display_data';\n",
              "          await google.colab.output.renderOutput(dataTable, element);\n",
              "          const docLink = document.createElement('div');\n",
              "          docLink.innerHTML = docLinkHtml;\n",
              "          element.appendChild(docLink);\n",
              "        }\n",
              "      </script>\n",
              "    </div>\n",
              "  </div>\n",
              "  "
            ]
          },
          "metadata": {},
          "execution_count": 13
        }
      ]
    },
    {
      "cell_type": "markdown",
      "source": [
        "# splitting"
      ],
      "metadata": {
        "id": "5zSgvIEJeAGo"
      }
    },
    {
      "cell_type": "code",
      "source": [
        "x_train,x_test,y_train,y_test=train_test_split(x_df,y_df,stratify=y_df,train_size=0.8)\n",
        "print(x_train.shape,x_test.shape)\n",
        "print(y_train.shape,y_test.shape)"
      ],
      "metadata": {
        "colab": {
          "base_uri": "https://localhost:8080/"
        },
        "id": "v7YGz7g5d_kJ",
        "outputId": "5730c962-46b0-457e-b8ea-d56264c5fb16"
      },
      "execution_count": 14,
      "outputs": [
        {
          "output_type": "stream",
          "name": "stdout",
          "text": [
            "(87398, 9) (21850, 9)\n",
            "(87398,) (21850,)\n"
          ]
        }
      ]
    },
    {
      "cell_type": "code",
      "source": [
        "# categorising y\n",
        "y_train = utils.to_categorical(y_train, 2)\n",
        "y_test = utils.to_categorical(y_test, 2)"
      ],
      "metadata": {
        "id": "GlBuDq_SCmMt"
      },
      "execution_count": 15,
      "outputs": []
    },
    {
      "cell_type": "markdown",
      "source": [
        "# Tokenizing ESSAY using keras"
      ],
      "metadata": {
        "id": "j6oiqHdaeHeo"
      }
    },
    {
      "cell_type": "code",
      "source": [
        "tokenizer=text.Tokenizer(oov_token=\"<OOV>\")\n",
        "tokenizer.fit_on_texts(x_train['essay'])\n",
        "vocab_size=len(tokenizer.word_index)+1\n",
        "x_train_seq=tokenizer.texts_to_sequences(x_train['essay'])\n",
        "x_test_seq=tokenizer.texts_to_sequences(x_test['essay'])  \n",
        "print(len(tokenizer.word_counts))\n",
        "print(len(tokenizer.word_index))\n"
      ],
      "metadata": {
        "colab": {
          "base_uri": "https://localhost:8080/"
        },
        "id": "Ac_TZVYCcZcG",
        "outputId": "b06ca18b-33cf-43ec-8696-cb1f9f533084"
      },
      "execution_count": 16,
      "outputs": [
        {
          "output_type": "stream",
          "name": "stdout",
          "text": [
            "51517\n",
            "51518\n"
          ]
        }
      ]
    },
    {
      "cell_type": "code",
      "source": [
        "# Padding essay\n",
        "max_len_essay=max([len(x.split()) for x in x_train['essay']])\n",
        "print(max_len_essay)\n",
        "x_train_pad_essay=pad_sequences(x_train_seq,maxlen=max_len_essay)\n",
        "x_test_pad_essay=pad_sequences(x_test_seq,maxlen=max_len_essay)\n",
        "\n"
      ],
      "metadata": {
        "colab": {
          "base_uri": "https://localhost:8080/"
        },
        "id": "Kj6BPUG7etbj",
        "outputId": "b5532c0c-bd0f-4640-8bd0-0b2a4356d9a5"
      },
      "execution_count": 17,
      "outputs": [
        {
          "output_type": "stream",
          "name": "stdout",
          "text": [
            "339\n"
          ]
        }
      ]
    },
    {
      "cell_type": "markdown",
      "source": [
        "# loading the glove pk file 300 dim"
      ],
      "metadata": {
        "id": "wvKEeHhVgtvY"
      }
    },
    {
      "cell_type": "code",
      "source": [
        "with open(\"/content/glove_vectors\",'rb') as f:\n",
        "  glove_vectors=pk.load(f)\n",
        "\n",
        "embedding_matrix=np.zeros((vocab_size,300))\n",
        "\n",
        "for word,index in tokenizer.word_index.items():\n",
        "  if word in glove_vectors:\n",
        "    embedding_matrix[index]=glove_vectors.get(word)\n",
        "\n",
        "print('Number of words not foung in the GlOVE file',len(np.where(~embedding_matrix.any(axis=1))[0]))\n",
        "\n"
      ],
      "metadata": {
        "id": "BQ0fCXcje5ik",
        "colab": {
          "base_uri": "https://localhost:8080/"
        },
        "outputId": "d0a79c2b-df7f-46d0-dd5a-483d64ce6e38"
      },
      "execution_count": 18,
      "outputs": [
        {
          "output_type": "stream",
          "name": "stdout",
          "text": [
            "Number of words not foung in the GlOVE file 5572\n"
          ]
        }
      ]
    },
    {
      "cell_type": "markdown",
      "source": [
        "# *** CATEGORICAL FEATURES***"
      ],
      "metadata": {
        "id": "j6ceYxlmd78t"
      }
    },
    {
      "cell_type": "markdown",
      "source": [
        "## 1 SCHOOL STATE"
      ],
      "metadata": {
        "id": "GiUTNQA39x4s"
      }
    },
    {
      "cell_type": "code",
      "source": [
        "tokenizer_school=text.Tokenizer(oov_token=\"<OOV>\")\n",
        "tokenizer_school.fit_on_texts(x_train['school_state'])\n",
        "vocab_size_school=len(tokenizer_school.word_index)+1\n",
        "print('vocab size is ',vocab_size_school)\n",
        "\n",
        "#text to seq\n",
        "x_train_seq_school=tokenizer_school.texts_to_sequences(x_train['school_state'])\n",
        "x_test_seq_school=tokenizer_school.texts_to_sequences(x_test['school_state'])\n",
        "\n",
        "#padding\n",
        "max_len_school=max([len(x.split(\" \")) for x in x_train['school_state']])\n",
        "print('max len is ',max_len_school)\n",
        "x_train_pad_school=pad_sequences(x_train_seq_school,maxlen=max_len_school)\n",
        "x_test_pad_school=pad_sequences(x_test_seq_school,maxlen=max_len_school)\n",
        "\n",
        "#embedding\n",
        "#https://mmuratarat.github.io/2019-06-12/embeddings-with-numeric-variables-Keras#:~:text=Embedding%20Dimensionality&text=Jeremy%20Howard%20provides%20a%20general,So%20it's%20kind%20of%20experimental.\n",
        "number_of_categories=x_train.school_state.nunique()\n",
        "embedding_size_school= int(min(50, np.ceil(number_of_categories/2)))\n",
        "print(\"vec space size for school sttaes is\" ,embedding_size_school)"
      ],
      "metadata": {
        "colab": {
          "base_uri": "https://localhost:8080/"
        },
        "id": "4f_pL3szjzn_",
        "outputId": "0ac27a5d-0ed0-4c01-a0f6-6047fe2ecc7d"
      },
      "execution_count": 19,
      "outputs": [
        {
          "output_type": "stream",
          "name": "stdout",
          "text": [
            "vocab size is  53\n",
            "max len is  1\n",
            "vec space size for school sttaes is 26\n"
          ]
        }
      ]
    },
    {
      "cell_type": "markdown",
      "source": [
        "# 3  PROJECT GRADE CAT"
      ],
      "metadata": {
        "id": "B_o4Ou54-dxE"
      }
    },
    {
      "cell_type": "code",
      "source": [
        "tokenizer_grad_cat=text.Tokenizer(oov_token=\"<OOV>\")\n",
        "tokenizer_grad_cat.fit_on_texts(x_train['project_grade_category'])\n",
        "#tokenizer_grad_cat.word_counts\n",
        "vocab_size_grad_cat=len(tokenizer_grad_cat.word_index)+1\n",
        "print(\"vocab_size_grad_cat\",vocab_size_grad_cat)\n",
        "\n",
        "x_train_seq_grad_cat=tokenizer_grad_cat.texts_to_sequences(x_train['project_grade_category'])\n",
        "x_tets_seq_grad_cat=tokenizer_grad_cat.texts_to_sequences(x_test['project_grade_category'])\n",
        "\n",
        "#padding\n",
        "#if used split(\"_\") then we could have get max len 3 \n",
        "max_len_proj_grad=max([len(x.split(\" \")) for x in x_train['project_grade_category']])\n",
        "print('max len proj grade',max_len_proj_grad)\n",
        "\n",
        "\n",
        "x_train_pad_proj_grad=pad_sequences(x_train_seq_grad_cat,max_len_proj_grad)\n",
        "x_test_pad_proj_grad=pad_sequences(x_tets_seq_grad_cat,max_len_proj_grad)\n",
        "#pad_x_tr_proj_grad\n",
        "\n",
        "#embedding\n",
        "embedding_size_proj_grad=int(min(np.ceil(x_train['project_grade_category'].nunique()/2),50))\n",
        "print(\"vector sp[ace size of proj grad cat is \",embedding_size_proj_grad)\n"
      ],
      "metadata": {
        "colab": {
          "base_uri": "https://localhost:8080/"
        },
        "id": "xjYL_FmL-bYF",
        "outputId": "48a60398-5252-4b80-8dba-a90b032c2a2b"
      },
      "execution_count": 20,
      "outputs": [
        {
          "output_type": "stream",
          "name": "stdout",
          "text": [
            "vocab_size_grad_cat 11\n",
            "max len proj grade 1\n",
            "vector sp[ace size of proj grad cat is  2\n"
          ]
        }
      ]
    },
    {
      "cell_type": "markdown",
      "source": [
        "# 4 # TEACHER PREFIX"
      ],
      "metadata": {
        "id": "Vrkbij5k_KiA"
      }
    },
    {
      "cell_type": "code",
      "source": [
        "#tokenizer_teacher_pre=text.Tokenizer(oov_token=\"<OOV>\")\n",
        "tokenizer_teacher_pre=text.Tokenizer()\n",
        "tokenizer_teacher_pre.fit_on_texts(x_train['teacher_prefix'])\n",
        "vocab_size_teacer_pre=len(tokenizer_teacher_pre.word_index)+1\n",
        "print('vocab size is ',vocab_size_teacer_pre)\n",
        "\n",
        "#text tom seq\n",
        "x_train_seq_teacher_pre=tokenizer_teacher_pre.texts_to_sequences(x_train['teacher_prefix'])\n",
        "x_test_seq_teacher_pre=tokenizer_teacher_pre.texts_to_sequences(x_test['teacher_prefix'])\n",
        "\n",
        "max_len_teacher_pre=max([len(x.split()) for x in x_train['teacher_prefix']])\n",
        "print(\"max_len_teacher_pre\",max_len_teacher_pre)\n",
        "\n",
        "#padingh\n",
        "x_train_pad_teacher_pre=pad_sequences(sequences=x_train_seq_teacher_pre,maxlen=max_len_teacher_pre)\n",
        "x_test_pad_teacher_pre=pad_sequences(sequences=x_test_seq_teacher_pre,maxlen=max_len_teacher_pre)\n",
        "#embedding\n",
        "embedding_size_teacher_pre = int(min(np.ceil(x_train['teacher_prefix'].nunique()/2),50))\n",
        "print(\"embedding_size_teacher_pre\",embedding_size_teacher_pre)"
      ],
      "metadata": {
        "colab": {
          "base_uri": "https://localhost:8080/"
        },
        "id": "w9DhFNWd_EV-",
        "outputId": "aa00cbb0-3635-4921-cb4f-e4ae464490f9"
      },
      "execution_count": 21,
      "outputs": [
        {
          "output_type": "stream",
          "name": "stdout",
          "text": [
            "vocab size is  6\n",
            "max_len_teacher_pre 1\n",
            "embedding_size_teacher_pre 3\n"
          ]
        }
      ]
    },
    {
      "cell_type": "code",
      "source": [
        "tokenizer_teacher_pre.word_index"
      ],
      "metadata": {
        "colab": {
          "base_uri": "https://localhost:8080/"
        },
        "id": "Nf-fstaWrOLs",
        "outputId": "1d0cf71c-b5f9-4eda-fe60-57ddac70ed3d"
      },
      "execution_count": 22,
      "outputs": [
        {
          "output_type": "execute_result",
          "data": {
            "text/plain": [
              "{'dr': 5, 'mr': 3, 'mrs': 1, 'ms': 2, 'teacher': 4}"
            ]
          },
          "metadata": {},
          "execution_count": 22
        }
      ]
    },
    {
      "cell_type": "code",
      "source": [
        "preprocessed_data.teacher_prefix.nunique()"
      ],
      "metadata": {
        "colab": {
          "base_uri": "https://localhost:8080/"
        },
        "id": "4Kvgq0-WraEL",
        "outputId": "0377258e-8ed1-4532-81a4-01327040eb19"
      },
      "execution_count": 23,
      "outputs": [
        {
          "output_type": "execute_result",
          "data": {
            "text/plain": [
              "5"
            ]
          },
          "metadata": {},
          "execution_count": 23
        }
      ]
    },
    {
      "cell_type": "code",
      "source": [
        "preprocessed_data.teacher_prefix.value_counts()"
      ],
      "metadata": {
        "colab": {
          "base_uri": "https://localhost:8080/"
        },
        "id": "jwmtlpW4rZ_5",
        "outputId": "82258bee-81a4-452e-b639-cd2a493270d4"
      },
      "execution_count": 24,
      "outputs": [
        {
          "output_type": "execute_result",
          "data": {
            "text/plain": [
              "mrs        57272\n",
              "ms         38955\n",
              "mr         10648\n",
              "teacher     2360\n",
              "dr            13\n",
              "Name: teacher_prefix, dtype: int64"
            ]
          },
          "metadata": {},
          "execution_count": 24
        }
      ]
    },
    {
      "cell_type": "code",
      "source": [
        "x_train.teacher_prefix.value_counts()"
      ],
      "metadata": {
        "colab": {
          "base_uri": "https://localhost:8080/"
        },
        "id": "3gMnnDHSrZ-a",
        "outputId": "55026fa7-aae0-4663-e8b5-c5756c363c5b"
      },
      "execution_count": 25,
      "outputs": [
        {
          "output_type": "execute_result",
          "data": {
            "text/plain": [
              "mrs        45758\n",
              "ms         31242\n",
              "mr          8510\n",
              "teacher     1880\n",
              "dr             8\n",
              "Name: teacher_prefix, dtype: int64"
            ]
          },
          "metadata": {},
          "execution_count": 25
        }
      ]
    },
    {
      "cell_type": "markdown",
      "source": [
        "# 5 CLEAN CAT"
      ],
      "metadata": {
        "id": "SmPyHteo_0vQ"
      }
    },
    {
      "cell_type": "code",
      "source": [
        "tokenizer_clean_cat=text.Tokenizer(oov_token=\"OOV\")\n",
        "tokenizer_clean_cat.fit_on_texts(x_train['clean_categories'])\n",
        "\n",
        "vocab_size_clean_cat=len(tokenizer_clean_cat.word_index)+1\n",
        "print('vocab size is ',vocab_size_clean_cat)\n",
        "x_train_seq_clean_cat=tokenizer_clean_cat.texts_to_sequences(x_train['clean_categories'])\n",
        "x_test_seq_clean_cat=tokenizer_clean_cat.texts_to_sequences(x_test['clean_categories'])\n",
        "\n",
        "# padding\n",
        "max_len_clean_cat=max([len(x.split()) for x in x_train['clean_categories']])\n",
        "print('max len is ',max_len_clean_cat)\n",
        "x_train_pad_clean_cat=pad_sequences(x_train_seq_clean_cat,maxlen=max_len_clean_cat)\n",
        "x_test_pad_clean_cat=pad_sequences(x_test_seq_clean_cat,maxlen=max_len_clean_cat)\n",
        "\n",
        "# embedding size \n",
        "embedding_size_clean_cat=int(min(np.ceil(x_train['clean_categories'].nunique()/2),50))\n",
        "print(\"embedding_size_clean_cat\",embedding_size_clean_cat)"
      ],
      "metadata": {
        "colab": {
          "base_uri": "https://localhost:8080/"
        },
        "id": "8e0QJPsI_ub0",
        "outputId": "6fc872e3-fddf-496a-8176-7f80e2562af2"
      },
      "execution_count": 26,
      "outputs": [
        {
          "output_type": "stream",
          "name": "stdout",
          "text": [
            "vocab size is  17\n",
            "max len is  3\n",
            "embedding_size_clean_cat 26\n"
          ]
        }
      ]
    },
    {
      "cell_type": "markdown",
      "source": [
        "# 6  CLEAN SUB CAT"
      ],
      "metadata": {
        "id": "GI30FAMoA8D1"
      }
    },
    {
      "cell_type": "code",
      "source": [
        "tokenizer_clean_subcat=text.Tokenizer(oov_token=\"<OOV>\")\n",
        "tokenizer_clean_subcat.fit_on_texts(x_train['clean_subcategories'])\n",
        "vocab_size_clean_subcat =   len(tokenizer_clean_subcat.word_index)+1\n",
        "print(\"vocab_size_clean_subcat\",vocab_size_clean_subcat)\n",
        "\n",
        "x_train_seq_clean_subcat=tokenizer_clean_subcat.texts_to_sequences(x_train['clean_subcategories'])\n",
        "x_test_seq_clean_subcat=tokenizer_clean_subcat.texts_to_sequences(x_test['clean_subcategories'])\n",
        "\n",
        "# padiing\n",
        " \n",
        "max_len_clean_subcat=max([len(x.split()) for x in x_train['clean_subcategories']])\n",
        "print(\"max_len_clean_subcat\",max_len_clean_subcat)\n",
        "\n",
        "x_train_pad_clean_subcat=pad_sequences(x_train_seq_clean_subcat,maxlen=max_len_clean_cat)\n",
        "x_test_pad_clean_subcat=pad_sequences(x_test_seq_clean_subcat,maxlen=max_len_clean_cat)\n",
        "\n",
        "# embedding size\n",
        "embedding_size_clean_subcat=min(int(np.ceil(x_train.clean_subcategories.nunique()/2)),50)\n",
        "print(\"embedding_size_clean_subcat\",embedding_size_clean_subcat)"
      ],
      "metadata": {
        "colab": {
          "base_uri": "https://localhost:8080/"
        },
        "id": "Od3kJoyXA5zx",
        "outputId": "ac4624fd-8dd6-4bbb-e157-69505c9fac80"
      },
      "execution_count": 27,
      "outputs": [
        {
          "output_type": "stream",
          "name": "stdout",
          "text": [
            "vocab_size_clean_subcat 39\n",
            "max_len_clean_subcat 3\n",
            "embedding_size_clean_subcat 50\n"
          ]
        }
      ]
    },
    {
      "cell_type": "markdown",
      "source": [
        "# 7  NUMERICAL DATA\n",
        "# 7.1  proj prev posted\n"
      ],
      "metadata": {
        "id": "x_S580f9Inp-"
      }
    },
    {
      "cell_type": "code",
      "source": [
        "standardscaler=StandardScaler()"
      ],
      "metadata": {
        "id": "BGy6NGmxBLCd"
      },
      "execution_count": 28,
      "outputs": []
    },
    {
      "cell_type": "code",
      "source": [
        "x_train_num_prevproj= standardscaler.fit_transform(x_train['teacher_number_of_previously_posted_projects'].values.reshape(-1,1))\n",
        "x_test_num_prevproj=standardscaler.transform(x_test.teacher_number_of_previously_posted_projects.values.reshape(-1,1))"
      ],
      "metadata": {
        "id": "nkdTgZRdDxPQ"
      },
      "execution_count": 29,
      "outputs": []
    },
    {
      "cell_type": "markdown",
      "source": [
        "# 7.2 PRICE"
      ],
      "metadata": {
        "id": "P0-GLduwI_h9"
      }
    },
    {
      "cell_type": "code",
      "source": [
        "x_train_price=standardscaler.fit_transform(x_train['price'].values.reshape(-1,1))\n",
        "x_test_price=standardscaler.transform(x_test['price'].values.reshape(-1,1))"
      ],
      "metadata": {
        "id": "iqHL8nvRI837"
      },
      "execution_count": 30,
      "outputs": []
    },
    {
      "cell_type": "markdown",
      "source": [
        "# 7.3 resource_summary_contains_numerical_digits"
      ],
      "metadata": {
        "id": "ZSOjEJP7e6-e"
      }
    },
    {
      "cell_type": "code",
      "source": [
        "x_train_res_sum_num=standardscaler.fit_transform(x_train['proj_res_summary_contains_num'].values.reshape(-1,1))\n",
        "x_test_res_sum_num=standardscaler.transform(x_test['proj_res_summary_contains_num'].values.reshape(-1,1))"
      ],
      "metadata": {
        "id": "CwKCVNbkJEyH"
      },
      "execution_count": 31,
      "outputs": []
    },
    {
      "cell_type": "code",
      "source": [
        "4 5 1 2  f "
      ],
      "metadata": {
        "colab": {
          "base_uri": "https://localhost:8080/",
          "height": 130
        },
        "id": "PhHNCTA1YK6q",
        "outputId": "0f9d62eb-7d83-4f93-aa02-0b27863b0c42"
      },
      "execution_count": 32,
      "outputs": [
        {
          "output_type": "error",
          "ename": "SyntaxError",
          "evalue": "ignored",
          "traceback": [
            "\u001b[0;36m  File \u001b[0;32m\"<ipython-input-32-c026db2bd657>\"\u001b[0;36m, line \u001b[0;32m1\u001b[0m\n\u001b[0;31m    4 5 1 2  f\u001b[0m\n\u001b[0m      ^\u001b[0m\n\u001b[0;31mSyntaxError\u001b[0m\u001b[0;31m:\u001b[0m invalid syntax\n"
          ]
        }
      ]
    },
    {
      "cell_type": "markdown",
      "source": [
        "# # CONCATINATING num features "
      ],
      "metadata": {
        "id": "Kqr4WftBfWDG"
      }
    },
    {
      "cell_type": "markdown",
      "source": [
        "# ---------------------------------------------------------------------------------------------------------------------------------------------------------------------------------------------------------------------------------------------------------------------------------------------------------------------------------"
      ],
      "metadata": {
        "id": "WB5NaqNIXOS7"
      }
    },
    {
      "cell_type": "markdown",
      "source": [
        "+++++++++++++++++++++++++++++++++++++++++++++++++++++++++++++++++++++++++++++++++++++++++++++++++++++++++++++++++++++++++++++++++++++++++++++++++++++++++++++++++++++++++++++++++++++++++++++++++++++++++++++++++++++++"
      ],
      "metadata": {
        "id": "fuWv8MnVXTEe"
      }
    },
    {
      "cell_type": "code",
      "source": [
        "4 5 d s d 2"
      ],
      "metadata": {
        "id": "sUxzsWGCXW0K"
      },
      "execution_count": null,
      "outputs": []
    },
    {
      "cell_type": "code",
      "source": [
        "\n",
        "x_train_num_features=np.concatenate((x_train_num_prevproj,x_train_price,x_train_res_sum_num),axis=1)\n",
        "x_test_num_features=np.concatenate((x_test_num_prevproj,x_test_price,x_test_res_sum_num),axis=1)"
      ],
      "metadata": {
        "id": "BYXfiYiKJLqR"
      },
      "execution_count": 33,
      "outputs": []
    },
    {
      "cell_type": "code",
      "source": [
        "print(x_train_num_features.shape ,x_test_num_features.shape)\n"
      ],
      "metadata": {
        "colab": {
          "base_uri": "https://localhost:8080/"
        },
        "id": "c5N45wncfIdf",
        "outputId": "38111428-5e56-447b-ff40-c33bea774a84"
      },
      "execution_count": 34,
      "outputs": [
        {
          "output_type": "stream",
          "name": "stdout",
          "text": [
            "(87398, 3) (21850, 3)\n"
          ]
        }
      ]
    },
    {
      "cell_type": "markdown",
      "source": [
        "#***MODEL 1***"
      ],
      "metadata": {
        "id": "wl_s5am5fnXW"
      }
    },
    {
      "cell_type": "markdown",
      "source": [
        "## ***CREATING CALLBACKS*** "
      ],
      "metadata": {
        "id": "-_mYaARqaGWx"
      }
    },
    {
      "cell_type": "code",
      "source": [
        "from sklearn.metrics import roc_auc_score\n",
        "import tensorflow as tf\n",
        "def auroc(y_true, y_pred):\n",
        "  return tf.numpy_function(roc_auc_score, (y_true, y_pred), tf.double)\n",
        "\n"
      ],
      "metadata": {
        "id": "WLez4IMum2MJ"
      },
      "execution_count": 35,
      "outputs": []
    },
    {
      "cell_type": "code",
      "source": [
        "import os\n",
        "from datetime import datetime\n",
        "\n",
        "#tensoboard\n",
        "name=\"MODEL_1\"\n",
        "logdir=os.path.join('logs/',datetime.now().strftime(\"%Y-%m-%d/%H-%M-%S\"),name)\n",
        "tf_cb=callbacks.TensorBoard(log_dir=logdir,histogram_freq=1)\n",
        "\n",
        "#learning rate platue\n",
        "lr_platue=callbacks.ReduceLROnPlateau()\n",
        "\n",
        "\"\"\"def lr_decay(epoch,lr):\n",
        "    if epoch!=0 and epoch%3==0:\n",
        "      lr=lr*0.5\n",
        "    return lr\n",
        "lr_schedular=callbacks.LearningRateScheduler(lr_decay)\n",
        "\"\"\"\n",
        "#saving weights\n",
        "path='model_checkpont/'\n",
        "checkpoint=callbacks.ModelCheckpoint(filepath=path,save_weights_only=True)\n",
        "\n",
        "\n",
        "#callbackslist=[tf_cb,lr_platue,lr_schedular,checkpoint]\n",
        "callbackslist=[tf_cb,lr_platue,checkpoint]"
      ],
      "metadata": {
        "id": "2Q2b7yAdm2YQ"
      },
      "execution_count": 36,
      "outputs": []
    },
    {
      "cell_type": "markdown",
      "source": [
        "### Defining inputs"
      ],
      "metadata": {
        "id": "iArbVVOQ2DrC"
      }
    },
    {
      "cell_type": "code",
      "source": [
        "#input layer total text,essay\n",
        "\n",
        "input_essay=Input((max_len_essay,),dtype='int32',name=\"input_essay\")\n",
        "print(input_essay.shape)\n",
        "embedding_layer_essay= Embedding(vocab_size,output_dim=300,weights=[embedding_matrix],trainable=False )(input_essay)\n",
        "lstm_essay= LSTM(128,return_sequences=True, activation = 'tanh',recurrent_dropout=0.5)(embedding_layer_essay)\n",
        "\n",
        "flat_essay=Flatten()(lstm_essay)\n"
      ],
      "metadata": {
        "id": "GhHRxQ1kfjZ6"
      },
      "execution_count": null,
      "outputs": []
    },
    {
      "cell_type": "code",
      "source": [
        "#input layer school state\n",
        "\n",
        "input_ss=Input((max_len_school,),dtype='int32',name=\"input_ss\")\n",
        "print(input_ss.shape)\n",
        "embedding_layer_schoolstate=Embedding(vocab_size_school,output_dim=embedding_size_school)(input_ss)\n",
        "flat_schoolstate=Flatten()(embedding_layer_schoolstate)"
      ],
      "metadata": {
        "id": "130JUfjuhjov"
      },
      "execution_count": null,
      "outputs": []
    },
    {
      "cell_type": "code",
      "source": [
        "#input layer proj grade category\n",
        "\n",
        "input_grade=Input((max_len_proj_grad,),dtype='int32',name=\"input_grade\")\n",
        "print(input_grade.shape)\n",
        "embedding_layer_proj_grad=Embedding(input_dim=vocab_size_grad_cat,output_dim=embedding_size_proj_grad)(input_grade)\n",
        "flat_proj_grad=Flatten()(embedding_layer_proj_grad)"
      ],
      "metadata": {
        "id": "jrAIyNAb_f3Q"
      },
      "execution_count": null,
      "outputs": []
    },
    {
      "cell_type": "code",
      "source": [
        "#input_ layer clean categories\n",
        "\n",
        "input_cc=Input((max_len_clean_cat,),dtype='int32',name=\"input_cc\")\n",
        "print(input_cc.shape)\n",
        "embedding_layer_clean_cat=Embedding(input_dim=vocab_size_clean_cat,output_dim=embedding_size_clean_cat)(input_cc)\n",
        "flat_clean_cat=Flatten()(embedding_layer_clean_cat)"
      ],
      "metadata": {
        "id": "uwAu3cjW_hMj"
      },
      "execution_count": null,
      "outputs": []
    },
    {
      "cell_type": "code",
      "source": [
        "#input layer clean_sub categories\n",
        "\n",
        "input_subcat=Input((max_len_clean_subcat,),dtype='int32',name='input_subcat')\n",
        "print(input_subcat.shape)\n",
        "embedding_layer_clean_subcat=Embedding(input_dim=vocab_size_clean_subcat,output_dim=embedding_size_clean_subcat)(input_subcat)\n",
        "flat_layer_clean_sucat=Flatten()(embedding_layer_clean_subcat)"
      ],
      "metadata": {
        "id": "RCawM0N-D9bn"
      },
      "execution_count": null,
      "outputs": []
    },
    {
      "cell_type": "code",
      "source": [
        "#input layer teacger prefix\n",
        "\n",
        "input_tp=Input(shape=(max_len_teacher_pre,),dtype='int32',name=\"input_tp\")\n",
        "print(input_tp.shape)\n",
        "embedding_layer_teacher_pre=Embedding(input_dim=vocab_size_teacer_pre,output_dim=embedding_size_teacher_pre)(input_tp)\n",
        "flat_layer_teacher_pre=Flatten()(embedding_layer_teacher_pre)"
      ],
      "metadata": {
        "id": "dxUdNfsNFtkL"
      },
      "execution_count": null,
      "outputs": []
    },
    {
      "cell_type": "code",
      "source": [
        "#numerical features\n",
        "\n",
        "numeric_features = Input((3,),dtype='int32',name='numeric_features')\n",
        "print(numeric_features.shape)\n",
        "numeric_dense = Dense(32, activation='relu' , kernel_initializer='he_normal',kernel_regularizer=l2(1e-4))(numeric_features)"
      ],
      "metadata": {
        "id": "trrrFqvdKQOR"
      },
      "execution_count": null,
      "outputs": []
    },
    {
      "cell_type": "markdown",
      "source": [
        "### MODEL Architecture "
      ],
      "metadata": {
        "id": "kgUlKa1axb0F"
      }
    },
    {
      "cell_type": "code",
      "source": [
        "#   CONACATINATING LAYERS\n",
        "concatted=tf.keras.layers.concatenate([flat_essay,flat_schoolstate,flat_layer_teacher_pre,\\\n",
        "                                       flat_clean_cat,flat_layer_clean_sucat,flat_proj_grad,numeric_dense])\n",
        "\n",
        "#concatted= concatenate([flat_essay,flat_schoolstate,flat_proj_grad,flat_clean_cat,flat_layer_clean_sucat,flat_layer_teacher_pre,numeric_dense])\n",
        "dense1 = Dense(512, activation=\"relu\", kernel_initializer=\"he_normal\" ,kernel_regularizer=l2(0.001))(concatted)\n",
        "\n",
        "do1 = Dropout(0.5)(dense1)\n",
        "\n",
        "dense2 = Dense(256,activation=\"relu\",kernel_initializer=\"he_normal\" ,kernel_regularizer=l2(0.001))(do1)\n",
        "\n",
        "bn1 = BatchNormalization()(dense2)\n",
        "\n",
        "do2 = Dropout(0.5)(bn1)\n",
        "\n",
        "dense3 = Dense(128,activation=\"relu\", kernel_initializer=\"he_normal\" ,kernel_regularizer=l2(0.001))(do2)\n",
        "\n",
        "\n",
        "output = Dense(2, activation='softmax', name='output')(dense3)\n",
        "\n",
        "model1= Model(inputs=[input_essay, input_ss ,input_tp,input_cc,\n",
        "                       input_subcat ,input_grade ,numeric_features ],outputs=[output])\n",
        "\n",
        "# training inputs \n",
        "train_x=[x_train_pad_essay ,x_train_pad_school ,x_train_pad_teacher_pre, x_train_pad_clean_cat , x_train_pad_clean_subcat,x_train_pad_proj_grad ,  x_train_num_features]\n",
        "test_x=[x_test_pad_essay   ,x_test_pad_school  ,x_test_pad_teacher_pre,  x_test_pad_clean_cat  , x_test_pad_clean_subcat, x_test_pad_proj_grad  ,  x_test_num_features]"
      ],
      "metadata": {
        "id": "dzKtSpRkTEzh"
      },
      "execution_count": null,
      "outputs": []
    },
    {
      "cell_type": "markdown",
      "source": [
        "# -----------------------------------------------------------==================================================================================="
      ],
      "metadata": {
        "id": "iAwkbDeq2MZ5"
      }
    },
    {
      "cell_type": "code",
      "source": [
        "--------------------------------------------------"
      ],
      "metadata": {
        "id": "6zj09AWD2LBY"
      },
      "execution_count": null,
      "outputs": []
    },
    {
      "cell_type": "code",
      "source": [
        "model1.summary()"
      ],
      "metadata": {
        "id": "eZ0s8pHyYX08"
      },
      "execution_count": null,
      "outputs": []
    },
    {
      "cell_type": "code",
      "source": [
        "#compiling\n",
        "model1.compile(optimizer='adam', loss='categorical_crossentropy', metrics=[auroc])\n",
        "history=model1.fit(\n",
        "    x=train_x,\n",
        "    y=y_train,\n",
        "    batch_size=512,\n",
        "    epochs=7,\n",
        "    verbose=1,\n",
        "    callbacks=callbackslist,\n",
        "    validation_data=(test_x,y_test),\n",
        "    validation_split=0.30\n",
        ")\n"
      ],
      "metadata": {
        "id": "5bubFr2WIFMR"
      },
      "execution_count": null,
      "outputs": []
    },
    {
      "cell_type": "code",
      "source": [
        "%reload_ext tensorboard\n",
        "%tensorboard --logdir logs\n"
      ],
      "metadata": {
        "id": "-fr8i1j9OP6g"
      },
      "execution_count": null,
      "outputs": []
    },
    {
      "cell_type": "code",
      "source": [
        ""
      ],
      "metadata": {
        "id": "HdIWOmGtNwcz"
      },
      "execution_count": null,
      "outputs": []
    },
    {
      "cell_type": "code",
      "source": [
        "utils.plot_model(model1,to_file='model1.png')"
      ],
      "metadata": {
        "id": "iwNzeDXqYayu"
      },
      "execution_count": null,
      "outputs": []
    },
    {
      "cell_type": "code",
      "source": [
        "history.history['val_auroc']"
      ],
      "metadata": {
        "id": "XRs9UgK2my44"
      },
      "execution_count": null,
      "outputs": []
    },
    {
      "cell_type": "code",
      "source": [
        "result=model1.evaluate(test_x,y_test,batch_size=512)"
      ],
      "metadata": {
        "id": "4eAOSI88J8S7"
      },
      "execution_count": null,
      "outputs": []
    },
    {
      "cell_type": "code",
      "source": [
        "print(\"Val auc model 1 is \",result[1]*100,\" %\")"
      ],
      "metadata": {
        "id": "z8919GZTNrxH"
      },
      "execution_count": null,
      "outputs": []
    },
    {
      "cell_type": "markdown",
      "source": [
        "## **Val auc model 1 is  75.97509622573853  %**"
      ],
      "metadata": {
        "id": "vMofG-_PPLqq"
      }
    },
    {
      "cell_type": "markdown",
      "source": [
        "# **MODEL 2**"
      ],
      "metadata": {
        "id": "IqCRLzAZPFTs"
      }
    },
    {
      "cell_type": "code",
      "source": [
        "import shutil\n",
        "shutil.rmtree(\"/content/logs_2\", ignore_errors=True)\n",
        "shutil.rmtree(\"/content/model2_checkpoint/checkpoint\",ignore_errors=True)"
      ],
      "metadata": {
        "id": "2mLvp48j4Duf"
      },
      "execution_count": null,
      "outputs": []
    },
    {
      "cell_type": "code",
      "source": [
        "import os\n",
        "from datetime import datetime\n",
        "\n",
        "#tensoboard\n",
        "name=\"MODEL_2\"\n",
        "logdir=os.path.join('logs_2/',datetime.now().strftime(\"%Y-%m-%d/%H-%M-%S\"),name)\n",
        "tf_cb=callbacks.TensorBoard(log_dir=logdir,histogram_freq=1)\n",
        "\n",
        "#learning rate platue\n",
        "lr_platue=callbacks.ReduceLROnPlateau()\n",
        "\n",
        "\"\"\"def lr_decay(epoch,lr):\n",
        "    if epoch!=0 and epoch%3==0:\n",
        "      lr=lr*0.5\n",
        "    return lr\n",
        "lr_schedular=callbacks.LearningRateScheduler(lr_decay)\n",
        "\"\"\"\n",
        "#saving weights\n",
        "path='model2_checkpoint/'\n",
        "checkpoint=callbacks.ModelCheckpoint(filepath=path,save_weights_only=True,monitor=\"val_auroc\",mode='max',verbose=1)\n",
        "\n",
        "\n",
        "\n",
        "#callbackslist=[tf_cb,lr_platue,lr_schedular,checkpoint]\n",
        "callbackslist=[tf_cb,lr_platue,checkpoint]"
      ],
      "metadata": {
        "id": "aGyGR7McvdmV"
      },
      "execution_count": null,
      "outputs": []
    },
    {
      "cell_type": "code",
      "source": [
        "import seaborn as sns\n",
        "import matplotlib.pyplot as plt\n",
        "import pandas as pd\n",
        "from sklearn.feature_extraction.text import TfidfVectorizer"
      ],
      "metadata": {
        "id": "4YKiQhTzgcTi"
      },
      "execution_count": null,
      "outputs": []
    },
    {
      "cell_type": "code",
      "source": [
        "import nltk\n",
        "nltk.download('stopwords')\n",
        "stopwords=set(nltk.corpus.stopwords.words('english'))"
      ],
      "metadata": {
        "id": "FgB_ZMklbA3V"
      },
      "execution_count": null,
      "outputs": []
    },
    {
      "cell_type": "code",
      "source": [
        "vectorizer=TfidfVectorizer(max_features=10000,min_df=5,lowercase=True,stop_words=stopwords)\n",
        "x_tr_essay_tfidf=vectorizer.fit_transform(x_train['essay'])\n",
        "idf_dict=dict(zip(vectorizer.get_feature_names(),vectorizer.idf_))\n",
        "\n",
        "idf_df=pd.DataFrame({'word':idf_dict.keys(),'values':idf_dict.values()})\n",
        "idf_df"
      ],
      "metadata": {
        "id": "HDS3c056WNXj"
      },
      "execution_count": null,
      "outputs": []
    },
    {
      "cell_type": "code",
      "source": [
        "print('word with highets idf value = ',max(idf_dict,key=lambda x: idf_dict[x]))\n",
        "print('word with lowest idf value = ',min(idf_dict,key=lambda x: idf_dict[x]))"
      ],
      "metadata": {
        "id": "RVzuWdZNZWeG"
      },
      "execution_count": null,
      "outputs": []
    },
    {
      "cell_type": "code",
      "source": [
        "sns.boxplot(data=idf_df)"
      ],
      "metadata": {
        "id": "EEUvWy8GniXs"
      },
      "execution_count": null,
      "outputs": []
    },
    {
      "cell_type": "code",
      "source": [
        "sns.displot(vectorizer.idf_, kde=True)\n",
        "plt.show()"
      ],
      "metadata": {
        "id": "CC5i-4oQfbnq"
      },
      "execution_count": null,
      "outputs": []
    },
    {
      "cell_type": "code",
      "source": [
        "idf_df['values'].quantile([0.05, 0.25, 0.5,0.75, 0.90,1.0])"
      ],
      "metadata": {
        "id": "gVWqO964j3nl"
      },
      "execution_count": null,
      "outputs": []
    },
    {
      "cell_type": "markdown",
      "source": [
        "#### choosing 25 to 90 percentile"
      ],
      "metadata": {
        "id": "eMrLk_Akx1PU"
      }
    },
    {
      "cell_type": "code",
      "source": [
        "best_idf=idf_df[(idf_df['values']>2) & (idf_df['values']<10)]\n",
        "best_idf_word=best_idf['word'].to_list()\n",
        "print('No of choosen words is',len(best_idf_word))\n",
        "\n",
        "#converting list of best idf values to the set\n",
        "set_bestidf_words=set(best_idf_word)\n",
        "\n"
      ],
      "metadata": {
        "id": "McR08BRApnmj"
      },
      "execution_count": null,
      "outputs": []
    },
    {
      "cell_type": "markdown",
      "source": [
        "##  *removing non best idf words from train and test set *"
      ],
      "metadata": {
        "id": "b2uLZ6HrcZ0c"
      }
    },
    {
      "cell_type": "code",
      "source": [
        "def remove_low_high_idf(line,set_bestidf_words):\n",
        "  l=[]\n",
        "  for word in line.split():\n",
        "    if word in set_bestidf_words:\n",
        "      l.append(word)\n",
        "  return ' '.join(l)"
      ],
      "metadata": {
        "id": "yOT6MX5FcC_g"
      },
      "execution_count": null,
      "outputs": []
    },
    {
      "cell_type": "code",
      "source": [
        "x_train['essay_idf']=x_train['essay'].apply(lambda x: remove_low_high_idf(x,set_bestidf_words))\n",
        "x_test['essay_idf']=x_test['essay'].apply(lambda x: remove_low_high_idf(x,set_bestidf_words))"
      ],
      "metadata": {
        "id": "MwI_zzOCcgp1"
      },
      "execution_count": null,
      "outputs": []
    },
    {
      "cell_type": "code",
      "source": [
        "\"\"\"\n",
        "for line in a:\n",
        "  l=[]\n",
        "  for word in line.split():\n",
        "    if word in set_bestidf_words:\n",
        "       l.append(word)\n",
        "  print(' '.join(l))\n",
        "  print(\"-----------------------------\")\n",
        "     \n",
        "\n",
        "\"\"\""
      ],
      "metadata": {
        "id": "IQgJ0K-pdEg7"
      },
      "execution_count": null,
      "outputs": []
    },
    {
      "cell_type": "markdown",
      "source": [
        "## tokenizing on basis of new data"
      ],
      "metadata": {
        "id": "P3B1nONwsTPA"
      }
    },
    {
      "cell_type": "code",
      "source": [
        "tokenizer_idf=text.Tokenizer(oov_token='<OOV>')\n",
        "tokenizer_idf.fit_on_texts(x_train['essay_idf'])\n",
        "#vocab\n",
        "print(\"vocab size is\" , len(tokenizer_idf.word_index)+1)\n",
        "vocab_size_essay_idf= len(tokenizer_idf.word_index)+1\n",
        "#max(tokenizer.word_index,key=lambda x: tokenizer.word_index[x])\n",
        "\n",
        "tr_max_len_essay_idf=max([len(line.split())  for line in x_train['essay_idf'].to_list()])\n",
        "te_max_len_essay_idf=max([len(line.split())  for line in x_test['essay_idf'].to_list()])\n",
        "\n",
        "print('train ',tr_max_len_essay_idf)\n",
        "print('test ',te_max_len_essay_idf)\n",
        "\n",
        "if tr_max_len_essay_idf < te_max_len_essay_idf:\n",
        "  max_len_essayidf = te_max_len_essay_idf\n",
        "  print('since test set has the longest sentence therefore max_len= ',te_max_len_essay_idf)\n",
        "else:\n",
        "  max_len_essayidf = tr_max_len_essay_idf\n",
        "  print('since train set has the longest sentence therefore max_len= ',tr_max_len_essay_idf)\n",
        "\n",
        "\n",
        "#print('maximun lenth of trai and train amd test data are ',tr_max_len_essay_idf,' and ',te_max_len_essay_idf,' respectively We willchoose the max out these two')\n",
        "#print('max leght of padding is ',te_max_len_essay_idf)\n",
        "#max_len_essayidf=te_max_len_essay_idf\n",
        "\n",
        "#text to seq\n",
        "tr_seq_essay=tokenizer_idf.texts_to_sequences(x_train['essay_idf'])\n",
        "te_seq_essay=tokenizer_idf.texts_to_sequences(x_test['essay_idf'])\n",
        "\n",
        "# padding\n",
        "tr_essayidf_pad=pad_sequences(tr_seq_essay,maxlen=max_len_essayidf)\n",
        "te_essayidf_pad=pad_sequences(te_seq_essay,maxlen=max_len_essayidf)\n"
      ],
      "metadata": {
        "id": "9oDMo8lYhImK"
      },
      "execution_count": null,
      "outputs": []
    },
    {
      "cell_type": "code",
      "source": [
        "#embedding\n",
        "embedding_matrix_idf=np.zeros(shape=(vocab_size_essay_idf,300))\n",
        "with open(\"/content/glove_vectors\",'rb') as f:\n",
        "  glove_vectors=pk.load(f)\n",
        "\n",
        "for word,index in tokenizer_idf.word_index.items():\n",
        "  if word in glove_vectors:\n",
        "    embedding_matrix_idf[index]=glove_vectors.get(word)"
      ],
      "metadata": {
        "id": "Ysj7YiOwstuC"
      },
      "execution_count": null,
      "outputs": []
    },
    {
      "cell_type": "code",
      "source": [
        "#input layer essay_idf\n",
        "\n",
        "input_essay_idf=Input((max_len_essayidf,),dtype='int32',name=\"input_essay_idf\")\n",
        "print(input_essay_idf.shape)\n",
        "embedding_layer_essay_idf= Embedding(vocab_size_essay_idf,output_dim=300,weights=[embedding_matrix_idf],trainable=False )(input_essay_idf)\n",
        "lstm_essay_idf= LSTM(128,return_sequences=True, activation = 'tanh',recurrent_dropout=0.5)(embedding_layer_essay_idf)\n",
        "\n",
        "flat_essay_idf=Flatten()(lstm_essay_idf)\n"
      ],
      "metadata": {
        "id": "oNPMWB0y32mk"
      },
      "execution_count": null,
      "outputs": []
    },
    {
      "cell_type": "code",
      "source": [
        "#   CONACATINATING LAYERS\n",
        "concatted=tf.keras.layers.concatenate([flat_essay_idf,flat_schoolstate,flat_layer_teacher_pre,\\\n",
        "                                       flat_clean_cat,flat_layer_clean_sucat,flat_proj_grad,numeric_dense])\n",
        "\n",
        "#concatted= concatenate([flat_essay,flat_schoolstate,flat_proj_grad,flat_clean_cat,flat_layer_clean_sucat,flat_layer_teacher_pre,numeric_dense])\n",
        "dense1 = Dense(512, activation=\"relu\", kernel_initializer=\"he_normal\" ,kernel_regularizer=l2(0.001))(concatted)\n",
        "\n",
        "do1 = Dropout(0.5)(dense1)\n",
        "\n",
        "dense2 = Dense(256,activation=\"relu\",kernel_initializer=\"he_normal\" ,kernel_regularizer=l2(0.001))(do1)\n",
        "\n",
        "bn1 = BatchNormalization()(dense2)\n",
        "\n",
        "do2 = Dropout(0.5)(bn1)\n",
        "\n",
        "dense3 = Dense(128,activation=\"relu\", kernel_initializer=\"he_normal\" ,kernel_regularizer=l2(0.001))(do2)\n",
        "\n",
        "\n",
        "output = Dense(2, activation='softmax', name='output')(dense3)\n",
        "\n",
        "model2= Model(inputs=[input_essay_idf, input_ss ,input_tp,input_cc,\n",
        "                       input_subcat ,input_grade ,numeric_features ],outputs=[output])\n",
        "\n",
        "# training inputs \n",
        "train_x=[tr_essayidf_pad ,x_train_pad_school ,x_train_pad_teacher_pre, x_train_pad_clean_cat , x_train_pad_clean_subcat,x_train_pad_proj_grad ,  x_train_num_features]\n",
        "test_x=[te_essayidf_pad   ,x_test_pad_school  ,x_test_pad_teacher_pre,  x_test_pad_clean_cat  , x_test_pad_clean_subcat, x_test_pad_proj_grad  ,  x_test_num_features]"
      ],
      "metadata": {
        "id": "oIRUpFRMzQcD"
      },
      "execution_count": null,
      "outputs": []
    },
    {
      "cell_type": "code",
      "source": [
        "model2.summary()"
      ],
      "metadata": {
        "id": "XzZOvGqwzQaL"
      },
      "execution_count": null,
      "outputs": []
    },
    {
      "cell_type": "code",
      "source": [
        "model2.compile('adam','categorical_crossentropy',metrics=[auroc])"
      ],
      "metadata": {
        "id": "OO547e7yzQYS"
      },
      "execution_count": null,
      "outputs": []
    },
    {
      "cell_type": "code",
      "source": [
        "\n",
        "history2=model2.fit(\n",
        "    x=train_x,\n",
        "    y=y_train,\n",
        "    batch_size=512,\n",
        "    epochs=7,\n",
        "    verbose=1,\n",
        "    callbacks=callbackslist,\n",
        "    validation_data=(test_x,y_test),\n",
        "    validation_split=0.30\n",
        ")\n"
      ],
      "metadata": {
        "id": "J3dYPhc1zQWX"
      },
      "execution_count": null,
      "outputs": []
    },
    {
      "cell_type": "code",
      "source": [
        "\n",
        "\n",
        "%reload_ext tensorboard\n",
        "%tensorboard --logdir logs_2\n"
      ],
      "metadata": {
        "id": "WgUnN3dyz5LU"
      },
      "execution_count": null,
      "outputs": []
    },
    {
      "cell_type": "code",
      "source": [
        "result=model2.evaluate(test_x,y_test,batch_size=512)\n",
        "print(\"Val auc model 1 is \",result[1]*100,\" %\")"
      ],
      "metadata": {
        "id": "ihvH9FoP-5Op"
      },
      "execution_count": null,
      "outputs": []
    },
    {
      "cell_type": "markdown",
      "source": [
        "## MODEL 2 Val auc model 1 is  75.3291130065918  %"
      ],
      "metadata": {
        "id": "V58rMcHZ_Aah"
      }
    },
    {
      "cell_type": "code",
      "source": [
        "utils.plot_model(model2,'model_2.png')"
      ],
      "metadata": {
        "id": "KSQ24lG1zQUr"
      },
      "execution_count": null,
      "outputs": []
    },
    {
      "cell_type": "code",
      "source": [
        ""
      ],
      "metadata": {
        "id": "vfCs60LlzQOF"
      },
      "execution_count": null,
      "outputs": []
    },
    {
      "cell_type": "code",
      "source": [
        "4 t4 t "
      ],
      "metadata": {
        "id": "m0rY7az3AizQ"
      },
      "execution_count": null,
      "outputs": []
    },
    {
      "cell_type": "markdown",
      "source": [
        "# ----------------------------------------------------"
      ],
      "metadata": {
        "id": "Jcqsyw9IAj_l"
      }
    },
    {
      "cell_type": "markdown",
      "source": [
        "# 0000000000000000000000000000000000002222222222222222222dddddddddddd        kkkkkkkkkkkk"
      ],
      "metadata": {
        "id": "BzaaaY9FAmCD"
      }
    },
    {
      "cell_type": "markdown",
      "source": [
        "# 22222222222222222222222222222222222222222222222222222222222222222222222222222222222222222222222222222222222222222222222222222222222222222222222222222222222222222222222222222222222222222222222222222222222@@@@@@@@@@@@@@@@@@@@@@"
      ],
      "metadata": {
        "id": "-whf5OkyAoz6"
      }
    },
    {
      "cell_type": "markdown",
      "source": [
        "# MODEL 3"
      ],
      "metadata": {
        "id": "VRwlsPY603jD"
      }
    },
    {
      "cell_type": "code",
      "source": [
        "from sklearn.preprocessing import OneHotEncoder"
      ],
      "metadata": {
        "id": "J-oKhH3RzQMJ"
      },
      "execution_count": null,
      "outputs": []
    },
    {
      "cell_type": "code",
      "source": [
        "\n",
        "from sklearn.metrics import roc_auc_score\n",
        "import tensorflow as tf\n",
        "def auroc(y_true, y_pred):\n",
        "  return tf.numpy_function(roc_auc_score, (y_true, y_pred), tf.double)\n",
        "\n",
        "\n",
        "import shutil\n",
        "shutil.rmtree(\"/content/logs_3\", ignore_errors=True)\n",
        "\n",
        "import os\n",
        "from datetime import datetime\n",
        "\n",
        "#tensoboard\n",
        "name=\"MODEL_3\"\n",
        "logdir=os.path.join('logs_3/',datetime.now().strftime(\"%Y-%m-%d/%H-%M-%S\"),name)\n",
        "tf_cb=callbacks.TensorBoard(log_dir=logdir,histogram_freq=1)\n",
        "\n",
        "#learning rate platue\n",
        "lr_platue=callbacks.ReduceLROnPlateau()\n",
        "\n",
        "\"\"\"def lr_decay(epoch,lr):\n",
        "    if epoch!=0 and epoch%3==0:\n",
        "      lr=lr*0.5\n",
        "    return lr\n",
        "lr_schedular=callbacks.LearningRateScheduler(lr_decay)\n",
        "\"\"\"\n",
        "#saving weights\n",
        "path='model3_checkpoint/'\n",
        "checkpoint=callbacks.ModelCheckpoint(filepath=path,save_weights_only=True,monitor='val_auroc',verbose=1,mode='max')\n",
        "\n",
        "\n",
        "#callbackslist=[tf_cb,lr_platue,lr_schedular,checkpoint]\n",
        "callbackslist=[tf_cb,lr_platue,checkpoint]"
      ],
      "metadata": {
        "id": "BfHbTlIBYuhN"
      },
      "execution_count": null,
      "outputs": []
    },
    {
      "cell_type": "code",
      "source": [
        "#school state\n",
        "encoder=OneHotEncoder(handle_unknown='ignore')\n",
        "encoder.fit(x_train['school_state'].values.reshape(-1,1))\n",
        "print('categories are',encoder.categories_[0])\n",
        "x_tr_ss_ohe=encoder.transform(x_train['school_state'].values.reshape(-1,1))\n",
        "print(x_tr_ss_ohe.shape)\n",
        "x_te_ss_ohe=encoder.transform(x_test['school_state'].values.reshape(-1,1))\n",
        "\n"
      ],
      "metadata": {
        "id": "FhZb1JDSzQKV"
      },
      "execution_count": null,
      "outputs": []
    },
    {
      "cell_type": "code",
      "source": [
        "#tecgher prefix\n",
        "encoder=OneHotEncoder(handle_unknown='ignore')\n",
        "encoder.fit(x_train['teacher_prefix'].values.reshape(-1,1))\n",
        "print('categories are',encoder.categories_[0])\n",
        "x_tr_tp_ohe=encoder.transform(x_train['teacher_prefix'].values.reshape(-1,1))\n",
        "print(x_tr_tp_ohe.shape)\n",
        "x_te_tp_ohe=encoder.transform(x_test['teacher_prefix'].values.reshape(-1,1))\n"
      ],
      "metadata": {
        "id": "WrhW4fejzQIx"
      },
      "execution_count": null,
      "outputs": []
    },
    {
      "cell_type": "code",
      "source": [
        "#clean categories\n",
        "encoder=OneHotEncoder(handle_unknown='ignore')\n",
        "encoder.fit(x_train['clean_categories'].values.reshape(-1,1))\n",
        "print('categories are',encoder.categories_[0])\n",
        "x_tr_cc_ohe=encoder.transform(x_train['clean_categories'].values.reshape(-1,1))\n",
        "print(x_tr_cc_ohe.shape)\n",
        "x_te_cc_ohe=encoder.transform(x_test['clean_categories'].values.reshape(-1,1))\n"
      ],
      "metadata": {
        "id": "IsNTijQKzQEd"
      },
      "execution_count": null,
      "outputs": []
    },
    {
      "cell_type": "code",
      "source": [
        "#sub categories\n",
        "encoder=OneHotEncoder(handle_unknown='ignore')\n",
        "encoder.fit(x_train['clean_subcategories'].values.reshape(-1,1))\n",
        "print('categories are',encoder.categories_[0])\n",
        "x_tr_subcat_ohe=encoder.transform(x_train['clean_subcategories'].values.reshape(-1,1))\n",
        "print(x_tr_subcat_ohe.shape)\n",
        "x_te_subcat_ohe=encoder.transform(x_test['clean_subcategories'].values.reshape(-1,1))"
      ],
      "metadata": {
        "id": "jBLXQZqezQCk"
      },
      "execution_count": null,
      "outputs": []
    },
    {
      "cell_type": "code",
      "source": [
        "#grade categories\n",
        "encoder=OneHotEncoder(handle_unknown='ignore')\n",
        "encoder.fit(x_train['project_grade_category'].values.reshape(-1,1))\n",
        "print('categories are',encoder.categories_[0])\n",
        "x_tr_grade_ohe=encoder.transform(x_train['project_grade_category'].values.reshape(-1,1))\n",
        "print(x_tr_grade_ohe.shape)\n",
        "x_te_grade_ohe=encoder.transform(x_test['project_grade_category'].values.reshape(-1,1))"
      ],
      "metadata": {
        "id": "2b8PQcepzP_Z"
      },
      "execution_count": null,
      "outputs": []
    },
    {
      "cell_type": "code",
      "source": [
        "## CONCATINATING ALL THE OHE MAtrices\n",
        "from scipy.sparse import hstack\n",
        "x_tr_ohe=hstack((x_tr_ss_ohe,x_tr_tp_ohe,x_tr_cc_ohe,x_tr_subcat_ohe, x_tr_grade_ohe,x_train_num_features))\n",
        "x_te_ohe=hstack((x_te_ss_ohe,x_te_tp_ohe,x_te_cc_ohe,x_te_subcat_ohe, x_te_grade_ohe,x_test_num_features))\n",
        "print(x_tr_ohe.shape,x_te_ohe.shape)\n",
        "\n",
        "#converting todemse\n",
        "x_tr_dense=x_tr_ohe.todense()\n",
        "x_te_dense=x_te_ohe.todense()\n",
        "\n",
        "#reshaping for CNN!D \n",
        "x_tr_cnn1=np.resize(x_tr_dense,new_shape=(87398,508,1))     #these are all the categorical plus numerical features\n",
        "x_te_cnn1=np.resize(x_te_dense,new_shape=(21850,508,1))\n",
        "print('shapes after eshaping ')\n",
        "print(x_tr_cnn1.shape,x_te_cnn1.shape)              \n"
      ],
      "metadata": {
        "id": "opDhTN3oxwST"
      },
      "execution_count": null,
      "outputs": []
    },
    {
      "cell_type": "code",
      "source": [
        "# model arch \n",
        "\n",
        "#input layer total text,essay\n",
        "\n",
        "input_essay=Input((max_len_essay,),dtype='int32',name=\"input_essay\")\n",
        "print(input_essay.shape)\n",
        "embedding_layer_essay= Embedding(vocab_size,output_dim=300,weights=[embedding_matrix],trainable=False )(input_essay)\n",
        "lstm_essay= LSTM(128,return_sequences=True, activation = 'tanh',recurrent_dropout=0.5)(embedding_layer_essay)\n",
        "\n",
        "flat_essay=Flatten()(lstm_essay)\n",
        "\n",
        "#CONV 1D OTHER THAN ESSAY\n",
        "input_categorical_num=Input(shape=(508,1),name='input_categorical_num')\n",
        "conv1d_1 = Conv1D(filters=128,kernel_size=3, strides=1)(input_categorical_num)\n",
        "print(conv1d_1.shape)\n",
        "conv1d_2 = Conv1D(filters=64,kernel_size=3, strides=1)(conv1d_1)\n",
        "print(conv1d_2.shape)\n",
        "flat_CNN = Flatten()(conv1d_2)\n",
        "\n",
        "\n",
        "#concating \n",
        "concat_cnn=tf.keras.layers.concatenate([flat_essay,flat_CNN])\n",
        "\n",
        "dense_cnn1=Dense(512,'relu',kernel_initializer='he_normal',kernel_regularizer=l2(0.001))(concat_cnn)\n",
        "do1=Dropout(0.5)(dense_cnn1)\n",
        "dense_cnn2=Dense(256,kernel_initializer='he_normal',kernel_regularizer=l2(0.001))(do1)\n",
        "do2=Dropout(0.5)(dense_cnn2)\n",
        "output=Dense(2,'softmax')(do2)\n",
        "\n",
        "model_3=Model(inputs=[input_essay,input_categorical_num],outputs=[output])\n",
        "\n",
        "model_3.summary()\n"
      ],
      "metadata": {
        "id": "j08JNktuxwQG"
      },
      "execution_count": null,
      "outputs": []
    },
    {
      "cell_type": "code",
      "source": [
        "train_x_cnn=[x_train_pad_essay,x_tr_cnn1]\n",
        "test_x_cnn=[x_test_pad_essay,x_te_cnn1]"
      ],
      "metadata": {
        "id": "13EiueMBabMF"
      },
      "execution_count": null,
      "outputs": []
    },
    {
      "cell_type": "code",
      "source": [
        "utils.plot_model(model_3)"
      ],
      "metadata": {
        "id": "yC5HxWj1_jaF"
      },
      "execution_count": null,
      "outputs": []
    },
    {
      "cell_type": "code",
      "source": [
        "model_3.compile('adam','categorical_crossentropy',metrics=[auroc])\n",
        "history_3=model_3.fit(x=train_x_cnn,y=y_train,callbacks=callbackslist,\\\n",
        "                       batch_size=128, epochs=10, verbose=1,\\\n",
        "                      validation_data=(test_x_cnn,y_test),validation_split=0.30)\n",
        "#crashed with batcg_size=512"
      ],
      "metadata": {
        "id": "_FS7RXzsxwNb"
      },
      "execution_count": null,
      "outputs": []
    },
    {
      "cell_type": "code",
      "source": [
        ""
      ],
      "metadata": {
        "id": "68oVJOl-xwLt"
      },
      "execution_count": null,
      "outputs": []
    },
    {
      "cell_type": "code",
      "source": [
        ""
      ],
      "metadata": {
        "id": "6J9dflsYxwJC"
      },
      "execution_count": null,
      "outputs": []
    },
    {
      "cell_type": "code",
      "source": [
        ""
      ],
      "metadata": {
        "id": "vvIJNZGExwHE"
      },
      "execution_count": null,
      "outputs": []
    }
  ]
}