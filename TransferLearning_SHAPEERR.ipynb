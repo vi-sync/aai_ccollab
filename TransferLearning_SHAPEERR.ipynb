{
  "nbformat": 4,
  "nbformat_minor": 0,
  "metadata": {
    "colab": {
      "name": "TransferLearning_SHAPEERR.ipynb",
      "provenance": [],
      "collapsed_sections": [],
      "authorship_tag": "ABX9TyNY6lUsDv6p56DCwa9H7Hxj",
      "include_colab_link": true
    },
    "kernelspec": {
      "name": "python3",
      "display_name": "Python 3"
    },
    "language_info": {
      "name": "python"
    }
  },
  "cells": [
    {
      "cell_type": "markdown",
      "metadata": {
        "id": "view-in-github",
        "colab_type": "text"
      },
      "source": [
        "<a href=\"https://colab.research.google.com/github/vi-sync/aai_ccollab/blob/main/TransferLearning_SHAPEERR.ipynb\" target=\"_parent\"><img src=\"https://colab.research.google.com/assets/colab-badge.svg\" alt=\"Open In Colab\"/></a>"
      ]
    },
    {
      "cell_type": "code",
      "source": [
        "#!wget wget --header=\"Host: doc-10-8k-docs.googleusercontent.com\" --header=\"User-Agent: Mozilla/5.0 (Windows NT 10.0; Win64; x64) AppleWebKit/537.36 (KHTML, like Gecko) Chrome/100.0.4896.127 Safari/537.36\" --header=\"Accept: text/html,application/xhtml+xml,application/xml;q=0.9,image/webp,image/apng,*/*;q=0.8,application/signed-exchange;v=b3;q=0.9\" --header=\"Accept-Language: en-US,en;q=0.9\" --header=\"Referer: https://drive.google.com/\" --header=\"Cookie: AUTH_m6rfddh0fqtjuddbh79vvq5hkvpnqdek_nonce=7a59mefhd4756\" --header=\"Connection: keep-alive\" \"https://doc-10-8k-docs.googleusercontent.com/docs/securesc/9j6sm21ntfm0afitj8tvf4lb1e6akhi6/ei12et1bdagjcl6acaavv2b9g6hr7mha/1652111325000/00484516897554883881/01056278689497542515/1Z4TyI7FcFVEx8qdl4jO9qxvxaqLSqoEu?e=download&ax=ACxEAsY3q86aeddbMJjM9bUBOr3HRatjoZ0n2hmKujNFWo6QDcdWQaDFcyYax6oSsgfppaIbj9SXDMz2PKkZrtMBkITQrT9CxRpmdwLew4dLf4kH2Lm74PAV9IFMv6_3CCZVQUBdKiBaQoJ-DTSL21IBJs9_dwl8BMPe4KbmpIBirzQWEuqBO8tr8vFp5hBub1IsSEVEdK_w60nlORYE1uzr4jFVUMc0OPJznhLnpcT8Pe7sTIg5uA0X56x3CVt-Gz-RCR7tzNH3dXsNemufKNwQcLsCz-QRC7cdVhn7XF0HHvq9zBPEEKT2pa0o4js4ZJoxHJ4qSfbweUOCY7ZoT2g2YrPQmJXlbMVS0tpKS-V3n0EMQtkOnojHeJ_sW1VbzRALQz02lfhD2KIsQQzBV_00aAz73u_L1qcdq3nGzcQjfeUSmGGZJaAQC1yfj0rqmw3zpQp4CR4zFj2Rq3OZxLM_PRhvcTF_N2RQcPkp2wgXLC9PKYGAyTsIN52Etc4WqXMh6aeAljtk-_u1DT6ZvashcT_MrdtWv91doc4LBdJKEh84kWdeX-MLHiesoBWXWDrVSoSjZAddbE-gKK4sMtxOcxadACOl3xgG2HmaiUFTkfj4maT3A-B8-EFrruM5310yV1-5PlV0mr8dzTTBvDR1jAdAtsQEoPnWn3LZD0Nb8VCP_qSFpGF8E1rqgeaAzzuTcOjxy3H2awofrQaeSSxIeQetQnhTAPvL9OCuJZXW&authuser=0&nonce=7a59mefhd4756&user=01056278689497542515&hash=k0r5hh6rto12bjlqs43ttir7r8f662b1\" -c -O 'rvl-cdip.rar'"
      ],
      "metadata": {
        "id": "uUBREPTFMyy5"
      },
      "execution_count": 1,
      "outputs": []
    },
    {
      "cell_type": "code",
      "source": [
        "#\"\"https://drive.google.com/open?id=1Z4TyI7FcFVEx8qdl4jO9qxvxaqLSqoEu\"\""
      ],
      "metadata": {
        "id": "BX2mKxwIgjJi"
      },
      "execution_count": 2,
      "outputs": []
    },
    {
      "cell_type": "code",
      "source": [
        "#!pip install -q git+https://github.com/tensorflow/examples.git"
      ],
      "metadata": {
        "id": "TXr1_b-Gk8U7"
      },
      "execution_count": 3,
      "outputs": []
    },
    {
      "cell_type": "code",
      "source": [
        "import tensorflow as tf\n",
        "a=tf.uint8\n",
        "print(a)"
      ],
      "metadata": {
        "colab": {
          "base_uri": "https://localhost:8080/"
        },
        "id": "vL47yN2-hUKE",
        "outputId": "9fa47370-958a-4055-f31c-b9eec234e809"
      },
      "execution_count": 4,
      "outputs": [
        {
          "output_type": "stream",
          "name": "stdout",
          "text": [
            "<dtype: 'uint8'>\n"
          ]
        }
      ]
    },
    {
      "cell_type": "code",
      "source": [
        "#!pip install tensorflow-io"
      ],
      "metadata": {
        "id": "5SVWvFahSt3g"
      },
      "execution_count": 5,
      "outputs": []
    },
    {
      "cell_type": "code",
      "source": [
        "#importing tensorflow\n",
        "from tensorflow.keras.layers import Dense,Input,Conv2D,MaxPool2D,Activation,Dropout,Flatten\n",
        "from tensorflow.keras.models import Model\n",
        "import random as rn\n",
        "import tensorflow_io as tfio\n",
        "\n",
        "import math\n",
        "\n",
        "#from tensorflow.io.experimental.image import decode_tiff\n",
        "\n",
        "import matplotlib.pyplot as plt\n",
        "import numpy as np"
      ],
      "metadata": {
        "id": "O-ZdKiJULQeb"
      },
      "execution_count": 6,
      "outputs": []
    },
    {
      "cell_type": "code",
      "source": [
        "from sklearn.model_selection import train_test_split"
      ],
      "metadata": {
        "id": "TpAIDdeB5ili"
      },
      "execution_count": 7,
      "outputs": []
    },
    {
      "cell_type": "code",
      "source": [
        "#!unrar x /content/rvl-cdip.rar "
      ],
      "metadata": {
        "id": "_rAHIqoyLdAd"
      },
      "execution_count": 8,
      "outputs": []
    },
    {
      "cell_type": "code",
      "source": [
        "import pandas as pd\n",
        "import pathlib\n",
        "import os\n",
        "import tensorflow as tf\n",
        "from pathlib import Path\n",
        "\n",
        "from time import time\n",
        "import tensorflow_io as tfio\n",
        "import matplotlib.pyplot as plt\n",
        "import numpy as np"
      ],
      "metadata": {
        "id": "NnkgNprYLg4X"
      },
      "execution_count": 9,
      "outputs": []
    },
    {
      "cell_type": "code",
      "source": [
        ""
      ],
      "metadata": {
        "id": "3jtyhO4XSsV1"
      },
      "execution_count": 9,
      "outputs": []
    },
    {
      "cell_type": "code",
      "source": [
        "df=pd.read_csv(\"/content/labels_final.csv\")"
      ],
      "metadata": {
        "id": "6MaYgGk2MIPD"
      },
      "execution_count": 10,
      "outputs": []
    },
    {
      "cell_type": "code",
      "source": [
        "df"
      ],
      "metadata": {
        "colab": {
          "base_uri": "https://localhost:8080/",
          "height": 423
        },
        "id": "VO9BmdlGRQWZ",
        "outputId": "70c9c9e6-52c1-41d6-fd7a-726572268d77"
      },
      "execution_count": 11,
      "outputs": [
        {
          "output_type": "execute_result",
          "data": {
            "text/plain": [
              "                                             path  label\n",
              "0      imagesv/v/o/h/voh71d00/509132755+-2755.tif      3\n",
              "1            imagesl/l/x/t/lxt19d00/502213303.tif      3\n",
              "2           imagesx/x/e/d/xed05a00/2075325674.tif      2\n",
              "3      imageso/o/j/b/ojb60d00/517511301+-1301.tif      3\n",
              "4           imagesq/q/z/k/qzk17e00/2031320195.tif      7\n",
              "...                                           ...    ...\n",
              "47995      imagesk/k/q/l/kql82f00/tob07414.87.tif     10\n",
              "47996  imagesi/i/r/r/irr80c00/2084343690_3692.tif     12\n",
              "47997  imagesa/a/z/h/azh32d00/2063887153_7176.tif      6\n",
              "47998       imagesg/g/p/d/gpd45f00/0060075263.tif      8\n",
              "47999       imagesr/r/o/l/rol45d00/2064701657.tif      1\n",
              "\n",
              "[48000 rows x 2 columns]"
            ],
            "text/html": [
              "\n",
              "  <div id=\"df-837981d4-f282-4ad0-982a-dced29765bcd\">\n",
              "    <div class=\"colab-df-container\">\n",
              "      <div>\n",
              "<style scoped>\n",
              "    .dataframe tbody tr th:only-of-type {\n",
              "        vertical-align: middle;\n",
              "    }\n",
              "\n",
              "    .dataframe tbody tr th {\n",
              "        vertical-align: top;\n",
              "    }\n",
              "\n",
              "    .dataframe thead th {\n",
              "        text-align: right;\n",
              "    }\n",
              "</style>\n",
              "<table border=\"1\" class=\"dataframe\">\n",
              "  <thead>\n",
              "    <tr style=\"text-align: right;\">\n",
              "      <th></th>\n",
              "      <th>path</th>\n",
              "      <th>label</th>\n",
              "    </tr>\n",
              "  </thead>\n",
              "  <tbody>\n",
              "    <tr>\n",
              "      <th>0</th>\n",
              "      <td>imagesv/v/o/h/voh71d00/509132755+-2755.tif</td>\n",
              "      <td>3</td>\n",
              "    </tr>\n",
              "    <tr>\n",
              "      <th>1</th>\n",
              "      <td>imagesl/l/x/t/lxt19d00/502213303.tif</td>\n",
              "      <td>3</td>\n",
              "    </tr>\n",
              "    <tr>\n",
              "      <th>2</th>\n",
              "      <td>imagesx/x/e/d/xed05a00/2075325674.tif</td>\n",
              "      <td>2</td>\n",
              "    </tr>\n",
              "    <tr>\n",
              "      <th>3</th>\n",
              "      <td>imageso/o/j/b/ojb60d00/517511301+-1301.tif</td>\n",
              "      <td>3</td>\n",
              "    </tr>\n",
              "    <tr>\n",
              "      <th>4</th>\n",
              "      <td>imagesq/q/z/k/qzk17e00/2031320195.tif</td>\n",
              "      <td>7</td>\n",
              "    </tr>\n",
              "    <tr>\n",
              "      <th>...</th>\n",
              "      <td>...</td>\n",
              "      <td>...</td>\n",
              "    </tr>\n",
              "    <tr>\n",
              "      <th>47995</th>\n",
              "      <td>imagesk/k/q/l/kql82f00/tob07414.87.tif</td>\n",
              "      <td>10</td>\n",
              "    </tr>\n",
              "    <tr>\n",
              "      <th>47996</th>\n",
              "      <td>imagesi/i/r/r/irr80c00/2084343690_3692.tif</td>\n",
              "      <td>12</td>\n",
              "    </tr>\n",
              "    <tr>\n",
              "      <th>47997</th>\n",
              "      <td>imagesa/a/z/h/azh32d00/2063887153_7176.tif</td>\n",
              "      <td>6</td>\n",
              "    </tr>\n",
              "    <tr>\n",
              "      <th>47998</th>\n",
              "      <td>imagesg/g/p/d/gpd45f00/0060075263.tif</td>\n",
              "      <td>8</td>\n",
              "    </tr>\n",
              "    <tr>\n",
              "      <th>47999</th>\n",
              "      <td>imagesr/r/o/l/rol45d00/2064701657.tif</td>\n",
              "      <td>1</td>\n",
              "    </tr>\n",
              "  </tbody>\n",
              "</table>\n",
              "<p>48000 rows × 2 columns</p>\n",
              "</div>\n",
              "      <button class=\"colab-df-convert\" onclick=\"convertToInteractive('df-837981d4-f282-4ad0-982a-dced29765bcd')\"\n",
              "              title=\"Convert this dataframe to an interactive table.\"\n",
              "              style=\"display:none;\">\n",
              "        \n",
              "  <svg xmlns=\"http://www.w3.org/2000/svg\" height=\"24px\"viewBox=\"0 0 24 24\"\n",
              "       width=\"24px\">\n",
              "    <path d=\"M0 0h24v24H0V0z\" fill=\"none\"/>\n",
              "    <path d=\"M18.56 5.44l.94 2.06.94-2.06 2.06-.94-2.06-.94-.94-2.06-.94 2.06-2.06.94zm-11 1L8.5 8.5l.94-2.06 2.06-.94-2.06-.94L8.5 2.5l-.94 2.06-2.06.94zm10 10l.94 2.06.94-2.06 2.06-.94-2.06-.94-.94-2.06-.94 2.06-2.06.94z\"/><path d=\"M17.41 7.96l-1.37-1.37c-.4-.4-.92-.59-1.43-.59-.52 0-1.04.2-1.43.59L10.3 9.45l-7.72 7.72c-.78.78-.78 2.05 0 2.83L4 21.41c.39.39.9.59 1.41.59.51 0 1.02-.2 1.41-.59l7.78-7.78 2.81-2.81c.8-.78.8-2.07 0-2.86zM5.41 20L4 18.59l7.72-7.72 1.47 1.35L5.41 20z\"/>\n",
              "  </svg>\n",
              "      </button>\n",
              "      \n",
              "  <style>\n",
              "    .colab-df-container {\n",
              "      display:flex;\n",
              "      flex-wrap:wrap;\n",
              "      gap: 12px;\n",
              "    }\n",
              "\n",
              "    .colab-df-convert {\n",
              "      background-color: #E8F0FE;\n",
              "      border: none;\n",
              "      border-radius: 50%;\n",
              "      cursor: pointer;\n",
              "      display: none;\n",
              "      fill: #1967D2;\n",
              "      height: 32px;\n",
              "      padding: 0 0 0 0;\n",
              "      width: 32px;\n",
              "    }\n",
              "\n",
              "    .colab-df-convert:hover {\n",
              "      background-color: #E2EBFA;\n",
              "      box-shadow: 0px 1px 2px rgba(60, 64, 67, 0.3), 0px 1px 3px 1px rgba(60, 64, 67, 0.15);\n",
              "      fill: #174EA6;\n",
              "    }\n",
              "\n",
              "    [theme=dark] .colab-df-convert {\n",
              "      background-color: #3B4455;\n",
              "      fill: #D2E3FC;\n",
              "    }\n",
              "\n",
              "    [theme=dark] .colab-df-convert:hover {\n",
              "      background-color: #434B5C;\n",
              "      box-shadow: 0px 1px 3px 1px rgba(0, 0, 0, 0.15);\n",
              "      filter: drop-shadow(0px 1px 2px rgba(0, 0, 0, 0.3));\n",
              "      fill: #FFFFFF;\n",
              "    }\n",
              "  </style>\n",
              "\n",
              "      <script>\n",
              "        const buttonEl =\n",
              "          document.querySelector('#df-837981d4-f282-4ad0-982a-dced29765bcd button.colab-df-convert');\n",
              "        buttonEl.style.display =\n",
              "          google.colab.kernel.accessAllowed ? 'block' : 'none';\n",
              "\n",
              "        async function convertToInteractive(key) {\n",
              "          const element = document.querySelector('#df-837981d4-f282-4ad0-982a-dced29765bcd');\n",
              "          const dataTable =\n",
              "            await google.colab.kernel.invokeFunction('convertToInteractive',\n",
              "                                                     [key], {});\n",
              "          if (!dataTable) return;\n",
              "\n",
              "          const docLinkHtml = 'Like what you see? Visit the ' +\n",
              "            '<a target=\"_blank\" href=https://colab.research.google.com/notebooks/data_table.ipynb>data table notebook</a>'\n",
              "            + ' to learn more about interactive tables.';\n",
              "          element.innerHTML = '';\n",
              "          dataTable['output_type'] = 'display_data';\n",
              "          await google.colab.output.renderOutput(dataTable, element);\n",
              "          const docLink = document.createElement('div');\n",
              "          docLink.innerHTML = docLinkHtml;\n",
              "          element.appendChild(docLink);\n",
              "        }\n",
              "      </script>\n",
              "    </div>\n",
              "  </div>\n",
              "  "
            ]
          },
          "metadata": {},
          "execution_count": 11
        }
      ]
    },
    {
      "cell_type": "code",
      "source": [
        "path=\"/content/data_final\""
      ],
      "metadata": {
        "id": "gj9ipxnuRRG7"
      },
      "execution_count": 12,
      "outputs": []
    },
    {
      "cell_type": "code",
      "source": [
        "list(pathlib.Path(path).iterdir())"
      ],
      "metadata": {
        "colab": {
          "base_uri": "https://localhost:8080/"
        },
        "id": "7X6_3ttJRWkt",
        "outputId": "2eb97d9b-a72f-4a39-aa76-a18e29c56cb0"
      },
      "execution_count": 13,
      "outputs": [
        {
          "output_type": "execute_result",
          "data": {
            "text/plain": [
              "[PosixPath('/content/data_final/imagesw'),\n",
              " PosixPath('/content/data_final/imagesp'),\n",
              " PosixPath('/content/data_final/imagese'),\n",
              " PosixPath('/content/data_final/imagesz'),\n",
              " PosixPath('/content/data_final/imagesu'),\n",
              " PosixPath('/content/data_final/imageso'),\n",
              " PosixPath('/content/data_final/imagesc'),\n",
              " PosixPath('/content/data_final/imagesx'),\n",
              " PosixPath('/content/data_final/imagesv'),\n",
              " PosixPath('/content/data_final/imagesl'),\n",
              " PosixPath('/content/data_final/imagesn'),\n",
              " PosixPath('/content/data_final/imagesm'),\n",
              " PosixPath('/content/data_final/imagesd'),\n",
              " PosixPath('/content/data_final/imagesr'),\n",
              " PosixPath('/content/data_final/imagesi'),\n",
              " PosixPath('/content/data_final/imagest'),\n",
              " PosixPath('/content/data_final/imagesh'),\n",
              " PosixPath('/content/data_final/imagesk'),\n",
              " PosixPath('/content/data_final/imagesy'),\n",
              " PosixPath('/content/data_final/imagesf'),\n",
              " PosixPath('/content/data_final/imagesj'),\n",
              " PosixPath('/content/data_final/imagesg'),\n",
              " PosixPath('/content/data_final/imagesq'),\n",
              " PosixPath('/content/data_final/imagesb'),\n",
              " PosixPath('/content/data_final/imagesa')]"
            ]
          },
          "metadata": {},
          "execution_count": 13
        }
      ]
    },
    {
      "cell_type": "code",
      "source": [
        "df.path[1]"
      ],
      "metadata": {
        "colab": {
          "base_uri": "https://localhost:8080/",
          "height": 35
        },
        "id": "4ooGIGYzRa2K",
        "outputId": "d6df56c7-6aff-4fdd-f466-b468ce929999"
      },
      "execution_count": 14,
      "outputs": [
        {
          "output_type": "execute_result",
          "data": {
            "text/plain": [
              "'imagesl/l/x/t/lxt19d00/502213303.tif'"
            ],
            "application/vnd.google.colaboratory.intrinsic+json": {
              "type": "string"
            }
          },
          "metadata": {},
          "execution_count": 14
        }
      ]
    },
    {
      "cell_type": "code",
      "source": [
        "\n",
        "str(pathlib.Path(df.path[1]))\n",
        "int(df.label[1])"
      ],
      "metadata": {
        "colab": {
          "base_uri": "https://localhost:8080/"
        },
        "id": "xe-xwgBjRqHE",
        "outputId": "d2eab4e9-fa00-4147-eb06-5b7b6b83d15a"
      },
      "execution_count": 15,
      "outputs": [
        {
          "output_type": "execute_result",
          "data": {
            "text/plain": [
              "3"
            ]
          },
          "metadata": {},
          "execution_count": 15
        }
      ]
    },
    {
      "cell_type": "markdown",
      "source": [
        "#adding 'content\\data_fianl in frot of the image paths"
      ],
      "metadata": {
        "id": "ug0p3rdpigva"
      }
    },
    {
      "cell_type": "code",
      "source": [
        "df['path_full']=df['path'].apply(lambda x : '/content/data_final/' + x )"
      ],
      "metadata": {
        "id": "dHiLO7bERwhH"
      },
      "execution_count": 16,
      "outputs": []
    },
    {
      "cell_type": "code",
      "source": [
        "df"
      ],
      "metadata": {
        "colab": {
          "base_uri": "https://localhost:8080/",
          "height": 423
        },
        "id": "9Dt5__dIR5Qy",
        "outputId": "4de90d4f-07ef-49a2-de51-779331ada6db"
      },
      "execution_count": 17,
      "outputs": [
        {
          "output_type": "execute_result",
          "data": {
            "text/plain": [
              "                                             path  label  \\\n",
              "0      imagesv/v/o/h/voh71d00/509132755+-2755.tif      3   \n",
              "1            imagesl/l/x/t/lxt19d00/502213303.tif      3   \n",
              "2           imagesx/x/e/d/xed05a00/2075325674.tif      2   \n",
              "3      imageso/o/j/b/ojb60d00/517511301+-1301.tif      3   \n",
              "4           imagesq/q/z/k/qzk17e00/2031320195.tif      7   \n",
              "...                                           ...    ...   \n",
              "47995      imagesk/k/q/l/kql82f00/tob07414.87.tif     10   \n",
              "47996  imagesi/i/r/r/irr80c00/2084343690_3692.tif     12   \n",
              "47997  imagesa/a/z/h/azh32d00/2063887153_7176.tif      6   \n",
              "47998       imagesg/g/p/d/gpd45f00/0060075263.tif      8   \n",
              "47999       imagesr/r/o/l/rol45d00/2064701657.tif      1   \n",
              "\n",
              "                                               path_full  \n",
              "0      /content/data_final/imagesv/v/o/h/voh71d00/509...  \n",
              "1      /content/data_final/imagesl/l/x/t/lxt19d00/502...  \n",
              "2      /content/data_final/imagesx/x/e/d/xed05a00/207...  \n",
              "3      /content/data_final/imageso/o/j/b/ojb60d00/517...  \n",
              "4      /content/data_final/imagesq/q/z/k/qzk17e00/203...  \n",
              "...                                                  ...  \n",
              "47995  /content/data_final/imagesk/k/q/l/kql82f00/tob...  \n",
              "47996  /content/data_final/imagesi/i/r/r/irr80c00/208...  \n",
              "47997  /content/data_final/imagesa/a/z/h/azh32d00/206...  \n",
              "47998  /content/data_final/imagesg/g/p/d/gpd45f00/006...  \n",
              "47999  /content/data_final/imagesr/r/o/l/rol45d00/206...  \n",
              "\n",
              "[48000 rows x 3 columns]"
            ],
            "text/html": [
              "\n",
              "  <div id=\"df-56045c2e-dbcf-4496-b5fc-c427fcea8310\">\n",
              "    <div class=\"colab-df-container\">\n",
              "      <div>\n",
              "<style scoped>\n",
              "    .dataframe tbody tr th:only-of-type {\n",
              "        vertical-align: middle;\n",
              "    }\n",
              "\n",
              "    .dataframe tbody tr th {\n",
              "        vertical-align: top;\n",
              "    }\n",
              "\n",
              "    .dataframe thead th {\n",
              "        text-align: right;\n",
              "    }\n",
              "</style>\n",
              "<table border=\"1\" class=\"dataframe\">\n",
              "  <thead>\n",
              "    <tr style=\"text-align: right;\">\n",
              "      <th></th>\n",
              "      <th>path</th>\n",
              "      <th>label</th>\n",
              "      <th>path_full</th>\n",
              "    </tr>\n",
              "  </thead>\n",
              "  <tbody>\n",
              "    <tr>\n",
              "      <th>0</th>\n",
              "      <td>imagesv/v/o/h/voh71d00/509132755+-2755.tif</td>\n",
              "      <td>3</td>\n",
              "      <td>/content/data_final/imagesv/v/o/h/voh71d00/509...</td>\n",
              "    </tr>\n",
              "    <tr>\n",
              "      <th>1</th>\n",
              "      <td>imagesl/l/x/t/lxt19d00/502213303.tif</td>\n",
              "      <td>3</td>\n",
              "      <td>/content/data_final/imagesl/l/x/t/lxt19d00/502...</td>\n",
              "    </tr>\n",
              "    <tr>\n",
              "      <th>2</th>\n",
              "      <td>imagesx/x/e/d/xed05a00/2075325674.tif</td>\n",
              "      <td>2</td>\n",
              "      <td>/content/data_final/imagesx/x/e/d/xed05a00/207...</td>\n",
              "    </tr>\n",
              "    <tr>\n",
              "      <th>3</th>\n",
              "      <td>imageso/o/j/b/ojb60d00/517511301+-1301.tif</td>\n",
              "      <td>3</td>\n",
              "      <td>/content/data_final/imageso/o/j/b/ojb60d00/517...</td>\n",
              "    </tr>\n",
              "    <tr>\n",
              "      <th>4</th>\n",
              "      <td>imagesq/q/z/k/qzk17e00/2031320195.tif</td>\n",
              "      <td>7</td>\n",
              "      <td>/content/data_final/imagesq/q/z/k/qzk17e00/203...</td>\n",
              "    </tr>\n",
              "    <tr>\n",
              "      <th>...</th>\n",
              "      <td>...</td>\n",
              "      <td>...</td>\n",
              "      <td>...</td>\n",
              "    </tr>\n",
              "    <tr>\n",
              "      <th>47995</th>\n",
              "      <td>imagesk/k/q/l/kql82f00/tob07414.87.tif</td>\n",
              "      <td>10</td>\n",
              "      <td>/content/data_final/imagesk/k/q/l/kql82f00/tob...</td>\n",
              "    </tr>\n",
              "    <tr>\n",
              "      <th>47996</th>\n",
              "      <td>imagesi/i/r/r/irr80c00/2084343690_3692.tif</td>\n",
              "      <td>12</td>\n",
              "      <td>/content/data_final/imagesi/i/r/r/irr80c00/208...</td>\n",
              "    </tr>\n",
              "    <tr>\n",
              "      <th>47997</th>\n",
              "      <td>imagesa/a/z/h/azh32d00/2063887153_7176.tif</td>\n",
              "      <td>6</td>\n",
              "      <td>/content/data_final/imagesa/a/z/h/azh32d00/206...</td>\n",
              "    </tr>\n",
              "    <tr>\n",
              "      <th>47998</th>\n",
              "      <td>imagesg/g/p/d/gpd45f00/0060075263.tif</td>\n",
              "      <td>8</td>\n",
              "      <td>/content/data_final/imagesg/g/p/d/gpd45f00/006...</td>\n",
              "    </tr>\n",
              "    <tr>\n",
              "      <th>47999</th>\n",
              "      <td>imagesr/r/o/l/rol45d00/2064701657.tif</td>\n",
              "      <td>1</td>\n",
              "      <td>/content/data_final/imagesr/r/o/l/rol45d00/206...</td>\n",
              "    </tr>\n",
              "  </tbody>\n",
              "</table>\n",
              "<p>48000 rows × 3 columns</p>\n",
              "</div>\n",
              "      <button class=\"colab-df-convert\" onclick=\"convertToInteractive('df-56045c2e-dbcf-4496-b5fc-c427fcea8310')\"\n",
              "              title=\"Convert this dataframe to an interactive table.\"\n",
              "              style=\"display:none;\">\n",
              "        \n",
              "  <svg xmlns=\"http://www.w3.org/2000/svg\" height=\"24px\"viewBox=\"0 0 24 24\"\n",
              "       width=\"24px\">\n",
              "    <path d=\"M0 0h24v24H0V0z\" fill=\"none\"/>\n",
              "    <path d=\"M18.56 5.44l.94 2.06.94-2.06 2.06-.94-2.06-.94-.94-2.06-.94 2.06-2.06.94zm-11 1L8.5 8.5l.94-2.06 2.06-.94-2.06-.94L8.5 2.5l-.94 2.06-2.06.94zm10 10l.94 2.06.94-2.06 2.06-.94-2.06-.94-.94-2.06-.94 2.06-2.06.94z\"/><path d=\"M17.41 7.96l-1.37-1.37c-.4-.4-.92-.59-1.43-.59-.52 0-1.04.2-1.43.59L10.3 9.45l-7.72 7.72c-.78.78-.78 2.05 0 2.83L4 21.41c.39.39.9.59 1.41.59.51 0 1.02-.2 1.41-.59l7.78-7.78 2.81-2.81c.8-.78.8-2.07 0-2.86zM5.41 20L4 18.59l7.72-7.72 1.47 1.35L5.41 20z\"/>\n",
              "  </svg>\n",
              "      </button>\n",
              "      \n",
              "  <style>\n",
              "    .colab-df-container {\n",
              "      display:flex;\n",
              "      flex-wrap:wrap;\n",
              "      gap: 12px;\n",
              "    }\n",
              "\n",
              "    .colab-df-convert {\n",
              "      background-color: #E8F0FE;\n",
              "      border: none;\n",
              "      border-radius: 50%;\n",
              "      cursor: pointer;\n",
              "      display: none;\n",
              "      fill: #1967D2;\n",
              "      height: 32px;\n",
              "      padding: 0 0 0 0;\n",
              "      width: 32px;\n",
              "    }\n",
              "\n",
              "    .colab-df-convert:hover {\n",
              "      background-color: #E2EBFA;\n",
              "      box-shadow: 0px 1px 2px rgba(60, 64, 67, 0.3), 0px 1px 3px 1px rgba(60, 64, 67, 0.15);\n",
              "      fill: #174EA6;\n",
              "    }\n",
              "\n",
              "    [theme=dark] .colab-df-convert {\n",
              "      background-color: #3B4455;\n",
              "      fill: #D2E3FC;\n",
              "    }\n",
              "\n",
              "    [theme=dark] .colab-df-convert:hover {\n",
              "      background-color: #434B5C;\n",
              "      box-shadow: 0px 1px 3px 1px rgba(0, 0, 0, 0.15);\n",
              "      filter: drop-shadow(0px 1px 2px rgba(0, 0, 0, 0.3));\n",
              "      fill: #FFFFFF;\n",
              "    }\n",
              "  </style>\n",
              "\n",
              "      <script>\n",
              "        const buttonEl =\n",
              "          document.querySelector('#df-56045c2e-dbcf-4496-b5fc-c427fcea8310 button.colab-df-convert');\n",
              "        buttonEl.style.display =\n",
              "          google.colab.kernel.accessAllowed ? 'block' : 'none';\n",
              "\n",
              "        async function convertToInteractive(key) {\n",
              "          const element = document.querySelector('#df-56045c2e-dbcf-4496-b5fc-c427fcea8310');\n",
              "          const dataTable =\n",
              "            await google.colab.kernel.invokeFunction('convertToInteractive',\n",
              "                                                     [key], {});\n",
              "          if (!dataTable) return;\n",
              "\n",
              "          const docLinkHtml = 'Like what you see? Visit the ' +\n",
              "            '<a target=\"_blank\" href=https://colab.research.google.com/notebooks/data_table.ipynb>data table notebook</a>'\n",
              "            + ' to learn more about interactive tables.';\n",
              "          element.innerHTML = '';\n",
              "          dataTable['output_type'] = 'display_data';\n",
              "          await google.colab.output.renderOutput(dataTable, element);\n",
              "          const docLink = document.createElement('div');\n",
              "          docLink.innerHTML = docLinkHtml;\n",
              "          element.appendChild(docLink);\n",
              "        }\n",
              "      </script>\n",
              "    </div>\n",
              "  </div>\n",
              "  "
            ]
          },
          "metadata": {},
          "execution_count": 17
        }
      ]
    },
    {
      "cell_type": "code",
      "source": [
        "str(pathlib.Path(str(df['path_full'][1])))"
      ],
      "metadata": {
        "colab": {
          "base_uri": "https://localhost:8080/",
          "height": 35
        },
        "id": "mZHf-Yv7T5ZZ",
        "outputId": "fc41efb1-e61a-4fb0-930c-fbb24ec66d48"
      },
      "execution_count": 18,
      "outputs": [
        {
          "output_type": "execute_result",
          "data": {
            "text/plain": [
              "'/content/data_final/imagesl/l/x/t/lxt19d00/502213303.tif'"
            ],
            "application/vnd.google.colaboratory.intrinsic+json": {
              "type": "string"
            }
          },
          "metadata": {},
          "execution_count": 18
        }
      ]
    },
    {
      "cell_type": "code",
      "source": [
        "path"
      ],
      "metadata": {
        "colab": {
          "base_uri": "https://localhost:8080/",
          "height": 35
        },
        "id": "ISFArPtTTnyK",
        "outputId": "d66b3dc9-383b-47a2-b781-701e60cdfe82"
      },
      "execution_count": 19,
      "outputs": [
        {
          "output_type": "execute_result",
          "data": {
            "text/plain": [
              "'/content/data_final'"
            ],
            "application/vnd.google.colaboratory.intrinsic+json": {
              "type": "string"
            }
          },
          "metadata": {},
          "execution_count": 19
        }
      ]
    },
    {
      "cell_type": "code",
      "source": [
        "all_image_path=df['path_full'].values\n",
        "all_image_path[1]"
      ],
      "metadata": {
        "colab": {
          "base_uri": "https://localhost:8080/",
          "height": 35
        },
        "id": "Rq2Kea09OmT9",
        "outputId": "4c9091c5-63f0-4332-fb8d-fffcff80cb0a"
      },
      "execution_count": 20,
      "outputs": [
        {
          "output_type": "execute_result",
          "data": {
            "text/plain": [
              "'/content/data_final/imagesl/l/x/t/lxt19d00/502213303.tif'"
            ],
            "application/vnd.google.colaboratory.intrinsic+json": {
              "type": "string"
            }
          },
          "metadata": {},
          "execution_count": 20
        }
      ]
    },
    {
      "cell_type": "code",
      "source": [
        "all_image_label=df['label'].values\n",
        "all_image_label[1]"
      ],
      "metadata": {
        "colab": {
          "base_uri": "https://localhost:8080/"
        },
        "id": "e_3O-hqaO0tD",
        "outputId": "abf608d2-fe18-4159-ebf8-5b3c4db097a2"
      },
      "execution_count": 21,
      "outputs": [
        {
          "output_type": "execute_result",
          "data": {
            "text/plain": [
              "3"
            ]
          },
          "metadata": {},
          "execution_count": 21
        }
      ]
    },
    {
      "cell_type": "code",
      "source": [
        "x=df['path_full'].values\n",
        "y=df['label'].values"
      ],
      "metadata": {
        "id": "vAnw0xZ16h0G"
      },
      "execution_count": 22,
      "outputs": []
    },
    {
      "cell_type": "code",
      "source": [
        "x"
      ],
      "metadata": {
        "colab": {
          "base_uri": "https://localhost:8080/"
        },
        "id": "H0yBJJ4Y6zQf",
        "outputId": "b8fe1d06-4336-460d-dd30-df08eec1595e"
      },
      "execution_count": 23,
      "outputs": [
        {
          "output_type": "execute_result",
          "data": {
            "text/plain": [
              "array(['/content/data_final/imagesv/v/o/h/voh71d00/509132755+-2755.tif',\n",
              "       '/content/data_final/imagesl/l/x/t/lxt19d00/502213303.tif',\n",
              "       '/content/data_final/imagesx/x/e/d/xed05a00/2075325674.tif', ...,\n",
              "       '/content/data_final/imagesa/a/z/h/azh32d00/2063887153_7176.tif',\n",
              "       '/content/data_final/imagesg/g/p/d/gpd45f00/0060075263.tif',\n",
              "       '/content/data_final/imagesr/r/o/l/rol45d00/2064701657.tif'],\n",
              "      dtype=object)"
            ]
          },
          "metadata": {},
          "execution_count": 23
        }
      ]
    },
    {
      "cell_type": "code",
      "source": [
        "y"
      ],
      "metadata": {
        "colab": {
          "base_uri": "https://localhost:8080/"
        },
        "id": "BLJ_6QH99YQH",
        "outputId": "36c96ed9-4266-4a33-f5c5-5b5fb39ea4d3"
      },
      "execution_count": 24,
      "outputs": [
        {
          "output_type": "execute_result",
          "data": {
            "text/plain": [
              "array([3, 3, 2, ..., 6, 8, 1])"
            ]
          },
          "metadata": {},
          "execution_count": 24
        }
      ]
    },
    {
      "cell_type": "markdown",
      "source": [
        "# Train test split"
      ],
      "metadata": {
        "id": "0h-wlCvB53d2"
      }
    },
    {
      "cell_type": "code",
      "source": [
        "x_train,x_test,y_train,y_test=train_test_split(all_image_path,all_image_label,stratify=all_image_label,train_size=0.7)"
      ],
      "metadata": {
        "id": "LUqj6veo52RM"
      },
      "execution_count": 25,
      "outputs": []
    },
    {
      "cell_type": "markdown",
      "source": [
        "### *val data is actually the test data*"
      ],
      "metadata": {
        "id": "HKj4sXU47heL"
      }
    },
    {
      "cell_type": "code",
      "source": [
        "print(x_train.shape,y_train.shape)\n"
      ],
      "metadata": {
        "colab": {
          "base_uri": "https://localhost:8080/"
        },
        "id": "wap_yUHe-KGR",
        "outputId": "1fc9687b-e20e-40df-b355-16cd2e05228e"
      },
      "execution_count": 26,
      "outputs": [
        {
          "output_type": "stream",
          "name": "stdout",
          "text": [
            "(33600,) (33600,)\n"
          ]
        }
      ]
    },
    {
      "cell_type": "code",
      "source": [
        "\n",
        "def tfdata_generator(images, labels, is_training, batch_size=32):\n",
        "    '''Construct a data generator using tf.Dataset'''\n",
        "    \n",
        "    def parse_function(images, label):\n",
        "        #reading path \n",
        "        image_string = tf.io.read_file(images)\n",
        "        #decoding image\n",
        "        #image = tf.image.decode_jpeg(image_string, channels=3)\n",
        "       \n",
        "        #image=tfio.experimental.image.decode_tiff(image_string)\n",
        "        image=tfio.experimental.image.decode_tiff(image_string)\n",
        "\n",
        "        # This will convert to float values in [0, 1]\n",
        "        image = tf.image.convert_image_dtype(image, tf.float32)\n",
        "        #resize the image\n",
        "        image = tf.image.resize(image, (224, 224))\n",
        "        #plt.imshow(image)\n",
        "        #one hot coding for label\n",
        "        label = tf.one_hot(tf.cast(label, tf.uint8), 16)\n",
        "        return image, label\n",
        "    \n",
        "    def flip(image,label):\n",
        "      image=tf.image.random_flip_up_down(image)\n",
        "      image=tf.image.random_flip_up_down(image)\n",
        "      return image,y\n",
        "\n",
        "    def rotate(image,label):\n",
        "      image=tf.image.rot90(image,3)\n",
        "      return image,label\n",
        "    \n",
        "    #def bright(image,label):\n",
        "      #image=tf.image.adjust_brightness(image,0.2)\n",
        "      #return image,label\n",
        "    #def contrast(image,label)\n",
        "      #image=tf.image.adjust_contrast(image,contrast_factor=0.6)\n",
        "      #return image,label\n",
        "\n",
        "    def color(image,labels):\n",
        "        image = tf.image.random_hue(image, 0.08)\n",
        "        image = tf.image.random_saturation(image, 0.6, 1.6)\n",
        "        image = tf.image.random_brightness(image, 0.05)\n",
        "        image = tf.image.random_contrast(image, 0.7, 1.3)\n",
        "        return image,labels\n",
        "\n",
        "\n",
        "    ##creating a dataset from tensorslices\n",
        "    dataset = tf.data.Dataset.from_tensor_slices((images, labels))\n",
        "    \n",
        "    if is_training:\n",
        "        dataset = dataset.shuffle(5000)  # depends on sample size\n",
        "\n",
        "    # Transform and batch data at the same time\n",
        "    dataset = dataset.apply(tf.data.experimental.map_and_batch( parse_function, batch_size,num_parallel_batches=4,  # cpu cores\n",
        "        drop_remainder=True if is_training else False))\n",
        "    \n",
        "    augmentation=[flip,rotate,color]\n",
        "    \n",
        "    if is_training:\n",
        "      for f in augmentation:\n",
        "        if np.random.uniform(0,1)>0.6:\n",
        "          dataset=dataset.map(f,num_parallel_calls=4)\n",
        "\n",
        "    \n",
        "    #repeat the dataset indefinitely\n",
        "    dataset = dataset.repeat()\n",
        "\n",
        "    \n",
        "    #prefetch the data into CPU/GPU\n",
        "    dataset = dataset.prefetch(tf.data.experimental.AUTOTUNE)\n",
        "\n",
        "    return dataset"
      ],
      "metadata": {
        "id": "Y0OBkw2GkntN"
      },
      "execution_count": 27,
      "outputs": []
    },
    {
      "cell_type": "code",
      "source": [
        "\"\"\"def tfdata_generator(images, labels, is_training, batch_size=32):\n",
        "    '''Construct a data generator using tf.Dataset'''\n",
        "    \n",
        "    def parse_function(images,labels):\n",
        "        #reading path \n",
        "        #image_string = tf.io.read_file(filename)\n",
        "        #decoding image\n",
        "        #image = tf.image.decode_jpeg(image_string, channels=3)\n",
        "        filecontent = tf.io.read_file(images)\n",
        "        image = tfio.experimental.image.decode_tiff(filecontent)\n",
        "\n",
        "        # This will convert to float values in [0, 1]\n",
        "        image = tf.image.convert_image_dtype(image, tf.float32)\n",
        "        \n",
        "        image = tf.image.resize(image, (224, 224))\n",
        "        \n",
        "        y = tf.one_hot(tf.cast(labels, tf.uint8), 8)\n",
        "        return image,y\n",
        "    \n",
        "    def flip(image,labels):\n",
        "        \n",
        "        image = tf.image.random_flip_left_right(image)\n",
        "        image = tf.image.random_flip_up_down(image)\n",
        "        \n",
        "        return image,labels\n",
        "    \n",
        "    def rotate(image,labels):\n",
        "\n",
        "        return tf.image.rot90(image, tf.random.uniform(shape=[], minval=0, maxval=4, dtype=tf.int32)),labels\n",
        "    \n",
        "    def color(image,labels):\n",
        "        #image = tf.image.random_hue(image, 0.08)\n",
        "        image = tf.image.random_saturation(image, 0.6, 1.6)\n",
        "        image = tf.image.random_brightness(image, 0.05)\n",
        "        image = tf.image.random_contrast(image, 0.7, 1.3)\n",
        "        return image,labels\n",
        "    \n",
        "    dataset = tf.data.Dataset.from_tensor_slices((images,labels))\n",
        "    \n",
        "    if is_training:\n",
        "        dataset = dataset.shuffle(5000)  # depends on sample size\n",
        "        \n",
        "    # Transform and batch data at the same time\n",
        "    dataset = dataset.map(parse_function, num_parallel_calls=4)\n",
        "    \n",
        "    augmentations = [flip,rotate,color]\n",
        "    \n",
        "    if is_training:\n",
        "        for f in augmentations:\n",
        "            if np.random.uniform(0,1)>0.6:\n",
        "                dataset = dataset.map(f,num_parallel_calls=4)\n",
        "    \n",
        "    dataset = dataset.repeat()\n",
        "    \n",
        "    dataset = dataset.prefetch(tf.data.experimental.AUTOTUNE)\n",
        "    return dataset\"\"\""
      ],
      "metadata": {
        "id": "OjGVZkCIr16J",
        "colab": {
          "base_uri": "https://localhost:8080/",
          "height": 157
        },
        "outputId": "392edf88-9100-4535-e04e-dd7588b56175"
      },
      "execution_count": 28,
      "outputs": [
        {
          "output_type": "execute_result",
          "data": {
            "text/plain": [
              "\"def tfdata_generator(images, labels, is_training, batch_size=32):\\n    '''Construct a data generator using tf.Dataset'''\\n    \\n    def parse_function(images,labels):\\n        #reading path \\n        #image_string = tf.io.read_file(filename)\\n        #decoding image\\n        #image = tf.image.decode_jpeg(image_string, channels=3)\\n        filecontent = tf.io.read_file(images)\\n        image = tfio.experimental.image.decode_tiff(filecontent)\\n\\n        # This will convert to float values in [0, 1]\\n        image = tf.image.convert_image_dtype(image, tf.float32)\\n        \\n        image = tf.image.resize(image, (224, 224))\\n        \\n        y = tf.one_hot(tf.cast(labels, tf.uint8), 8)\\n        return image,y\\n    \\n    def flip(image,labels):\\n        \\n        image = tf.image.random_flip_left_right(image)\\n        image = tf.image.random_flip_up_down(image)\\n        \\n        return image,labels\\n    \\n    def rotate(image,labels):\\n\\n        return tf.image.rot90(image, tf.random.uniform(shape=[], minval=0, maxval=4, dtype=tf.int32)),labels\\n    \\n    def color(image,labels):\\n        #image = tf.image.random_hue(image, 0.08)\\n        image = tf.image.random_saturation(image, 0.6, 1.6)\\n        image = tf.image.random_brightness(image, 0.05)\\n        image = tf.image.random_contrast(image, 0.7, 1.3)\\n        return image,labels\\n    \\n    dataset = tf.data.Dataset.from_tensor_slices((images,labels))\\n    \\n    if is_training:\\n        dataset = dataset.shuffle(5000)  # depends on sample size\\n        \\n    # Transform and batch data at the same time\\n    dataset = dataset.map(parse_function, num_parallel_calls=4)\\n    \\n    augmentations = [flip,rotate,color]\\n    \\n    if is_training:\\n        for f in augmentations:\\n            if np.random.uniform(0,1)>0.6:\\n                dataset = dataset.map(f,num_parallel_calls=4)\\n    \\n    dataset = dataset.repeat()\\n    \\n    dataset = dataset.prefetch(tf.data.experimental.AUTOTUNE)\\n    return dataset\""
            ],
            "application/vnd.google.colaboratory.intrinsic+json": {
              "type": "string"
            }
          },
          "metadata": {},
          "execution_count": 28
        }
      ]
    },
    {
      "cell_type": "code",
      "source": [
        "\n",
        "train_data_gen=tfdata_generator(x_train,y_train,is_training=True,batch_size=32)"
      ],
      "metadata": {
        "id": "mH_-2h8IvEUG",
        "colab": {
          "base_uri": "https://localhost:8080/"
        },
        "outputId": "f0680eb9-3200-4a9f-e06c-6d01dadd5318"
      },
      "execution_count": 29,
      "outputs": [
        {
          "output_type": "stream",
          "name": "stdout",
          "text": [
            "WARNING:tensorflow:From <ipython-input-27-a13ed33b1c31>:55: map_and_batch (from tensorflow.python.data.experimental.ops.batching) is deprecated and will be removed in a future version.\n",
            "Instructions for updating:\n",
            "Use `tf.data.Dataset.map(map_func, num_parallel_calls)` followed by `tf.data.Dataset.batch(batch_size, drop_remainder)`. Static tf.data optimizations will take care of using the fused implementation.\n"
          ]
        }
      ]
    },
    {
      "cell_type": "code",
      "source": [
        "test_data_gen=tfdata_generator(x_test,y_test,is_training=False,batch_size=32)"
      ],
      "metadata": {
        "id": "ppZ9s12CPXcT"
      },
      "execution_count": 30,
      "outputs": []
    },
    {
      "cell_type": "code",
      "source": [
        "#for train data\n",
        "steps_per_epoch=np.ceil(len(x_train)/32)\n",
        "steps_per_epoch"
      ],
      "metadata": {
        "colab": {
          "base_uri": "https://localhost:8080/"
        },
        "id": "wWLNL0xYS1To",
        "outputId": "fcd5696b-a142-4c18-8eab-49745a93a528"
      },
      "execution_count": 31,
      "outputs": [
        {
          "output_type": "execute_result",
          "data": {
            "text/plain": [
              "1050.0"
            ]
          },
          "metadata": {},
          "execution_count": 31
        }
      ]
    },
    {
      "cell_type": "code",
      "source": [
        "#for train data\n",
        "#for test data\n",
        "import time\n",
        "start=time.time()\n",
        "l=0\n",
        "for x,y in train_data_gen.take(steps_per_epoch):\n",
        "  l+=1\n",
        "  pass\n",
        "end=time.time()\n",
        "print('time taken to load ',(end-start)/60,' minutes')\n",
        "print(l)\n",
        "\n"
      ],
      "metadata": {
        "colab": {
          "base_uri": "https://localhost:8080/"
        },
        "id": "WbqA0mO2TB17",
        "outputId": "3883b5f9-de70-4353-94f4-02465c401021"
      },
      "execution_count": 32,
      "outputs": [
        {
          "output_type": "stream",
          "name": "stdout",
          "text": [
            "time taken to load  5.365756332874298  minutes\n",
            "1050\n"
          ]
        }
      ]
    },
    {
      "cell_type": "code",
      "source": [
        "print(len(x_test),len(x_train))"
      ],
      "metadata": {
        "id": "QwzozrzeTF6t",
        "colab": {
          "base_uri": "https://localhost:8080/"
        },
        "outputId": "ad092b1a-eed3-4603-9e86-f630957b6444"
      },
      "execution_count": 33,
      "outputs": [
        {
          "output_type": "stream",
          "name": "stdout",
          "text": [
            "14400 33600\n"
          ]
        }
      ]
    },
    {
      "cell_type": "code",
      "source": [
        "steps_per_epoch_val=np.ceil(len(x_test)/32)\n",
        "steps_per_epoch_val"
      ],
      "metadata": {
        "id": "pSKn7aimS1We",
        "colab": {
          "base_uri": "https://localhost:8080/"
        },
        "outputId": "2182e480-e5da-40de-e1d4-d35c0ced1a98"
      },
      "execution_count": 34,
      "outputs": [
        {
          "output_type": "execute_result",
          "data": {
            "text/plain": [
              "450.0"
            ]
          },
          "metadata": {},
          "execution_count": 34
        }
      ]
    },
    {
      "cell_type": "code",
      "source": [
        "#for test data\n",
        "start=time.time()\n",
        "l=0\n",
        "for x,y in test_data_gen.take(steps_per_epoch_val):\n",
        "  l+=1\n",
        "  pass\n",
        "end=time.time()\n",
        "print('time taken to load ',(end-start)/60,' minutes')\n",
        "print(l)"
      ],
      "metadata": {
        "id": "Es5XTLsAS1az",
        "colab": {
          "base_uri": "https://localhost:8080/"
        },
        "outputId": "234813b1-edfd-4f7a-9330-cda8361f00c7"
      },
      "execution_count": 35,
      "outputs": [
        {
          "output_type": "stream",
          "name": "stdout",
          "text": [
            "time taken to load  1.9396998286247253  minutes\n",
            "450\n"
          ]
        }
      ]
    },
    {
      "cell_type": "markdown",
      "source": [
        "# Building models"
      ],
      "metadata": {
        "id": "vkYNfu4MHEQZ"
      }
    },
    {
      "cell_type": "code",
      "source": [
        "import tensorflow as tf\n"
      ],
      "metadata": {
        "id": "ZaTLwkdKlh4Q"
      },
      "execution_count": 36,
      "outputs": []
    },
    {
      "cell_type": "code",
      "source": [
        "from tensorflow.keras.layers import Input\n",
        "from tensorflow.keras.activations import sigmoid\n",
        "from tensorflow.keras.activations import softmax\n",
        "from tensorflow.keras.activations import relu"
      ],
      "metadata": {
        "id": "6JUpXhoys1Ty"
      },
      "execution_count": 37,
      "outputs": []
    },
    {
      "cell_type": "code",
      "source": [
        "\n",
        "from tensorflow.keras import Model \n"
      ],
      "metadata": {
        "id": "Q0MNuJf4ld5k"
      },
      "execution_count": 38,
      "outputs": []
    },
    {
      "cell_type": "code",
      "source": [
        "\n",
        "import tensorflow"
      ],
      "metadata": {
        "id": "wKB42n5gpWQB"
      },
      "execution_count": 39,
      "outputs": []
    },
    {
      "cell_type": "code",
      "source": [
        "from tensorflow.keras.applications import vgg16 \n"
      ],
      "metadata": {
        "id": "3TNCdir1S1cr"
      },
      "execution_count": 40,
      "outputs": []
    },
    {
      "cell_type": "code",
      "source": [
        "\"\"\"vgg_1=VGG16(weights='imagenet',include_top=False,input_shape=(224,224,3))\n",
        "\"\"\""
      ],
      "metadata": {
        "id": "5Y46P0lrS1gl",
        "colab": {
          "base_uri": "https://localhost:8080/",
          "height": 35
        },
        "outputId": "0e56e522-665f-4fb9-9a64-8a6dbe3801d4"
      },
      "execution_count": 41,
      "outputs": [
        {
          "output_type": "execute_result",
          "data": {
            "text/plain": [
              "\"vgg_1=VGG16(weights='imagenet',include_top=False,input_shape=(224,224,3))\\n\""
            ],
            "application/vnd.google.colaboratory.intrinsic+json": {
              "type": "string"
            }
          },
          "metadata": {},
          "execution_count": 41
        }
      ]
    },
    {
      "cell_type": "code",
      "source": [
        ""
      ],
      "metadata": {
        "id": "2C9BbUNWkrsv"
      },
      "execution_count": 41,
      "outputs": []
    },
    {
      "cell_type": "code",
      "source": [
        "tensorflow.keras.backend.clear_session()\n",
        "base_model=vgg16.VGG16(weights='imagenet',include_top=False)\n",
        "base_model.trainable=False\n",
        "input_layer=Input(shape=(224,224,3),name='input_layer')"
      ],
      "metadata": {
        "id": "O_8H_YYh2nbe"
      },
      "execution_count": 42,
      "outputs": []
    },
    {
      "cell_type": "code",
      "source": [
        "x=base_model(input_layer)"
      ],
      "metadata": {
        "id": "SFyrF9H_BLsJ"
      },
      "execution_count": 43,
      "outputs": []
    },
    {
      "cell_type": "code",
      "source": [
        "conv1=Conv2D(128,(3,3),activation=relu,kernel_initializer=tf.keras.initializers.he_normal())(x)\n",
        "mp1=MaxPool2D()(conv1)\n",
        "#flattening\n",
        "flat1=Flatten()(mp1)\n",
        "#1st dense or fuly connected layer\n",
        "fc1=Dense(50,activation=relu,kernel_initializer=tf.keras.initializers.he_normal())(flat1)\n",
        "fc2=Dense(50,activation=relu,kernel_initializer=tf.keras.initializers.he_normal())(fc1)\n",
        "#output layer for 16 classes\n",
        "output_layer=Dense(16,activation=softmax)(fc2)\n",
        "\n",
        "model_1=Model(inputs=input_layer,outputs=output_layer)\n",
        "model_1.summary()\n"
      ],
      "metadata": {
        "id": "ZStdT4qU1gJ2",
        "colab": {
          "base_uri": "https://localhost:8080/"
        },
        "outputId": "d7fb06a4-c8ea-4257-c56f-373bd3558ea0"
      },
      "execution_count": 44,
      "outputs": [
        {
          "output_type": "stream",
          "name": "stdout",
          "text": [
            "Model: \"model\"\n",
            "_________________________________________________________________\n",
            " Layer (type)                Output Shape              Param #   \n",
            "=================================================================\n",
            " input_layer (InputLayer)    [(None, 224, 224, 3)]     0         \n",
            "                                                                 \n",
            " vgg16 (Functional)          (None, None, None, 512)   14714688  \n",
            "                                                                 \n",
            " conv2d (Conv2D)             (None, 5, 5, 128)         589952    \n",
            "                                                                 \n",
            " max_pooling2d (MaxPooling2D  (None, 2, 2, 128)        0         \n",
            " )                                                               \n",
            "                                                                 \n",
            " flatten (Flatten)           (None, 512)               0         \n",
            "                                                                 \n",
            " dense (Dense)               (None, 50)                25650     \n",
            "                                                                 \n",
            " dense_1 (Dense)             (None, 50)                2550      \n",
            "                                                                 \n",
            " dense_2 (Dense)             (None, 16)                816       \n",
            "                                                                 \n",
            "=================================================================\n",
            "Total params: 15,333,656\n",
            "Trainable params: 618,968\n",
            "Non-trainable params: 14,714,688\n",
            "_________________________________________________________________\n"
          ]
        }
      ]
    },
    {
      "cell_type": "code",
      "source": [
        ""
      ],
      "metadata": {
        "id": "KJQuLPID-2sU"
      },
      "execution_count": 44,
      "outputs": []
    },
    {
      "cell_type": "code",
      "source": [
        "optmzer=tf.keras.optimizers.Adam()"
      ],
      "metadata": {
        "id": "CXifLDZc_eay"
      },
      "execution_count": 45,
      "outputs": []
    },
    {
      "cell_type": "code",
      "source": [
        "model_1.compile(loss='categorical_crossentropy',optimizer=optmzer,metrics=['accuracy'])"
      ],
      "metadata": {
        "id": "6igjeZPQ-2vH"
      },
      "execution_count": 46,
      "outputs": []
    },
    {
      "cell_type": "markdown",
      "source": [
        "# creating call backs:: "
      ],
      "metadata": {
        "id": "LgIsNZTiDG2a"
      }
    },
    {
      "cell_type": "code",
      "source": [
        "from tensorflow.keras import callbacks\n",
        "from datetime import datetime"
      ],
      "metadata": {
        "id": "IYtoWTr9DaF3"
      },
      "execution_count": 47,
      "outputs": []
    },
    {
      "cell_type": "code",
      "source": [
        "def lr_decay(epoch,lr):\n",
        "  if epoch!=0 and epoch%4==0:\n",
        "    lr=lr*0.5\n",
        "  return lr \n",
        "\n",
        "lr_scheduler=callbacks.LearningRateScheduler(schedule=lr_decay)"
      ],
      "metadata": {
        "id": "PfURnOaWQ5C8"
      },
      "execution_count": 48,
      "outputs": []
    },
    {
      "cell_type": "code",
      "source": [
        "name='Model_1'\n",
        "#logdir='logs/'+datetime.now().strftime(\"%Y%m%d-%H%M%S\")\n",
        "logdir=os.path.join('logs',datetime.now().strftime(\"%Y%m%d=%H%M%S\"),name)\n",
        "tfboard=callbacks.TensorBoard(log_dir=logdir,histogram_freq=1)"
      ],
      "metadata": {
        "id": "ORUchHhWDaKC"
      },
      "execution_count": 49,
      "outputs": []
    },
    {
      "cell_type": "code",
      "source": [
        "reuduce_on_platue=callbacks.ReduceLROnPlateau()\n"
      ],
      "metadata": {
        "id": "tFrVuMrMRcUr"
      },
      "execution_count": 50,
      "outputs": []
    },
    {
      "cell_type": "code",
      "source": [
        "\n",
        "checkpoint_path = 'model_checkpoints/'\n",
        "os.mkdir=checkpoint_path\n",
        "checkpoint = callbacks.ModelCheckpoint(\n",
        "    filepath=checkpoint_path,\n",
        "    save_freq='epoch',\n",
        "    save_weights_only=True,\n",
        "    verbose=1\n",
        ")"
      ],
      "metadata": {
        "id": "3n7Wd-nEDaM4"
      },
      "execution_count": 51,
      "outputs": []
    },
    {
      "cell_type": "code",
      "source": [
        "model_1.fit_generator(train_data_gen,steps_per_epoch=1050,epochs=5,use_multiprocessing=True,\n",
        "                      callbacks=[lr_scheduler,reuduce_on_platue,checkpoint])"
      ],
      "metadata": {
        "id": "UwvzM0Hw-2xi",
        "colab": {
          "base_uri": "https://localhost:8080/",
          "height": 1000
        },
        "outputId": "eab91cb1-5da6-47ac-ffb6-6e389edbf794"
      },
      "execution_count": 52,
      "outputs": [
        {
          "output_type": "stream",
          "name": "stdout",
          "text": [
            "Epoch 1/5\n"
          ]
        },
        {
          "output_type": "stream",
          "name": "stderr",
          "text": [
            "/usr/local/lib/python3.7/dist-packages/ipykernel_launcher.py:2: UserWarning: `Model.fit_generator` is deprecated and will be removed in a future version. Please use `Model.fit`, which supports generators.\n",
            "  \n"
          ]
        },
        {
          "output_type": "error",
          "ename": "InvalidArgumentError",
          "evalue": "ignored",
          "traceback": [
            "\u001b[0;31m---------------------------------------------------------------------------\u001b[0m",
            "\u001b[0;31mInvalidArgumentError\u001b[0m                      Traceback (most recent call last)",
            "\u001b[0;32m<ipython-input-52-374e96676ef2>\u001b[0m in \u001b[0;36m<module>\u001b[0;34m()\u001b[0m\n\u001b[1;32m      1\u001b[0m model_1.fit_generator(train_data_gen,steps_per_epoch=1050,epochs=5,use_multiprocessing=True,\n\u001b[0;32m----> 2\u001b[0;31m                       callbacks=[lr_scheduler,reuduce_on_platue,checkpoint])\n\u001b[0m",
            "\u001b[0;32m/usr/local/lib/python3.7/dist-packages/keras/engine/training.py\u001b[0m in \u001b[0;36mfit_generator\u001b[0;34m(self, generator, steps_per_epoch, epochs, verbose, callbacks, validation_data, validation_steps, validation_freq, class_weight, max_queue_size, workers, use_multiprocessing, shuffle, initial_epoch)\u001b[0m\n\u001b[1;32m   2221\u001b[0m         \u001b[0muse_multiprocessing\u001b[0m\u001b[0;34m=\u001b[0m\u001b[0muse_multiprocessing\u001b[0m\u001b[0;34m,\u001b[0m\u001b[0;34m\u001b[0m\u001b[0;34m\u001b[0m\u001b[0m\n\u001b[1;32m   2222\u001b[0m         \u001b[0mshuffle\u001b[0m\u001b[0;34m=\u001b[0m\u001b[0mshuffle\u001b[0m\u001b[0;34m,\u001b[0m\u001b[0;34m\u001b[0m\u001b[0;34m\u001b[0m\u001b[0m\n\u001b[0;32m-> 2223\u001b[0;31m         initial_epoch=initial_epoch)\n\u001b[0m\u001b[1;32m   2224\u001b[0m \u001b[0;34m\u001b[0m\u001b[0m\n\u001b[1;32m   2225\u001b[0m   \u001b[0;34m@\u001b[0m\u001b[0mdoc_controls\u001b[0m\u001b[0;34m.\u001b[0m\u001b[0mdo_not_generate_docs\u001b[0m\u001b[0;34m\u001b[0m\u001b[0;34m\u001b[0m\u001b[0m\n",
            "\u001b[0;32m/usr/local/lib/python3.7/dist-packages/keras/utils/traceback_utils.py\u001b[0m in \u001b[0;36merror_handler\u001b[0;34m(*args, **kwargs)\u001b[0m\n\u001b[1;32m     65\u001b[0m     \u001b[0;32mexcept\u001b[0m \u001b[0mException\u001b[0m \u001b[0;32mas\u001b[0m \u001b[0me\u001b[0m\u001b[0;34m:\u001b[0m  \u001b[0;31m# pylint: disable=broad-except\u001b[0m\u001b[0;34m\u001b[0m\u001b[0;34m\u001b[0m\u001b[0m\n\u001b[1;32m     66\u001b[0m       \u001b[0mfiltered_tb\u001b[0m \u001b[0;34m=\u001b[0m \u001b[0m_process_traceback_frames\u001b[0m\u001b[0;34m(\u001b[0m\u001b[0me\u001b[0m\u001b[0;34m.\u001b[0m\u001b[0m__traceback__\u001b[0m\u001b[0;34m)\u001b[0m\u001b[0;34m\u001b[0m\u001b[0;34m\u001b[0m\u001b[0m\n\u001b[0;32m---> 67\u001b[0;31m       \u001b[0;32mraise\u001b[0m \u001b[0me\u001b[0m\u001b[0;34m.\u001b[0m\u001b[0mwith_traceback\u001b[0m\u001b[0;34m(\u001b[0m\u001b[0mfiltered_tb\u001b[0m\u001b[0;34m)\u001b[0m \u001b[0;32mfrom\u001b[0m \u001b[0;32mNone\u001b[0m\u001b[0;34m\u001b[0m\u001b[0;34m\u001b[0m\u001b[0m\n\u001b[0m\u001b[1;32m     68\u001b[0m     \u001b[0;32mfinally\u001b[0m\u001b[0;34m:\u001b[0m\u001b[0;34m\u001b[0m\u001b[0;34m\u001b[0m\u001b[0m\n\u001b[1;32m     69\u001b[0m       \u001b[0;32mdel\u001b[0m \u001b[0mfiltered_tb\u001b[0m\u001b[0;34m\u001b[0m\u001b[0;34m\u001b[0m\u001b[0m\n",
            "\u001b[0;32m/usr/local/lib/python3.7/dist-packages/tensorflow/python/eager/execute.py\u001b[0m in \u001b[0;36mquick_execute\u001b[0;34m(op_name, num_outputs, inputs, attrs, ctx, name)\u001b[0m\n\u001b[1;32m     53\u001b[0m     \u001b[0mctx\u001b[0m\u001b[0;34m.\u001b[0m\u001b[0mensure_initialized\u001b[0m\u001b[0;34m(\u001b[0m\u001b[0;34m)\u001b[0m\u001b[0;34m\u001b[0m\u001b[0;34m\u001b[0m\u001b[0m\n\u001b[1;32m     54\u001b[0m     tensors = pywrap_tfe.TFE_Py_Execute(ctx._handle, device_name, op_name,\n\u001b[0;32m---> 55\u001b[0;31m                                         inputs, attrs, num_outputs)\n\u001b[0m\u001b[1;32m     56\u001b[0m   \u001b[0;32mexcept\u001b[0m \u001b[0mcore\u001b[0m\u001b[0;34m.\u001b[0m\u001b[0m_NotOkStatusException\u001b[0m \u001b[0;32mas\u001b[0m \u001b[0me\u001b[0m\u001b[0;34m:\u001b[0m\u001b[0;34m\u001b[0m\u001b[0;34m\u001b[0m\u001b[0m\n\u001b[1;32m     57\u001b[0m     \u001b[0;32mif\u001b[0m \u001b[0mname\u001b[0m \u001b[0;32mis\u001b[0m \u001b[0;32mnot\u001b[0m \u001b[0;32mNone\u001b[0m\u001b[0;34m:\u001b[0m\u001b[0;34m\u001b[0m\u001b[0;34m\u001b[0m\u001b[0m\n",
            "\u001b[0;31mInvalidArgumentError\u001b[0m: Graph execution error:\n\nDetected at node 'model/vgg16/block1_conv1/Relu' defined at (most recent call last):\n    File \"/usr/lib/python3.7/runpy.py\", line 193, in _run_module_as_main\n      \"__main__\", mod_spec)\n    File \"/usr/lib/python3.7/runpy.py\", line 85, in _run_code\n      exec(code, run_globals)\n    File \"/usr/local/lib/python3.7/dist-packages/ipykernel_launcher.py\", line 16, in <module>\n      app.launch_new_instance()\n    File \"/usr/local/lib/python3.7/dist-packages/traitlets/config/application.py\", line 846, in launch_instance\n      app.start()\n    File \"/usr/local/lib/python3.7/dist-packages/ipykernel/kernelapp.py\", line 499, in start\n      self.io_loop.start()\n    File \"/usr/local/lib/python3.7/dist-packages/tornado/platform/asyncio.py\", line 132, in start\n      self.asyncio_loop.run_forever()\n    File \"/usr/lib/python3.7/asyncio/base_events.py\", line 541, in run_forever\n      self._run_once()\n    File \"/usr/lib/python3.7/asyncio/base_events.py\", line 1786, in _run_once\n      handle._run()\n    File \"/usr/lib/python3.7/asyncio/events.py\", line 88, in _run\n      self._context.run(self._callback, *self._args)\n    File \"/usr/local/lib/python3.7/dist-packages/tornado/ioloop.py\", line 758, in _run_callback\n      ret = callback()\n    File \"/usr/local/lib/python3.7/dist-packages/tornado/stack_context.py\", line 300, in null_wrapper\n      return fn(*args, **kwargs)\n    File \"/usr/local/lib/python3.7/dist-packages/zmq/eventloop/zmqstream.py\", line 536, in <lambda>\n      self.io_loop.add_callback(lambda: self._handle_events(self.socket, 0))\n    File \"/usr/local/lib/python3.7/dist-packages/zmq/eventloop/zmqstream.py\", line 452, in _handle_events\n      self._handle_recv()\n    File \"/usr/local/lib/python3.7/dist-packages/zmq/eventloop/zmqstream.py\", line 481, in _handle_recv\n      self._run_callback(callback, msg)\n    File \"/usr/local/lib/python3.7/dist-packages/zmq/eventloop/zmqstream.py\", line 431, in _run_callback\n      callback(*args, **kwargs)\n    File \"/usr/local/lib/python3.7/dist-packages/tornado/stack_context.py\", line 300, in null_wrapper\n      return fn(*args, **kwargs)\n    File \"/usr/local/lib/python3.7/dist-packages/ipykernel/kernelbase.py\", line 283, in dispatcher\n      return self.dispatch_shell(stream, msg)\n    File \"/usr/local/lib/python3.7/dist-packages/ipykernel/kernelbase.py\", line 233, in dispatch_shell\n      handler(stream, idents, msg)\n    File \"/usr/local/lib/python3.7/dist-packages/ipykernel/kernelbase.py\", line 399, in execute_request\n      user_expressions, allow_stdin)\n    File \"/usr/local/lib/python3.7/dist-packages/ipykernel/ipkernel.py\", line 208, in do_execute\n      res = shell.run_cell(code, store_history=store_history, silent=silent)\n    File \"/usr/local/lib/python3.7/dist-packages/ipykernel/zmqshell.py\", line 537, in run_cell\n      return super(ZMQInteractiveShell, self).run_cell(*args, **kwargs)\n    File \"/usr/local/lib/python3.7/dist-packages/IPython/core/interactiveshell.py\", line 2718, in run_cell\n      interactivity=interactivity, compiler=compiler, result=result)\n    File \"/usr/local/lib/python3.7/dist-packages/IPython/core/interactiveshell.py\", line 2828, in run_ast_nodes\n      if self.run_code(code, result):\n    File \"/usr/local/lib/python3.7/dist-packages/IPython/core/interactiveshell.py\", line 2882, in run_code\n      exec(code_obj, self.user_global_ns, self.user_ns)\n    File \"<ipython-input-52-374e96676ef2>\", line 2, in <module>\n      callbacks=[lr_scheduler,reuduce_on_platue,checkpoint])\n    File \"/usr/local/lib/python3.7/dist-packages/keras/engine/training.py\", line 2223, in fit_generator\n      initial_epoch=initial_epoch)\n    File \"/usr/local/lib/python3.7/dist-packages/keras/utils/traceback_utils.py\", line 64, in error_handler\n      return fn(*args, **kwargs)\n    File \"/usr/local/lib/python3.7/dist-packages/keras/engine/training.py\", line 1384, in fit\n      tmp_logs = self.train_function(iterator)\n    File \"/usr/local/lib/python3.7/dist-packages/keras/engine/training.py\", line 1021, in train_function\n      return step_function(self, iterator)\n    File \"/usr/local/lib/python3.7/dist-packages/keras/engine/training.py\", line 1010, in step_function\n      outputs = model.distribute_strategy.run(run_step, args=(data,))\n    File \"/usr/local/lib/python3.7/dist-packages/keras/engine/training.py\", line 1000, in run_step\n      outputs = model.train_step(data)\n    File \"/usr/local/lib/python3.7/dist-packages/keras/engine/training.py\", line 859, in train_step\n      y_pred = self(x, training=True)\n    File \"/usr/local/lib/python3.7/dist-packages/keras/utils/traceback_utils.py\", line 64, in error_handler\n      return fn(*args, **kwargs)\n    File \"/usr/local/lib/python3.7/dist-packages/keras/engine/base_layer.py\", line 1096, in __call__\n      outputs = call_fn(inputs, *args, **kwargs)\n    File \"/usr/local/lib/python3.7/dist-packages/keras/utils/traceback_utils.py\", line 92, in error_handler\n      return fn(*args, **kwargs)\n    File \"/usr/local/lib/python3.7/dist-packages/keras/engine/functional.py\", line 452, in call\n      inputs, training=training, mask=mask)\n    File \"/usr/local/lib/python3.7/dist-packages/keras/engine/functional.py\", line 589, in _run_internal_graph\n      outputs = node.layer(*args, **kwargs)\n    File \"/usr/local/lib/python3.7/dist-packages/keras/utils/traceback_utils.py\", line 64, in error_handler\n      return fn(*args, **kwargs)\n    File \"/usr/local/lib/python3.7/dist-packages/keras/engine/base_layer.py\", line 1096, in __call__\n      outputs = call_fn(inputs, *args, **kwargs)\n    File \"/usr/local/lib/python3.7/dist-packages/keras/utils/traceback_utils.py\", line 92, in error_handler\n      return fn(*args, **kwargs)\n    File \"/usr/local/lib/python3.7/dist-packages/keras/engine/functional.py\", line 452, in call\n      inputs, training=training, mask=mask)\n    File \"/usr/local/lib/python3.7/dist-packages/keras/engine/functional.py\", line 589, in _run_internal_graph\n      outputs = node.layer(*args, **kwargs)\n    File \"/usr/local/lib/python3.7/dist-packages/keras/utils/traceback_utils.py\", line 64, in error_handler\n      return fn(*args, **kwargs)\n    File \"/usr/local/lib/python3.7/dist-packages/keras/engine/base_layer.py\", line 1096, in __call__\n      outputs = call_fn(inputs, *args, **kwargs)\n    File \"/usr/local/lib/python3.7/dist-packages/keras/utils/traceback_utils.py\", line 92, in error_handler\n      return fn(*args, **kwargs)\n    File \"/usr/local/lib/python3.7/dist-packages/keras/layers/convolutional.py\", line 275, in call\n      return self.activation(outputs)\n    File \"/usr/local/lib/python3.7/dist-packages/keras/activations.py\", line 311, in relu\n      return backend.relu(x, alpha=alpha, max_value=max_value, threshold=threshold)\n    File \"/usr/local/lib/python3.7/dist-packages/keras/backend.py\", line 4956, in relu\n      x = tf.nn.relu(x)\nNode: 'model/vgg16/block1_conv1/Relu'\ninput depth must be evenly divisible by filter depth: 4 vs 3\n\t [[{{node model/vgg16/block1_conv1/Relu}}]] [Op:__inference_train_function_4651]"
          ]
        }
      ]
    },
    {
      "cell_type": "code",
      "source": [
        "model_1.input_shape"
      ],
      "metadata": {
        "id": "Da5v-PUM-2z3",
        "colab": {
          "base_uri": "https://localhost:8080/"
        },
        "outputId": "c74b9a40-57d2-453e-ee65-5db815740852"
      },
      "execution_count": 53,
      "outputs": [
        {
          "output_type": "execute_result",
          "data": {
            "text/plain": [
              "(None, 224, 224, 3)"
            ]
          },
          "metadata": {},
          "execution_count": 53
        }
      ]
    },
    {
      "cell_type": "code",
      "source": [
        "model_1.output_shape"
      ],
      "metadata": {
        "id": "AltjS3j3-22b",
        "colab": {
          "base_uri": "https://localhost:8080/"
        },
        "outputId": "b330fa07-a1f4-439d-b9c2-ca7977bb1340"
      },
      "execution_count": 54,
      "outputs": [
        {
          "output_type": "execute_result",
          "data": {
            "text/plain": [
              "(None, 16)"
            ]
          },
          "metadata": {},
          "execution_count": 54
        }
      ]
    },
    {
      "cell_type": "code",
      "source": [
        ""
      ],
      "metadata": {
        "id": "hCxWlxxG-24u"
      },
      "execution_count": null,
      "outputs": []
    },
    {
      "cell_type": "code",
      "source": [
        ""
      ],
      "metadata": {
        "id": "CEOETuLU-29l"
      },
      "execution_count": null,
      "outputs": []
    },
    {
      "cell_type": "code",
      "source": [
        ""
      ],
      "metadata": {
        "id": "ajrNZPZ41AJT"
      },
      "execution_count": null,
      "outputs": []
    },
    {
      "cell_type": "code",
      "source": [
        ""
      ],
      "metadata": {
        "id": "sOaycFbhv3zb"
      },
      "execution_count": null,
      "outputs": []
    },
    {
      "cell_type": "code",
      "source": [
        ""
      ],
      "metadata": {
        "id": "YOCxMrt2ABtD"
      },
      "execution_count": null,
      "outputs": []
    },
    {
      "cell_type": "code",
      "source": [
        ""
      ],
      "metadata": {
        "id": "DMqSucNc8XF1"
      },
      "execution_count": 54,
      "outputs": []
    },
    {
      "cell_type": "code",
      "source": [
        ""
      ],
      "metadata": {
        "id": "D05lmp2h8n1H"
      },
      "execution_count": 54,
      "outputs": []
    },
    {
      "cell_type": "code",
      "source": [
        ""
      ],
      "metadata": {
        "id": "MlUwp8WFAPkX"
      },
      "execution_count": 54,
      "outputs": []
    },
    {
      "cell_type": "code",
      "source": [
        ""
      ],
      "metadata": {
        "id": "ZOXvXVU7CDdy"
      },
      "execution_count": 54,
      "outputs": []
    },
    {
      "cell_type": "code",
      "source": [
        ""
      ],
      "metadata": {
        "id": "rPrVS2L9CJAw"
      },
      "execution_count": 54,
      "outputs": []
    },
    {
      "cell_type": "code",
      "source": [
        ""
      ],
      "metadata": {
        "id": "mSzygNe7CUt0"
      },
      "execution_count": 54,
      "outputs": []
    },
    {
      "cell_type": "code",
      "source": [
        ""
      ],
      "metadata": {
        "id": "mgTRZY-vXFvi"
      },
      "execution_count": 54,
      "outputs": []
    },
    {
      "cell_type": "code",
      "source": [
        ""
      ],
      "metadata": {
        "id": "MSnAIRSyXSa1"
      },
      "execution_count": 54,
      "outputs": []
    },
    {
      "cell_type": "code",
      "source": [
        ""
      ],
      "metadata": {
        "id": "5tFbBMG2Xiwf"
      },
      "execution_count": 54,
      "outputs": []
    },
    {
      "cell_type": "code",
      "source": [
        ""
      ],
      "metadata": {
        "id": "LyyNc1POXmcP"
      },
      "execution_count": 54,
      "outputs": []
    },
    {
      "cell_type": "code",
      "source": [
        "\n"
      ],
      "metadata": {
        "id": "jmetVxTqXwl_"
      },
      "execution_count": 54,
      "outputs": []
    },
    {
      "cell_type": "code",
      "source": [
        ""
      ],
      "metadata": {
        "id": "gr7iKX-axfKZ"
      },
      "execution_count": null,
      "outputs": []
    }
  ]
}